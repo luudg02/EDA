{
 "cells": [
  {
   "cell_type": "markdown",
   "metadata": {
    "id": "W6LxvRz4LO15"
   },
   "source": [
    "<div class=\"markdown-google-sans\">\n",
    "  <h1>Section 1: Exploratory Data Analysis</h1>\n",
    "</div>\n",
    "\n",
    "Thực hành xử lý dữ liệu\n",
    "\n",
    "<br/>\n",
    "Data được lấy từ Kaggle: https://www.kaggle.com/code/upadorprofzs/eda-video-game-sales/data <br/>\n",
    "\n",
    "\n",
    "Đây là dữ liệu về những trò chơi điện tử mà bán được hon 100,000 bản. Dữ liệu này được thu thập bởi vgchartz.com.\n",
    "\n",
    "\n",
    " <br />\n"
   ]
  },
  {
   "cell_type": "markdown",
   "metadata": {
    "id": "z5W8L1YVOne0"
   },
   "source": [
    "## 1. Import các thư viện cần thiết\n",
    "Nên để ở đầu trang để dễ dàng thêm bớt, mỗi nơi thêm một thư viện là tìm lại đau mắt luôn đó"
   ]
  },
  {
   "cell_type": "code",
   "execution_count": null,
   "metadata": {
    "executionInfo": {
     "elapsed": 1208,
     "status": "ok",
     "timestamp": 1666742072179,
     "user": {
      "displayName": "Vu Dam",
      "userId": "08349793932940266028"
     },
     "user_tz": -420
    },
    "id": "KNXobnxlL41A"
   },
   "outputs": [],
   "source": [
    "# Import thư viện pandas để xử lý và phân tích dữ liệu\n",
    "import pandas as pd\n",
    "\n",
    "# Import thư viện plotly.express để tạo biểu đồ tương tác\n",
    "import plotly.express as px"
   ]
  },
  {
   "cell_type": "markdown",
   "metadata": {
    "id": "vo6zGSZBOvSp"
   },
   "source": [
    "## 2. Đọc dữ liệu vào DataFrame"
   ]
  },
  {
   "cell_type": "code",
   "execution_count": null,
   "metadata": {
    "colab": {
     "base_uri": "https://localhost:8080/"
    },
    "executionInfo": {
     "elapsed": 18817,
     "status": "ok",
     "timestamp": 1666742090994,
     "user": {
      "displayName": "Vu Dam",
      "userId": "08349793932940266028"
     },
     "user_tz": -420
    },
    "id": "OeyXI3VHTfQC",
    "outputId": "d4d94237-4ec5-4646-825b-c8ad3d16303d"
   },
   "outputs": [
    {
     "name": "stdout",
     "output_type": "stream",
     "text": [
      "Drive already mounted at /content/drive; to attempt to forcibly remount, call drive.mount(\"/content/drive\", force_remount=True).\n"
     ]
    }
   ],
   "source": [
    "# Nhập module drive từ thư viện google.colab để có thể truy cập Google Drive từ Colab\n",
    "from google.colab import drive\n",
    "# Kết nối và gắn (mount) Google Drive vào thư mục /content/drive để có thể đọc và ghi dữ liệu\n",
    "drive.mount('/content/drive')"
   ]
  },
  {
   "cell_type": "code",
   "execution_count": null,
   "metadata": {
    "executionInfo": {
     "elapsed": 5,
     "status": "ok",
     "timestamp": 1666742090995,
     "user": {
      "displayName": "Vu Dam",
      "userId": "08349793932940266028"
     },
     "user_tz": -420
    },
    "id": "bNr8oHweOqsp"
   },
   "outputs": [],
   "source": [
    "# File này chứa thông tin về các trò chơi bán được hơn 100,000 bản từ vgchartz.com\n",
    "# Dữ liệu được lưu vào biến df (DataFrame) để phân tích\n",
    "df = pd.read_csv('/content/drive/MyDrive/Colab Notebooks/vgsales.csv')\n",
    "# Dữ liệu được lưu vào biến df (DataFrame) để phân tích\n",
    "# File này chứa thông tin về các trò chơi bán được hơn 100,000 bản từ vgchartz.com. Đọc CSV file chứa CSV dữ liệu chứa về doanh dữ số bán liệu game từ về đường doanh dẫn trong số Google Drive bán game từ đường dẫn trong Google Drive"
   ]
  },
  {
   "cell_type": "markdown",
   "metadata": {
    "id": "p-t8Nub9uuLp"
   },
   "source": [
    "## 3. Data Overview"
   ]
  },
  {
   "cell_type": "markdown",
   "metadata": {
    "id": "jUu6_eUPwPO7"
   },
   "source": [
    "**Data fields: (Given to you)**\n",
    "\n",
    "Name - The games name\n",
    "\n",
    "Platform - Platform of the games release (i.e. PC,PS4, etc.)\n",
    "\n",
    "Year - Year of the game's release\n",
    "\n",
    "Genre - Genre of the game\n",
    "\n",
    "Publisher - Publisher of the game\n",
    "\n",
    "NA_Sales - Sales in North America (in millions)\n",
    "\n",
    "EU_Sales - Sales in Europe (in millions)\n",
    "\n",
    "JP_Sales - Sales in Japan (in millions)\n",
    "\n",
    "Other_Sales - Sales in the rest of the world (in millions)\n",
    "\n",
    "Global_Sales - Total worldwide sales.\n",
    "\n",
    "**Seeing the data can make you understand the fields more**"
   ]
  },
  {
   "cell_type": "code",
   "execution_count": null,
   "metadata": {
    "colab": {
     "base_uri": "https://localhost:8080/"
    },
    "executionInfo": {
     "elapsed": 358,
     "status": "ok",
     "timestamp": 1665221985957,
     "user": {
      "displayName": "Vu Dam",
      "userId": "08349793932940266028"
     },
     "user_tz": -420
    },
    "id": "UZgOyNuKy4IQ",
    "outputId": "3dbf28dd-bf1e-48ed-9bad-18edc64e87ea"
   },
   "outputs": [
    {
     "data": {
      "text/plain": [
       "1460752"
      ]
     },
     "execution_count": 4,
     "metadata": {},
     "output_type": "execute_result"
    }
   ],
   "source": [
    "# Tính tổng dung lượng bộ nhớ được sử dụng bởi DataFrame\n",
    "# memory_usage(index=True) trả về kích thước bộ nhớ (tính bằng byte) của từng cột và cả chỉ mục\n",
    "# sum() tính tổng toàn bộ dung lượng bộ nhớ của tất cả các cột và chỉ mục\n",
    "# Điều này giúp chúng ta biết được DataFrame đang chiếm bao nhiêu bộ nhớ,\n",
    "# hữu ích khi làm việc với tập dữ liệu lớn để tối ưu hóa việc sử dụng bộ nhớ\n",
    "df.memory_usage(index=True).sum()"
   ]
  },
  {
   "cell_type": "code",
   "execution_count": null,
   "metadata": {
    "colab": {
     "base_uri": "https://localhost:8080/",
     "height": 206
    },
    "executionInfo": {
     "elapsed": 351,
     "status": "ok",
     "timestamp": 1665222011402,
     "user": {
      "displayName": "Vu Dam",
      "userId": "08349793932940266028"
     },
     "user_tz": -420
    },
    "id": "E3zjOjcRSeEY",
    "outputId": "95935134-b010-48e1-eb42-e82b22b8948f"
   },
   "outputs": [
    {
     "data": {
      "text/html": [
       "\n",
       "  <div id=\"df-740d2976-eb22-467a-b415-c9088fb6dd98\">\n",
       "    <div class=\"colab-df-container\">\n",
       "      <div>\n",
       "<style scoped>\n",
       "    .dataframe tbody tr th:only-of-type {\n",
       "        vertical-align: middle;\n",
       "    }\n",
       "\n",
       "    .dataframe tbody tr th {\n",
       "        vertical-align: top;\n",
       "    }\n",
       "\n",
       "    .dataframe thead th {\n",
       "        text-align: right;\n",
       "    }\n",
       "</style>\n",
       "<table border=\"1\" class=\"dataframe\">\n",
       "  <thead>\n",
       "    <tr style=\"text-align: right;\">\n",
       "      <th></th>\n",
       "      <th>Rank</th>\n",
       "      <th>Name</th>\n",
       "      <th>Platform</th>\n",
       "      <th>Year</th>\n",
       "      <th>Genre</th>\n",
       "      <th>Publisher</th>\n",
       "      <th>NA_Sales</th>\n",
       "      <th>EU_Sales</th>\n",
       "      <th>JP_Sales</th>\n",
       "      <th>Other_Sales</th>\n",
       "      <th>Global_Sales</th>\n",
       "    </tr>\n",
       "  </thead>\n",
       "  <tbody>\n",
       "    <tr>\n",
       "      <th>0</th>\n",
       "      <td>1</td>\n",
       "      <td>Wii Sports</td>\n",
       "      <td>Wii</td>\n",
       "      <td>2006.0</td>\n",
       "      <td>Sports</td>\n",
       "      <td>Nintendo</td>\n",
       "      <td>41.49</td>\n",
       "      <td>29.02</td>\n",
       "      <td>3.77</td>\n",
       "      <td>8.46</td>\n",
       "      <td>82.74</td>\n",
       "    </tr>\n",
       "    <tr>\n",
       "      <th>1</th>\n",
       "      <td>2</td>\n",
       "      <td>Super Mario Bros.</td>\n",
       "      <td>NES</td>\n",
       "      <td>1985.0</td>\n",
       "      <td>Platform</td>\n",
       "      <td>Nintendo</td>\n",
       "      <td>29.08</td>\n",
       "      <td>3.58</td>\n",
       "      <td>6.81</td>\n",
       "      <td>0.77</td>\n",
       "      <td>40.24</td>\n",
       "    </tr>\n",
       "    <tr>\n",
       "      <th>2</th>\n",
       "      <td>3</td>\n",
       "      <td>Mario Kart Wii</td>\n",
       "      <td>Wii</td>\n",
       "      <td>2008.0</td>\n",
       "      <td>Racing</td>\n",
       "      <td>Nintendo</td>\n",
       "      <td>15.85</td>\n",
       "      <td>12.88</td>\n",
       "      <td>3.79</td>\n",
       "      <td>3.31</td>\n",
       "      <td>35.82</td>\n",
       "    </tr>\n",
       "    <tr>\n",
       "      <th>3</th>\n",
       "      <td>4</td>\n",
       "      <td>Wii Sports Resort</td>\n",
       "      <td>Wii</td>\n",
       "      <td>2009.0</td>\n",
       "      <td>Sports</td>\n",
       "      <td>Nintendo</td>\n",
       "      <td>15.75</td>\n",
       "      <td>11.01</td>\n",
       "      <td>3.28</td>\n",
       "      <td>2.96</td>\n",
       "      <td>33.00</td>\n",
       "    </tr>\n",
       "    <tr>\n",
       "      <th>4</th>\n",
       "      <td>5</td>\n",
       "      <td>Pokemon Red/Pokemon Blue</td>\n",
       "      <td>GB</td>\n",
       "      <td>1996.0</td>\n",
       "      <td>Role-Playing</td>\n",
       "      <td>Nintendo</td>\n",
       "      <td>11.27</td>\n",
       "      <td>8.89</td>\n",
       "      <td>10.22</td>\n",
       "      <td>1.00</td>\n",
       "      <td>31.37</td>\n",
       "    </tr>\n",
       "  </tbody>\n",
       "</table>\n",
       "</div>\n",
       "      <button class=\"colab-df-convert\" onclick=\"convertToInteractive('df-740d2976-eb22-467a-b415-c9088fb6dd98')\"\n",
       "              title=\"Convert this dataframe to an interactive table.\"\n",
       "              style=\"display:none;\">\n",
       "        \n",
       "  <svg xmlns=\"http://www.w3.org/2000/svg\" height=\"24px\"viewBox=\"0 0 24 24\"\n",
       "       width=\"24px\">\n",
       "    <path d=\"M0 0h24v24H0V0z\" fill=\"none\"/>\n",
       "    <path d=\"M18.56 5.44l.94 2.06.94-2.06 2.06-.94-2.06-.94-.94-2.06-.94 2.06-2.06.94zm-11 1L8.5 8.5l.94-2.06 2.06-.94-2.06-.94L8.5 2.5l-.94 2.06-2.06.94zm10 10l.94 2.06.94-2.06 2.06-.94-2.06-.94-.94-2.06-.94 2.06-2.06.94z\"/><path d=\"M17.41 7.96l-1.37-1.37c-.4-.4-.92-.59-1.43-.59-.52 0-1.04.2-1.43.59L10.3 9.45l-7.72 7.72c-.78.78-.78 2.05 0 2.83L4 21.41c.39.39.9.59 1.41.59.51 0 1.02-.2 1.41-.59l7.78-7.78 2.81-2.81c.8-.78.8-2.07 0-2.86zM5.41 20L4 18.59l7.72-7.72 1.47 1.35L5.41 20z\"/>\n",
       "  </svg>\n",
       "      </button>\n",
       "      \n",
       "  <style>\n",
       "    .colab-df-container {\n",
       "      display:flex;\n",
       "      flex-wrap:wrap;\n",
       "      gap: 12px;\n",
       "    }\n",
       "\n",
       "    .colab-df-convert {\n",
       "      background-color: #E8F0FE;\n",
       "      border: none;\n",
       "      border-radius: 50%;\n",
       "      cursor: pointer;\n",
       "      display: none;\n",
       "      fill: #1967D2;\n",
       "      height: 32px;\n",
       "      padding: 0 0 0 0;\n",
       "      width: 32px;\n",
       "    }\n",
       "\n",
       "    .colab-df-convert:hover {\n",
       "      background-color: #E2EBFA;\n",
       "      box-shadow: 0px 1px 2px rgba(60, 64, 67, 0.3), 0px 1px 3px 1px rgba(60, 64, 67, 0.15);\n",
       "      fill: #174EA6;\n",
       "    }\n",
       "\n",
       "    [theme=dark] .colab-df-convert {\n",
       "      background-color: #3B4455;\n",
       "      fill: #D2E3FC;\n",
       "    }\n",
       "\n",
       "    [theme=dark] .colab-df-convert:hover {\n",
       "      background-color: #434B5C;\n",
       "      box-shadow: 0px 1px 3px 1px rgba(0, 0, 0, 0.15);\n",
       "      filter: drop-shadow(0px 1px 2px rgba(0, 0, 0, 0.3));\n",
       "      fill: #FFFFFF;\n",
       "    }\n",
       "  </style>\n",
       "\n",
       "      <script>\n",
       "        const buttonEl =\n",
       "          document.querySelector('#df-740d2976-eb22-467a-b415-c9088fb6dd98 button.colab-df-convert');\n",
       "        buttonEl.style.display =\n",
       "          google.colab.kernel.accessAllowed ? 'block' : 'none';\n",
       "\n",
       "        async function convertToInteractive(key) {\n",
       "          const element = document.querySelector('#df-740d2976-eb22-467a-b415-c9088fb6dd98');\n",
       "          const dataTable =\n",
       "            await google.colab.kernel.invokeFunction('convertToInteractive',\n",
       "                                                     [key], {});\n",
       "          if (!dataTable) return;\n",
       "\n",
       "          const docLinkHtml = 'Like what you see? Visit the ' +\n",
       "            '<a target=\"_blank\" href=https://colab.research.google.com/notebooks/data_table.ipynb>data table notebook</a>'\n",
       "            + ' to learn more about interactive tables.';\n",
       "          element.innerHTML = '';\n",
       "          dataTable['output_type'] = 'display_data';\n",
       "          await google.colab.output.renderOutput(dataTable, element);\n",
       "          const docLink = document.createElement('div');\n",
       "          docLink.innerHTML = docLinkHtml;\n",
       "          element.appendChild(docLink);\n",
       "        }\n",
       "      </script>\n",
       "    </div>\n",
       "  </div>\n",
       "  "
      ],
      "text/plain": [
       "   Rank                      Name Platform    Year         Genre Publisher  \\\n",
       "0     1                Wii Sports      Wii  2006.0        Sports  Nintendo   \n",
       "1     2         Super Mario Bros.      NES  1985.0      Platform  Nintendo   \n",
       "2     3            Mario Kart Wii      Wii  2008.0        Racing  Nintendo   \n",
       "3     4         Wii Sports Resort      Wii  2009.0        Sports  Nintendo   \n",
       "4     5  Pokemon Red/Pokemon Blue       GB  1996.0  Role-Playing  Nintendo   \n",
       "\n",
       "   NA_Sales  EU_Sales  JP_Sales  Other_Sales  Global_Sales  \n",
       "0     41.49     29.02      3.77         8.46         82.74  \n",
       "1     29.08      3.58      6.81         0.77         40.24  \n",
       "2     15.85     12.88      3.79         3.31         35.82  \n",
       "3     15.75     11.01      3.28         2.96         33.00  \n",
       "4     11.27      8.89     10.22         1.00         31.37  "
      ]
     },
     "execution_count": 5,
     "metadata": {},
     "output_type": "execute_result"
    }
   ],
   "source": [
    "# Kiểm tra xem dữ liệu đã được tải thành công chưa\n",
    "# Xem một vài dòng đầu tiên của dữ liệu\n",
    "# Bắt đầu hiểu ý nghĩa dữ liệu - mỗi cột (đặc trưng) trông như thế nào\n",
    "\n",
    "df.head(5)"
   ]
  },
  {
   "cell_type": "code",
   "execution_count": null,
   "metadata": {
    "colab": {
     "base_uri": "https://localhost:8080/",
     "height": 206
    },
    "executionInfo": {
     "elapsed": 6,
     "status": "ok",
     "timestamp": 1664815332897,
     "user": {
      "displayName": "Vu Dam",
      "userId": "08349793932940266028"
     },
     "user_tz": -420
    },
    "id": "whRRotEBw5I5",
    "outputId": "0da55c37-fb9b-496d-ee1f-568863ca919d"
   },
   "outputs": [
    {
     "data": {
      "text/html": [
       "\n",
       "  <div id=\"df-44377166-eec9-4cf7-bf99-c98dc25f5dec\">\n",
       "    <div class=\"colab-df-container\">\n",
       "      <div>\n",
       "<style scoped>\n",
       "    .dataframe tbody tr th:only-of-type {\n",
       "        vertical-align: middle;\n",
       "    }\n",
       "\n",
       "    .dataframe tbody tr th {\n",
       "        vertical-align: top;\n",
       "    }\n",
       "\n",
       "    .dataframe thead th {\n",
       "        text-align: right;\n",
       "    }\n",
       "</style>\n",
       "<table border=\"1\" class=\"dataframe\">\n",
       "  <thead>\n",
       "    <tr style=\"text-align: right;\">\n",
       "      <th></th>\n",
       "      <th>Rank</th>\n",
       "      <th>Name</th>\n",
       "      <th>Platform</th>\n",
       "      <th>Year</th>\n",
       "      <th>Genre</th>\n",
       "      <th>Publisher</th>\n",
       "      <th>NA_Sales</th>\n",
       "      <th>EU_Sales</th>\n",
       "      <th>JP_Sales</th>\n",
       "      <th>Other_Sales</th>\n",
       "      <th>Global_Sales</th>\n",
       "    </tr>\n",
       "  </thead>\n",
       "  <tbody>\n",
       "    <tr>\n",
       "      <th>16593</th>\n",
       "      <td>16596</td>\n",
       "      <td>Woody Woodpecker in Crazy Castle 5</td>\n",
       "      <td>GBA</td>\n",
       "      <td>2002.0</td>\n",
       "      <td>Platform</td>\n",
       "      <td>Kemco</td>\n",
       "      <td>0.01</td>\n",
       "      <td>0.00</td>\n",
       "      <td>0.0</td>\n",
       "      <td>0.0</td>\n",
       "      <td>0.01</td>\n",
       "    </tr>\n",
       "    <tr>\n",
       "      <th>16594</th>\n",
       "      <td>16597</td>\n",
       "      <td>Men in Black II: Alien Escape</td>\n",
       "      <td>GC</td>\n",
       "      <td>2003.0</td>\n",
       "      <td>Shooter</td>\n",
       "      <td>Infogrames</td>\n",
       "      <td>0.01</td>\n",
       "      <td>0.00</td>\n",
       "      <td>0.0</td>\n",
       "      <td>0.0</td>\n",
       "      <td>0.01</td>\n",
       "    </tr>\n",
       "    <tr>\n",
       "      <th>16595</th>\n",
       "      <td>16598</td>\n",
       "      <td>SCORE International Baja 1000: The Official Game</td>\n",
       "      <td>PS2</td>\n",
       "      <td>2008.0</td>\n",
       "      <td>Racing</td>\n",
       "      <td>Activision</td>\n",
       "      <td>0.00</td>\n",
       "      <td>0.00</td>\n",
       "      <td>0.0</td>\n",
       "      <td>0.0</td>\n",
       "      <td>0.01</td>\n",
       "    </tr>\n",
       "    <tr>\n",
       "      <th>16596</th>\n",
       "      <td>16599</td>\n",
       "      <td>Know How 2</td>\n",
       "      <td>DS</td>\n",
       "      <td>2010.0</td>\n",
       "      <td>Puzzle</td>\n",
       "      <td>7G//AMES</td>\n",
       "      <td>0.00</td>\n",
       "      <td>0.01</td>\n",
       "      <td>0.0</td>\n",
       "      <td>0.0</td>\n",
       "      <td>0.01</td>\n",
       "    </tr>\n",
       "    <tr>\n",
       "      <th>16597</th>\n",
       "      <td>16600</td>\n",
       "      <td>Spirits &amp; Spells</td>\n",
       "      <td>GBA</td>\n",
       "      <td>2003.0</td>\n",
       "      <td>Platform</td>\n",
       "      <td>Wanadoo</td>\n",
       "      <td>0.01</td>\n",
       "      <td>0.00</td>\n",
       "      <td>0.0</td>\n",
       "      <td>0.0</td>\n",
       "      <td>0.01</td>\n",
       "    </tr>\n",
       "  </tbody>\n",
       "</table>\n",
       "</div>\n",
       "      <button class=\"colab-df-convert\" onclick=\"convertToInteractive('df-44377166-eec9-4cf7-bf99-c98dc25f5dec')\"\n",
       "              title=\"Convert this dataframe to an interactive table.\"\n",
       "              style=\"display:none;\">\n",
       "        \n",
       "  <svg xmlns=\"http://www.w3.org/2000/svg\" height=\"24px\"viewBox=\"0 0 24 24\"\n",
       "       width=\"24px\">\n",
       "    <path d=\"M0 0h24v24H0V0z\" fill=\"none\"/>\n",
       "    <path d=\"M18.56 5.44l.94 2.06.94-2.06 2.06-.94-2.06-.94-.94-2.06-.94 2.06-2.06.94zm-11 1L8.5 8.5l.94-2.06 2.06-.94-2.06-.94L8.5 2.5l-.94 2.06-2.06.94zm10 10l.94 2.06.94-2.06 2.06-.94-2.06-.94-.94-2.06-.94 2.06-2.06.94z\"/><path d=\"M17.41 7.96l-1.37-1.37c-.4-.4-.92-.59-1.43-.59-.52 0-1.04.2-1.43.59L10.3 9.45l-7.72 7.72c-.78.78-.78 2.05 0 2.83L4 21.41c.39.39.9.59 1.41.59.51 0 1.02-.2 1.41-.59l7.78-7.78 2.81-2.81c.8-.78.8-2.07 0-2.86zM5.41 20L4 18.59l7.72-7.72 1.47 1.35L5.41 20z\"/>\n",
       "  </svg>\n",
       "      </button>\n",
       "      \n",
       "  <style>\n",
       "    .colab-df-container {\n",
       "      display:flex;\n",
       "      flex-wrap:wrap;\n",
       "      gap: 12px;\n",
       "    }\n",
       "\n",
       "    .colab-df-convert {\n",
       "      background-color: #E8F0FE;\n",
       "      border: none;\n",
       "      border-radius: 50%;\n",
       "      cursor: pointer;\n",
       "      display: none;\n",
       "      fill: #1967D2;\n",
       "      height: 32px;\n",
       "      padding: 0 0 0 0;\n",
       "      width: 32px;\n",
       "    }\n",
       "\n",
       "    .colab-df-convert:hover {\n",
       "      background-color: #E2EBFA;\n",
       "      box-shadow: 0px 1px 2px rgba(60, 64, 67, 0.3), 0px 1px 3px 1px rgba(60, 64, 67, 0.15);\n",
       "      fill: #174EA6;\n",
       "    }\n",
       "\n",
       "    [theme=dark] .colab-df-convert {\n",
       "      background-color: #3B4455;\n",
       "      fill: #D2E3FC;\n",
       "    }\n",
       "\n",
       "    [theme=dark] .colab-df-convert:hover {\n",
       "      background-color: #434B5C;\n",
       "      box-shadow: 0px 1px 3px 1px rgba(0, 0, 0, 0.15);\n",
       "      filter: drop-shadow(0px 1px 2px rgba(0, 0, 0, 0.3));\n",
       "      fill: #FFFFFF;\n",
       "    }\n",
       "  </style>\n",
       "\n",
       "      <script>\n",
       "        const buttonEl =\n",
       "          document.querySelector('#df-44377166-eec9-4cf7-bf99-c98dc25f5dec button.colab-df-convert');\n",
       "        buttonEl.style.display =\n",
       "          google.colab.kernel.accessAllowed ? 'block' : 'none';\n",
       "\n",
       "        async function convertToInteractive(key) {\n",
       "          const element = document.querySelector('#df-44377166-eec9-4cf7-bf99-c98dc25f5dec');\n",
       "          const dataTable =\n",
       "            await google.colab.kernel.invokeFunction('convertToInteractive',\n",
       "                                                     [key], {});\n",
       "          if (!dataTable) return;\n",
       "\n",
       "          const docLinkHtml = 'Like what you see? Visit the ' +\n",
       "            '<a target=\"_blank\" href=https://colab.research.google.com/notebooks/data_table.ipynb>data table notebook</a>'\n",
       "            + ' to learn more about interactive tables.';\n",
       "          element.innerHTML = '';\n",
       "          dataTable['output_type'] = 'display_data';\n",
       "          await google.colab.output.renderOutput(dataTable, element);\n",
       "          const docLink = document.createElement('div');\n",
       "          docLink.innerHTML = docLinkHtml;\n",
       "          element.appendChild(docLink);\n",
       "        }\n",
       "      </script>\n",
       "    </div>\n",
       "  </div>\n",
       "  "
      ],
      "text/plain": [
       "        Rank                                              Name Platform  \\\n",
       "16593  16596                Woody Woodpecker in Crazy Castle 5      GBA   \n",
       "16594  16597                     Men in Black II: Alien Escape       GC   \n",
       "16595  16598  SCORE International Baja 1000: The Official Game      PS2   \n",
       "16596  16599                                        Know How 2       DS   \n",
       "16597  16600                                  Spirits & Spells      GBA   \n",
       "\n",
       "         Year     Genre   Publisher  NA_Sales  EU_Sales  JP_Sales  \\\n",
       "16593  2002.0  Platform       Kemco      0.01      0.00       0.0   \n",
       "16594  2003.0   Shooter  Infogrames      0.01      0.00       0.0   \n",
       "16595  2008.0    Racing  Activision      0.00      0.00       0.0   \n",
       "16596  2010.0    Puzzle    7G//AMES      0.00      0.01       0.0   \n",
       "16597  2003.0  Platform     Wanadoo      0.01      0.00       0.0   \n",
       "\n",
       "       Other_Sales  Global_Sales  \n",
       "16593          0.0          0.01  \n",
       "16594          0.0          0.01  \n",
       "16595          0.0          0.01  \n",
       "16596          0.0          0.01  \n",
       "16597          0.0          0.01  "
      ]
     },
     "execution_count": 7,
     "metadata": {},
     "output_type": "execute_result"
    }
   ],
   "source": [
    "# Một vài dòng cuối cùng của dữ liệu\n",
    "df.tail(5)"
   ]
  },
  {
   "cell_type": "code",
   "execution_count": null,
   "metadata": {
    "colab": {
     "base_uri": "https://localhost:8080/"
    },
    "executionInfo": {
     "elapsed": 349,
     "status": "ok",
     "timestamp": 1665222058731,
     "user": {
      "displayName": "Vu Dam",
      "userId": "08349793932940266028"
     },
     "user_tz": -420
    },
    "id": "MVTtUfJVuztR",
    "outputId": "916f004f-fd2e-49ea-e0c5-400505bdc645"
   },
   "outputs": [
    {
     "data": {
      "text/plain": [
       "(16598, 11)"
      ]
     },
     "execution_count": 6,
     "metadata": {},
     "output_type": "execute_result"
    }
   ],
   "source": [
    "# Tổng số dòng và cột trong DataFrame\n",
    "\n",
    "df.shape"
   ]
  },
  {
   "cell_type": "code",
   "execution_count": null,
   "metadata": {
    "colab": {
     "base_uri": "https://localhost:8080/"
    },
    "executionInfo": {
     "elapsed": 350,
     "status": "ok",
     "timestamp": 1665222097716,
     "user": {
      "displayName": "Vu Dam",
      "userId": "08349793932940266028"
     },
     "user_tz": -420
    },
    "id": "T8Mnx1Irwhyi",
    "outputId": "401165ed-cc38-40c1-81ca-1f74ac396cf9"
   },
   "outputs": [
    {
     "name": "stdout",
     "output_type": "stream",
     "text": [
      "<class 'pandas.core.frame.DataFrame'>\n",
      "RangeIndex: 16598 entries, 0 to 16597\n",
      "Data columns (total 11 columns):\n",
      " #   Column        Non-Null Count  Dtype  \n",
      "---  ------        --------------  -----  \n",
      " 0   Rank          16598 non-null  int64  \n",
      " 1   Name          16598 non-null  object \n",
      " 2   Platform      16598 non-null  object \n",
      " 3   Year          16327 non-null  float64\n",
      " 4   Genre         16598 non-null  object \n",
      " 5   Publisher     16540 non-null  object \n",
      " 6   NA_Sales      16598 non-null  float64\n",
      " 7   EU_Sales      16598 non-null  float64\n",
      " 8   JP_Sales      16598 non-null  float64\n",
      " 9   Other_Sales   16598 non-null  float64\n",
      " 10  Global_Sales  16598 non-null  float64\n",
      "dtypes: float64(6), int64(1), object(4)\n",
      "memory usage: 1.4+ MB\n"
     ]
    }
   ],
   "source": [
    "\n",
    "  #  Int16 -- (-32,768 to +32,767)\n",
    "\n",
    "  #  Int32 -- (-2,147,483,648 to +2,147,483,647)\n",
    "\n",
    "  #  Int64 -- (-9,223,372,036,854,775,808 to +9,223,372,036,854,775,807)\n",
    "\n",
    "df.info() # Thông tin về DataFrame"
   ]
  },
  {
   "cell_type": "markdown",
   "metadata": {
    "id": "dy0zg5b-CJTC"
   },
   "source": [
    "## 4. Basic Statiscal Measures (Các phương pháp thống kê cơ bản)"
   ]
  },
  {
   "cell_type": "code",
   "execution_count": null,
   "metadata": {
    "colab": {
     "base_uri": "https://localhost:8080/",
     "height": 300
    },
    "executionInfo": {
     "elapsed": 388,
     "status": "ok",
     "timestamp": 1665888191023,
     "user": {
      "displayName": "Vu Dam",
      "userId": "08349793932940266028"
     },
     "user_tz": -420
    },
    "id": "iuHKwhMeReBO",
    "outputId": "fbf4f25b-c368-4a39-bbeb-982b34c19fec"
   },
   "outputs": [
    {
     "data": {
      "text/html": [
       "\n",
       "  <div id=\"df-13fb9f3a-b142-4663-8ac0-3be4680caf93\">\n",
       "    <div class=\"colab-df-container\">\n",
       "      <div>\n",
       "<style scoped>\n",
       "    .dataframe tbody tr th:only-of-type {\n",
       "        vertical-align: middle;\n",
       "    }\n",
       "\n",
       "    .dataframe tbody tr th {\n",
       "        vertical-align: top;\n",
       "    }\n",
       "\n",
       "    .dataframe thead th {\n",
       "        text-align: right;\n",
       "    }\n",
       "</style>\n",
       "<table border=\"1\" class=\"dataframe\">\n",
       "  <thead>\n",
       "    <tr style=\"text-align: right;\">\n",
       "      <th></th>\n",
       "      <th>Rank</th>\n",
       "      <th>Year</th>\n",
       "      <th>NA_Sales</th>\n",
       "      <th>EU_Sales</th>\n",
       "      <th>JP_Sales</th>\n",
       "      <th>Other_Sales</th>\n",
       "      <th>Global_Sales</th>\n",
       "    </tr>\n",
       "  </thead>\n",
       "  <tbody>\n",
       "    <tr>\n",
       "      <th>count</th>\n",
       "      <td>16598.000000</td>\n",
       "      <td>16327.000000</td>\n",
       "      <td>16598.000000</td>\n",
       "      <td>16598.000000</td>\n",
       "      <td>16598.000000</td>\n",
       "      <td>16598.000000</td>\n",
       "      <td>16598.000000</td>\n",
       "    </tr>\n",
       "    <tr>\n",
       "      <th>mean</th>\n",
       "      <td>8300.605254</td>\n",
       "      <td>2006.406443</td>\n",
       "      <td>0.264667</td>\n",
       "      <td>0.146652</td>\n",
       "      <td>0.077782</td>\n",
       "      <td>0.048063</td>\n",
       "      <td>0.537441</td>\n",
       "    </tr>\n",
       "    <tr>\n",
       "      <th>std</th>\n",
       "      <td>4791.853933</td>\n",
       "      <td>5.828981</td>\n",
       "      <td>0.816683</td>\n",
       "      <td>0.505351</td>\n",
       "      <td>0.309291</td>\n",
       "      <td>0.188588</td>\n",
       "      <td>1.555028</td>\n",
       "    </tr>\n",
       "    <tr>\n",
       "      <th>min</th>\n",
       "      <td>1.000000</td>\n",
       "      <td>1980.000000</td>\n",
       "      <td>0.000000</td>\n",
       "      <td>0.000000</td>\n",
       "      <td>0.000000</td>\n",
       "      <td>0.000000</td>\n",
       "      <td>0.010000</td>\n",
       "    </tr>\n",
       "    <tr>\n",
       "      <th>25%</th>\n",
       "      <td>4151.250000</td>\n",
       "      <td>2003.000000</td>\n",
       "      <td>0.000000</td>\n",
       "      <td>0.000000</td>\n",
       "      <td>0.000000</td>\n",
       "      <td>0.000000</td>\n",
       "      <td>0.060000</td>\n",
       "    </tr>\n",
       "    <tr>\n",
       "      <th>50%</th>\n",
       "      <td>8300.500000</td>\n",
       "      <td>2007.000000</td>\n",
       "      <td>0.080000</td>\n",
       "      <td>0.020000</td>\n",
       "      <td>0.000000</td>\n",
       "      <td>0.010000</td>\n",
       "      <td>0.170000</td>\n",
       "    </tr>\n",
       "    <tr>\n",
       "      <th>75%</th>\n",
       "      <td>12449.750000</td>\n",
       "      <td>2010.000000</td>\n",
       "      <td>0.240000</td>\n",
       "      <td>0.110000</td>\n",
       "      <td>0.040000</td>\n",
       "      <td>0.040000</td>\n",
       "      <td>0.470000</td>\n",
       "    </tr>\n",
       "    <tr>\n",
       "      <th>max</th>\n",
       "      <td>16600.000000</td>\n",
       "      <td>2020.000000</td>\n",
       "      <td>41.490000</td>\n",
       "      <td>29.020000</td>\n",
       "      <td>10.220000</td>\n",
       "      <td>10.570000</td>\n",
       "      <td>82.740000</td>\n",
       "    </tr>\n",
       "  </tbody>\n",
       "</table>\n",
       "</div>\n",
       "      <button class=\"colab-df-convert\" onclick=\"convertToInteractive('df-13fb9f3a-b142-4663-8ac0-3be4680caf93')\"\n",
       "              title=\"Convert this dataframe to an interactive table.\"\n",
       "              style=\"display:none;\">\n",
       "        \n",
       "  <svg xmlns=\"http://www.w3.org/2000/svg\" height=\"24px\"viewBox=\"0 0 24 24\"\n",
       "       width=\"24px\">\n",
       "    <path d=\"M0 0h24v24H0V0z\" fill=\"none\"/>\n",
       "    <path d=\"M18.56 5.44l.94 2.06.94-2.06 2.06-.94-2.06-.94-.94-2.06-.94 2.06-2.06.94zm-11 1L8.5 8.5l.94-2.06 2.06-.94-2.06-.94L8.5 2.5l-.94 2.06-2.06.94zm10 10l.94 2.06.94-2.06 2.06-.94-2.06-.94-.94-2.06-.94 2.06-2.06.94z\"/><path d=\"M17.41 7.96l-1.37-1.37c-.4-.4-.92-.59-1.43-.59-.52 0-1.04.2-1.43.59L10.3 9.45l-7.72 7.72c-.78.78-.78 2.05 0 2.83L4 21.41c.39.39.9.59 1.41.59.51 0 1.02-.2 1.41-.59l7.78-7.78 2.81-2.81c.8-.78.8-2.07 0-2.86zM5.41 20L4 18.59l7.72-7.72 1.47 1.35L5.41 20z\"/>\n",
       "  </svg>\n",
       "      </button>\n",
       "      \n",
       "  <style>\n",
       "    .colab-df-container {\n",
       "      display:flex;\n",
       "      flex-wrap:wrap;\n",
       "      gap: 12px;\n",
       "    }\n",
       "\n",
       "    .colab-df-convert {\n",
       "      background-color: #E8F0FE;\n",
       "      border: none;\n",
       "      border-radius: 50%;\n",
       "      cursor: pointer;\n",
       "      display: none;\n",
       "      fill: #1967D2;\n",
       "      height: 32px;\n",
       "      padding: 0 0 0 0;\n",
       "      width: 32px;\n",
       "    }\n",
       "\n",
       "    .colab-df-convert:hover {\n",
       "      background-color: #E2EBFA;\n",
       "      box-shadow: 0px 1px 2px rgba(60, 64, 67, 0.3), 0px 1px 3px 1px rgba(60, 64, 67, 0.15);\n",
       "      fill: #174EA6;\n",
       "    }\n",
       "\n",
       "    [theme=dark] .colab-df-convert {\n",
       "      background-color: #3B4455;\n",
       "      fill: #D2E3FC;\n",
       "    }\n",
       "\n",
       "    [theme=dark] .colab-df-convert:hover {\n",
       "      background-color: #434B5C;\n",
       "      box-shadow: 0px 1px 3px 1px rgba(0, 0, 0, 0.15);\n",
       "      filter: drop-shadow(0px 1px 2px rgba(0, 0, 0, 0.3));\n",
       "      fill: #FFFFFF;\n",
       "    }\n",
       "  </style>\n",
       "\n",
       "      <script>\n",
       "        const buttonEl =\n",
       "          document.querySelector('#df-13fb9f3a-b142-4663-8ac0-3be4680caf93 button.colab-df-convert');\n",
       "        buttonEl.style.display =\n",
       "          google.colab.kernel.accessAllowed ? 'block' : 'none';\n",
       "\n",
       "        async function convertToInteractive(key) {\n",
       "          const element = document.querySelector('#df-13fb9f3a-b142-4663-8ac0-3be4680caf93');\n",
       "          const dataTable =\n",
       "            await google.colab.kernel.invokeFunction('convertToInteractive',\n",
       "                                                     [key], {});\n",
       "          if (!dataTable) return;\n",
       "\n",
       "          const docLinkHtml = 'Like what you see? Visit the ' +\n",
       "            '<a target=\"_blank\" href=https://colab.research.google.com/notebooks/data_table.ipynb>data table notebook</a>'\n",
       "            + ' to learn more about interactive tables.';\n",
       "          element.innerHTML = '';\n",
       "          dataTable['output_type'] = 'display_data';\n",
       "          await google.colab.output.renderOutput(dataTable, element);\n",
       "          const docLink = document.createElement('div');\n",
       "          docLink.innerHTML = docLinkHtml;\n",
       "          element.appendChild(docLink);\n",
       "        }\n",
       "      </script>\n",
       "    </div>\n",
       "  </div>\n",
       "  "
      ],
      "text/plain": [
       "               Rank          Year      NA_Sales      EU_Sales      JP_Sales  \\\n",
       "count  16598.000000  16327.000000  16598.000000  16598.000000  16598.000000   \n",
       "mean    8300.605254   2006.406443      0.264667      0.146652      0.077782   \n",
       "std     4791.853933      5.828981      0.816683      0.505351      0.309291   \n",
       "min        1.000000   1980.000000      0.000000      0.000000      0.000000   \n",
       "25%     4151.250000   2003.000000      0.000000      0.000000      0.000000   \n",
       "50%     8300.500000   2007.000000      0.080000      0.020000      0.000000   \n",
       "75%    12449.750000   2010.000000      0.240000      0.110000      0.040000   \n",
       "max    16600.000000   2020.000000     41.490000     29.020000     10.220000   \n",
       "\n",
       "        Other_Sales  Global_Sales  \n",
       "count  16598.000000  16598.000000  \n",
       "mean       0.048063      0.537441  \n",
       "std        0.188588      1.555028  \n",
       "min        0.000000      0.010000  \n",
       "25%        0.000000      0.060000  \n",
       "50%        0.010000      0.170000  \n",
       "75%        0.040000      0.470000  \n",
       "max       10.570000     82.740000  "
      ]
     },
     "execution_count": 11,
     "metadata": {},
     "output_type": "execute_result"
    }
   ],
   "source": [
    "# Thống kê cơ bản\n",
    "\n",
    "# mean (trung bình) - 50%: median (trung vị)\n",
    "# chỉ áp dụng với dữ liệu số\n",
    "# Các phân vị: Q1: 25%, Q2: trung vị, Q3: 75%\n",
    "# Khoảng giữa các phân vị (IQR): Q3 - Q1\n",
    "\n",
    "# Hiển thị tổng quan thống kê mô tả của dữ liệu số trong DataFrame\n",
    "# Bao gồm số lượng giá trị, giá trị trung bình, độ lệch chuẩn,\n",
    "# giá trị nhỏ nhất, các phân vị 25%, 50% (trung vị), 75% và giá trị lớn nhất\n",
    "df.describe()"
   ]
  },
  {
   "cell_type": "markdown",
   "metadata": {
    "id": "kJXu22KeI2zi"
   },
   "source": [
    "### 4.1 Central Tendency: Mean, mode, median | Data Distribution (Xu hướng trung tâm: Giá trị trung bình, mode, trung vị | Phân phối dữ liệu)"
   ]
  },
  {
   "cell_type": "markdown",
   "metadata": {
    "id": "FmkQU_oEQctT"
   },
   "source": [
    "Để thực hành các phép đo thống kê cơ bản, chúng ta sẽ sử dụng dữ liệu doanh số bán trò chơi điện tử."
   ]
  },
  {
   "cell_type": "code",
   "execution_count": null,
   "metadata": {
    "colab": {
     "base_uri": "https://localhost:8080/"
    },
    "executionInfo": {
     "elapsed": 364,
     "status": "ok",
     "timestamp": 1665888298259,
     "user": {
      "displayName": "Vu Dam",
      "userId": "08349793932940266028"
     },
     "user_tz": -420
    },
    "id": "w906WDFxQa06",
    "outputId": "8b50ab5e-9504-4411-fa64-3cac2756a99d"
   },
   "outputs": [
    {
     "ename": "NameError",
     "evalue": "name 'df' is not defined",
     "output_type": "error",
     "traceback": [
      "\u001b[31m---------------------------------------------------------------------------\u001b[39m",
      "\u001b[31mNameError\u001b[39m                                 Traceback (most recent call last)",
      "\u001b[36mCell\u001b[39m\u001b[36m \u001b[39m\u001b[32mIn[1]\u001b[39m\u001b[32m, line 2\u001b[39m\n\u001b[32m      1\u001b[39m \u001b[38;5;66;03m# Tính giá trị trung bình của doanh số bán tại Bắc Mỹ\u001b[39;00m\n\u001b[32m----> \u001b[39m\u001b[32m2\u001b[39m na_sales_mean = \u001b[43mdf\u001b[49m[\u001b[33m\"\u001b[39m\u001b[33mNA_Sales\u001b[39m\u001b[33m\"\u001b[39m].mean()\n\u001b[32m      3\u001b[39m \u001b[38;5;66;03m# Tính giá trị trung bình của doanh số bán tại châu Âu\u001b[39;00m\n\u001b[32m      4\u001b[39m eu_sales_mean = df[\u001b[33m\"\u001b[39m\u001b[33mEU_Sales\u001b[39m\u001b[33m\"\u001b[39m].mean()\n",
      "\u001b[31mNameError\u001b[39m: name 'df' is not defined"
     ]
    }
   ],
   "source": [
    "# Tính giá trị trung bình của doanh số bán tại Bắc Mỹ\n",
    "na_sales_mean = df[\"NA_Sales\"].mean()\n",
    "# Tính giá trị trung bình của doanh số bán tại châu Âu\n",
    "eu_sales_mean = df[\"EU_Sales\"].mean()\n",
    "# Tính giá trị trung bình của doanh số bán tại Nhật Bản\n",
    "jp_sales_mean = df[\"JP_Sales\"].mean()\n",
    "# Tính giá trị trung bình của doanh số bán tại các khu vực khác\n",
    "other_sales_mean = df[\"Other_Sales\"].mean()\n",
    "# Tính giá trị trung bình của doanh số bán toàn cầu\n",
    "global_sales_mean = df[\"Global_Sales\"].mean()\n",
    "\n",
    "# In ra giá trị trung bình của doanh số bán tại Bắc Mỹ\n",
    "print(\"Giá trị trung bình của doanh số bán tại Bắc Mỹ là \" + str(na_sales_mean))\n",
    "# In ra giá trị trung bình của doanh số bán tại châu Âu\n",
    "print(\"Giá trị trung bình của doanh số bán tại Châu Âu là\" + str(eu_sales_mean))\n",
    "# In ra giá trị trung bình của doanh số bán tại Nhật Bản\n",
    "print(\"Giá trị trung bình của doanh số bán tại Nhật Bản là\" + str(jp_sales_mean))\n",
    "# In ra giá trị trung bình của doanh số bán tại các khu vực khác\n",
    "print(\"Giá trị trung bình của doanh số bán tại các khu vực khác là\" + str(other_sales_mean))\n",
    "# In ra giá trị trung bình của doanh số bán toàn cầu\n",
    "print(\"Giá trị trung bình của doanh số bán toàn cầu là\" + str(global_sales_mean))\n",
    "\n",
    "# In kết luận về phân tích doanh số bán trung bình\n",
    "print(\"Dựa trên giá trị trung bình, không tính doanh số toàn cầu, chúng ta nhận thấy rằng doanh số trung bình tại khu vực Bắc Mỹ là cao nhất; gần gấp đôi giá trị trung bình của khu vực đứng thứ hai – châu Âu.\")"
   ]
  },
  {
   "cell_type": "code",
   "execution_count": null,
   "metadata": {
    "colab": {
     "base_uri": "https://localhost:8080/"
    },
    "executionInfo": {
     "elapsed": 505,
     "status": "ok",
     "timestamp": 1665888373362,
     "user": {
      "displayName": "Vu Dam",
      "userId": "08349793932940266028"
     },
     "user_tz": -420
    },
    "id": "KOZe9aOyViML",
    "outputId": "ec6dcce0-7881-4339-e04e-b030f0e33c30"
   },
   "outputs": [
    {
     "name": "stdout",
     "output_type": "stream",
     "text": [
      "Median Value of NA Sales is 0.08\n",
      "Median Value of EU Sales is 0.02\n",
      "Median Value of JP Sales is 0.0\n",
      "Median Value of Other Sales is 0.01\n",
      "Median Value of Global Sales is 0.17\n",
      "If we use the median, median sales value in NA is still highest, however, it is nearly fourth the median sales value in EU \n"
     ]
    }
   ],
   "source": [
    "# Tính giá trị trung vị (median) của doanh số bán tại Bắc Mỹ\n",
    "na_sales_median = df[\"NA_Sales\"].median()\n",
    "# Tính giá trị trung vị (median) của doanh số bán tại châu Âu\n",
    "eu_sales_median = df[\"EU_Sales\"].median()\n",
    "# Tính giá trị trung vị (median) của doanh số bán tại Nhật Bản\n",
    "jp_sales_median = df[\"JP_Sales\"].median()\n",
    "# Tính giá trị trung vị (median) của doanh số bán tại các khu vực khác\n",
    "other_sales_median = df[\"Other_Sales\"].median()\n",
    "# Tính giá trị trung vị (median) của doanh số bán toàn cầu\n",
    "global_sales_median = df[\"Global_Sales\"].median()\n",
    "\n",
    "# In ra giá trị trung vị của doanh số bán tại Bắc Mỹ\n",
    "print(\"Giá trị trung vị của doanh số bán tại Bắc Mỹ là \" + str(na_sales_median))\n",
    "# In ra giá trị trung vị của doanh số bán tại châu Âu\n",
    "print(\"Giá trị trung vị của doanh số bán tại Châu Âu là \" + str(eu_sales_median))\n",
    "# In ra giá trị trung vị của doanh số bán tại Nhật Bản\n",
    "print(\"Giá trị trung vị của doanh số bán tại Nhật Bản là \" + str(jp_sales_median))\n",
    "# In ra giá trị trung vị của doanh số bán tại các khu vực khác\n",
    "print(\"Giá trị trung vị của doanh số bán tại các khu vực khác là \" + str(other_sales_median))\n",
    "# In ra giá trị trung vị của doanh số bán toàn cầu\n",
    "print(\"Giá trị trung vị của doanh số bán toàn cầu là \" + str(global_sales_median))\n",
    "\n",
    "# In kết luận về phân tích doanh số bán trung vị\n",
    "print(\"Nếu chúng ta sử dụng giá trị trung vị, thì doanh số trung vị tại khu vực Bắc Mỹ vẫn là cao nhất, tuy nhiên, nó chỉ gần bằng một phần tư giá trị trung vị của doanh số tại châu Âu.\")"
   ]
  },
  {
   "cell_type": "code",
   "execution_count": null,
   "metadata": {
    "colab": {
     "base_uri": "https://localhost:8080/"
    },
    "executionInfo": {
     "elapsed": 487,
     "status": "ok",
     "timestamp": 1665888450136,
     "user": {
      "displayName": "Vu Dam",
      "userId": "08349793932940266028"
     },
     "user_tz": -420
    },
    "id": "0yRRaiq4QcBJ",
    "outputId": "253586fe-7e6d-4e39-bd87-943856795393"
   },
   "outputs": [
    {
     "name": "stdout",
     "output_type": "stream",
     "text": [
      "Mode Value of NA Sales is 0    0.0\n",
      "dtype: float64\n",
      "Mode Value of EU Sales is 0    0.0\n",
      "dtype: float64\n",
      "Mode Value of JP Sales is 0    0.0\n",
      "dtype: float64\n",
      "Mode Value of Other Sales is 0    0.0\n",
      "dtype: float64\n",
      "Mode Value of Global Sales is 0    0.02\n",
      "dtype: float64\n",
      "If we use, the mode value to find the central tency, we can see that the mode values return a very different value compared to median and mode.\n"
     ]
    }
   ],
   "source": [
    "# Tính giá trị xuất hiện nhiều nhất (mode) của doanh số bán tại Bắc Mỹ\n",
    "na_sales_mode = df[\"NA_Sales\"].mode()\n",
    "# Tính giá trị xuất hiện nhiều nhất (mode) của doanh số bán tại châu Âu\n",
    "eu_sales_mode = df[\"EU_Sales\"].mode()\n",
    "# Tính giá trị xuất hiện nhiều nhất (mode) của doanh số bán tại Nhật Bản\n",
    "jp_sales_mode = df[\"JP_Sales\"].mode()\n",
    "# Tính giá trị xuất hiện nhiều nhất (mode) của doanh số bán tại các khu vực khác\n",
    "other_sales_mode = df[\"Other_Sales\"].mode()\n",
    "# Tính giá trị xuất hiện nhiều nhất (mode) của doanh số bán toàn cầu\n",
    "global_sales_mode = df[\"Global_Sales\"].mode()\n",
    "\n",
    "# In ra giá trị xuất hiện nhiều nhất của doanh số bán tại Bắc Mỹ\n",
    "print(\"Giá trị mode của doanh số bán tại Bắc Mỹ là \" + str(na_sales_mode))\n",
    "# In ra giá trị xuất hiện nhiều nhất của doanh số bán tại châu Âu\n",
    "print(\"Giá trị mode của doanh số bán tại Châu Âu là \" + str(eu_sales_mode))\n",
    "# In ra giá trị xuất hiện nhiều nhất của doanh số bán tại Nhật Bản\n",
    "print(\"Giá trị mode của doanh số bán tại Nhật Bản là \" + str(jp_sales_mode))\n",
    "# In ra giá trị xuất hiện nhiều nhất của doanh số bán tại các khu vực khác\n",
    "print(\"Giá trị mode của doanh số bán tại các khu vực khác là \" + str(other_sales_mode))\n",
    "# In ra giá trị xuất hiện nhiều nhất của doanh số bán toàn cầu\n",
    "print(\"Giá trị mode của doanh số bán toàn cầu là\" + str(global_sales_mode))\n",
    "\n",
    "# In kết luận về việc sử dụng mode làm phép đo xu hướng trung tâm\n",
    "print(\"Nếu chúng ta sử dụng giá trị mode để xác định xu hướng trung tâm, ta có thể thấy rằng giá trị mode cho kết quả rất khác so với giá trị trung vị và giá trị trung bình.\")"
   ]
  },
  {
   "cell_type": "markdown",
   "metadata": {
    "id": "yjAZqew3XrXk"
   },
   "source": [
    "Through this example, I hope you all see that using different ways we can have very different central values. \n",
    "\n",
    "The question now is: **What is the data distribution type of the sales values?**\n",
    "\n",
    "Hint: Mode < Median < Mean"
   ]
  },
  {
   "cell_type": "code",
   "execution_count": null,
   "metadata": {
    "colab": {
     "base_uri": "https://localhost:8080/",
     "height": 781
    },
    "executionInfo": {
     "elapsed": 1754,
     "status": "ok",
     "timestamp": 1665888671428,
     "user": {
      "displayName": "Vu Dam",
      "userId": "08349793932940266028"
     },
     "user_tz": -420
    },
    "id": "0mWVxmNFXphx",
    "outputId": "ad930c8d-20f5-4c43-f534-54c0e442c763"
   },
   "outputs": [
    {
     "data": {
      "text/plain": [
       "array([[<matplotlib.axes._subplots.AxesSubplot object at 0x7f21f04e9690>,\n",
       "        <matplotlib.axes._subplots.AxesSubplot object at 0x7f21f03fa150>,\n",
       "        <matplotlib.axes._subplots.AxesSubplot object at 0x7f21f03ac750>],\n",
       "       [<matplotlib.axes._subplots.AxesSubplot object at 0x7f21f03ddd50>,\n",
       "        <matplotlib.axes._subplots.AxesSubplot object at 0x7f21f039c390>,\n",
       "        <matplotlib.axes._subplots.AxesSubplot object at 0x7f21f0351990>],\n",
       "       [<matplotlib.axes._subplots.AxesSubplot object at 0x7f21f0306f50>,\n",
       "        <matplotlib.axes._subplots.AxesSubplot object at 0x7f21f02c5590>,\n",
       "        <matplotlib.axes._subplots.AxesSubplot object at 0x7f21f02c55d0>]],\n",
       "      dtype=object)"
      ]
     },
     "execution_count": 15,
     "metadata": {},
     "output_type": "execute_result"
    },
    {
     "data": {
      "image/png": "[encoded data removed]",
      "text/plain": [
       "<Figure size 864x720 with 9 Axes>"
      ]
     },
     "metadata": {
      "needs_background": "light"
     },
     "output_type": "display_data"
    }
   ],
   "source": [
    "# skewness - Độ lệch của phân phối dữ liệu\n",
    "# Vẽ biểu đồ histogram cho tất cả các thuộc tính số trong DataFrame\n",
    "# Biểu đồ này giúp chúng ta nhìn thấy phân phối của dữ liệu và xác định độ lệch\n",
    "\n",
    "df.hist(figsize=(12,10))"
   ]
  },
  {
   "cell_type": "code",
   "execution_count": null,
   "metadata": {
    "colab": {
     "base_uri": "https://localhost:8080/",
     "height": 516
    },
    "executionInfo": {
     "elapsed": 1224,
     "status": "ok",
     "timestamp": 1665888710535,
     "user": {
      "displayName": "Vu Dam",
      "userId": "08349793932940266028"
     },
     "user_tz": -420
    },
    "id": "xLAeS1ncXpkr",
    "outputId": "6c0c11d0-3a62-403a-bb74-3273a872d605"
   },
   "outputs": [
    {
     "data": {
      "image/png": "[encoded data removed]",
      "text/plain": [
       "<Figure size 864x576 with 1 Axes>"
      ]
     },
     "metadata": {
      "needs_background": "light"
     },
     "output_type": "display_data"
    }
   ],
   "source": [
    "# Tạo biểu đồ histogram cho cột NA_Sales với 30 khoảng (bins)\n",
    "# grid=False: không hiển thị lưới, figsize=(12,8): kích thước hình là 12x8 inch\n",
    "# color='#86bf91': màu xanh lá cây cho các cột trong biểu đồ\n",
    "ax = df.hist(column='NA_Sales', bins=30, grid=False, figsize=(12,8), color='#86bf91')\n",
    "\n",
    "# Lấy đối tượng axes đầu tiên từ mảng trả về từ hist()\n",
    "ax = ax[0]\n",
    "\n",
    "# Vòng lặp qua mỗi đối tượng trục (axes) trong biểu đồ để tùy chỉnh\n",
    "for x in ax:\n",
    "\n",
    "    # Ẩn viền bên phải của biểu đồ để làm gọn gàng hơn\n",
    "    x.spines['right'].set_visible(False)\n",
    "    # Ẩn viền trên cùng của biểu đồ\n",
    "    x.spines['top'].set_visible(False)\n",
    "    # Ẩn viền bên trái của biểu đồ\n",
    "    x.spines['left'].set_visible(False)\n",
    "\n",
    "    # Tắt tất cả các dấu tích (ticks) trên trục x và y\n",
    "    # bottom=\"off\": tắt dấu tích dưới, top=\"off\": tắt dấu tích trên\n",
    "    # labelbottom=\"on\": giữ nhãn dưới, left=\"off\": tắt dấu tích trái\n",
    "    # right=\"off\": tắt dấu tích phải, labelleft=\"on\": giữ nhãn trái\n",
    "    x.tick_params(axis=\"both\", which=\"both\", bottom=\"off\", top=\"off\", labelbottom=\"on\", left=\"off\", right=\"off\", labelleft=\"on\")\n",
    "\n",
    "    # Vẽ các đường ngang tương ứng với các giá trị trên trục y\n",
    "    # Lấy các giá trị tích trên trục y\n",
    "    vals = x.get_yticks()\n",
    "    # Với mỗi giá trị, vẽ một đường ngang đứt nét mờ để dễ đọc giá trị\n",
    "    for tick in vals:\n",
    "        x.axhline(y=tick, linestyle='dashed', alpha=0.4, color='#eeeeee', zorder=1)\n",
    "\n",
    "    # Xóa tiêu đề mặc định của biểu đồ\n",
    "    x.set_title(\"\")\n",
    "\n",
    "    # Đặt nhãn cho trục x với chú thích về ý nghĩa của NA_Sales\n",
    "    # labelpad=20: khoảng cách giữa trục và nhãn là 20 đơn vị\n",
    "    # weight='bold': in đậm, size=12: cỡ chữ là 12\n",
    "    x.set_xlabel(\"NA_Sales - Sales in North America (in millions)\", labelpad=20, weight='bold', size=12)\n",
    "\n",
    "    # Đặt nhãn cho trục y mô tả số lượng trò chơi\n",
    "    # labelpad=20: khoảng cách giữa trục và nhãn là 20 đơn vị\n",
    "    # weight='bold': in đậm, size=12: cỡ chữ là 12\n",
    "    x.set_ylabel(\"Số lượng trò chơi\", labelpad=20, weight='bold', size=12)\n"
   ]
  },
  {
   "cell_type": "markdown",
   "metadata": {
    "id": "c57DXkRxcXfw"
   },
   "source": [
    "Vì vậy, từ dữ liệu này, chúng ta không rút ra được nhiều thông tin hữu ích. Vấn đề là có quá nhiều giá trị bằng 0 trong doanh số bán tại Bắc Mỹ, khiến phân phối dữ liệu tập trung quá nhiều vào các giá trị 0. Do đó, chúng ta không thể quan sát được sự phân bố ở các giá trị khác."
   ]
  },
  {
   "cell_type": "code",
   "execution_count": null,
   "metadata": {
    "colab": {
     "base_uri": "https://localhost:8080/"
    },
    "executionInfo": {
     "elapsed": 473,
     "status": "ok",
     "timestamp": 1665888786269,
     "user": {
      "displayName": "Vu Dam",
      "userId": "08349793932940266028"
     },
     "user_tz": -420
    },
    "id": "d0q98pn2gSM1",
    "outputId": "d4726fe1-3cb2-4079-de7b-d49fff7e53c1"
   },
   "outputs": [
    {
     "data": {
      "text/plain": [
       "(16598, 11)"
      ]
     },
     "execution_count": 17,
     "metadata": {},
     "output_type": "execute_result"
    }
   ],
   "source": [
    "# Hiển thị kích thước (shape) của DataFrame df\n",
    "# Kết quả sẽ trả về một tuple (hàng, cột) cho biết số lượng hàng và cột trong DataFrame\n",
    "# Đây là một cách nhanh chóng để hiểu quy mô của bộ dữ liệu chúng ta đang làm việc với\n",
    "# Thông tin này giúp chúng ta xác định tổng số lượng mẫu (số hàng) và số lượng đặc trưng (số cột)\n",
    "df.shape"
   ]
  },
  {
   "cell_type": "code",
   "execution_count": null,
   "metadata": {
    "colab": {
     "base_uri": "https://localhost:8080/"
    },
    "executionInfo": {
     "elapsed": 346,
     "status": "ok",
     "timestamp": 1665888837267,
     "user": {
      "displayName": "Vu Dam",
      "userId": "08349793932940266028"
     },
     "user_tz": -420
    },
    "id": "TozpF_qTgUa_",
    "outputId": "934519a9-2139-4527-e529-9a696b1975e0"
   },
   "outputs": [
    {
     "data": {
      "text/plain": [
       "15688"
      ]
     },
     "execution_count": 19,
     "metadata": {},
     "output_type": "execute_result"
    }
   ],
   "source": [
    "# Đếm số lượng bản ghi trong DataFrame mà có doanh số bán tại Bắc Mỹ (NA_Sales) nhỏ hơn 1 triệu bản\n",
    "# df.loc[] lọc dữ liệu theo điều kiện 'NA_Sales' < 1\n",
    "# len() đếm số lượng bản ghi thỏa mãn điều kiện\n",
    "# Kết quả trả về sẽ cho biết có bao nhiêu trò chơi có doanh số bán tại Bắc Mỹ thấp hơn 1 triệu bản\n",
    "len(df.loc[df['NA_Sales'] < 1])"
   ]
  },
  {
   "cell_type": "code",
   "execution_count": null,
   "metadata": {
    "colab": {
     "base_uri": "https://localhost:8080/"
    },
    "executionInfo": {
     "elapsed": 3,
     "status": "ok",
     "timestamp": 1665768206378,
     "user": {
      "displayName": "Vu Dam",
      "userId": "08349793932940266028"
     },
     "user_tz": -420
    },
    "id": "4s7LbVZ_hSpY",
    "outputId": "9af13960-d9fc-4d49-e478-6a186e302349"
   },
   "outputs": [
    {
     "data": {
      "text/plain": [
       "1431"
      ]
     },
     "execution_count": 26,
     "metadata": {},
     "output_type": "execute_result"
    }
   ],
   "source": [
    "# Đếm số lượng trò chơi được phát hành trong năm 2009\n",
    "# Sử dụng phương thức loc để lọc DataFrame chỉ lấy các hàng có giá trị 'Year' bằng 2009\n",
    "# len() trả về tổng số lượng các hàng thỏa mãn điều kiện\n",
    "# Kết quả cho biết có bao nhiêu trò chơi đã được phát hành vào năm 2009 trong bộ dữ liệu\n",
    "len(df.loc[df['Year'] == 2009])"
   ]
  },
  {
   "cell_type": "code",
   "execution_count": null,
   "metadata": {
    "colab": {
     "base_uri": "https://localhost:8080/",
     "height": 516
    },
    "executionInfo": {
     "elapsed": 1192,
     "status": "ok",
     "timestamp": 1665888954411,
     "user": {
      "displayName": "Vu Dam",
      "userId": "08349793932940266028"
     },
     "user_tz": -420
    },
    "id": "IOsYd2cweoNb",
    "outputId": "d33128c1-9812-4c27-f23b-56ff9ccb1c9a"
   },
   "outputs": [
    {
     "data": {
      "image/png": "[encoded data removed]",
      "text/plain": [
       "<Figure size 864x576 with 1 Axes>"
      ]
     },
     "metadata": {
      "needs_background": "light"
     },
     "output_type": "display_data"
    }
   ],
   "source": [
    "# Lọc dữ liệu và chỉ giữ lại các bản ghi có doanh số bán ở Bắc Mỹ (NA_Sales) lớn hơn 1 triệu\n",
    "na_sales = df.loc[df['NA_Sales'] > 1]\n",
    "\n",
    "# Tạo biểu đồ histogram từ dữ liệu đã lọc với 20 khoảng (bins)\n",
    "# grid=False: không hiển thị lưới, figsize=(12,8): kích thước biểu đồ là 12x8 inch\n",
    "# color='#86bf91': sử dụng màu xanh lá cây cho các cột trong biểu đồ\n",
    "ax = na_sales.hist(column='NA_Sales', bins=20, grid=False, figsize=(12,8), color='#86bf91')\n",
    "\n",
    "# Lấy đối tượng axes đầu tiên từ mảng axes trả về từ hàm hist()\n",
    "ax = ax[0]\n",
    "\n",
    "# Vòng lặp qua từng đối tượng trục (axes) trong biểu đồ để tùy chỉnh giao diện\n",
    "for x in ax:\n",
    "\n",
    "    # Loại bỏ viền bên phải của biểu đồ để làm cho biểu đồ trông gọn gàng hơn\n",
    "    x.spines['right'].set_visible(False)\n",
    "    # Loại bỏ viền phía trên của biểu đồ\n",
    "    x.spines['top'].set_visible(False)\n",
    "    # Loại bỏ viền bên trái của biểu đồ\n",
    "    x.spines['left'].set_visible(False)\n",
    "\n",
    "    # Tắt tất cả các dấu tích (ticks) trên trục\n",
    "    # bottom=\"off\": tắt dấu tích dưới, top=\"off\": tắt dấu tích trên\n",
    "    # labelbottom=\"on\": giữ nhãn dưới, left=\"off\": tắt dấu tích trái\n",
    "    # right=\"off\": tắt dấu tích phải, labelleft=\"on\": giữ nhãn trái\n",
    "    x.tick_params(axis=\"both\", which=\"both\", bottom=\"off\", top=\"off\", labelbottom=\"on\", left=\"off\", right=\"off\", labelleft=\"on\")\n",
    "\n",
    "    # Vẽ các đường ngang tương ứng với các giá trị trục y\n",
    "    # Lấy các giá trị tích trên trục y\n",
    "    vals = x.get_yticks()\n",
    "    # Với mỗi giá trị, vẽ một đường ngang đứt nét mờ để dễ đọc giá trị\n",
    "    for tick in vals:\n",
    "        x.axhline(y=tick, linestyle='dashed', alpha=0.4, color='#eeeeee', zorder=1)\n",
    "\n",
    "    # Xóa tiêu đề mặc định của biểu đồ\n",
    "    x.set_title(\"\")\n",
    "\n",
    "    # Đặt nhãn cho trục x, mô tả doanh số bán ở Bắc Mỹ (chỉ hiển thị các giá trị >1 triệu)\n",
    "    # labelpad=20: khoảng cách giữa trục và nhãn là 20 đơn vị\n",
    "    # weight='bold': in đậm, size=12: kích thước chữ là 12\n",
    "    x.set_xlabel(\"NA_Sales (>1 triệu) – Doanh số tại Bắc Mỹ (tính bằng triệu đơn vị)\", labelpad=20, weight='bold', size=12)\n",
    "\n",
    "    # Đặt nhãn cho trục y, mô tả số lượng trò chơi video\n",
    "    # labelpad=20: khoảng cách giữa trục và nhãn là 20 đơn vị\n",
    "    # weight='bold': in đậm, size=12: kích thước chữ là 12\n",
    "    x.set_ylabel(\"Số lượng trò chơi điện tử\", labelpad=20, weight='bold', size=12)"
   ]
  },
  {
   "cell_type": "code",
   "execution_count": null,
   "metadata": {
    "colab": {
     "base_uri": "https://localhost:8080/",
     "height": 516
    },
    "executionInfo": {
     "elapsed": 615,
     "status": "ok",
     "timestamp": 1665889027060,
     "user": {
      "displayName": "Vu Dam",
      "userId": "08349793932940266028"
     },
     "user_tz": -420
    },
    "id": "rLKSUWZPheP9",
    "outputId": "4adf2d5a-3279-4be2-ba74-fe1d0dd8ffbb"
   },
   "outputs": [
    {
     "data": {
      "image/png": "[encoded data removed]",
      "text/plain": [
       "<Figure size 864x576 with 1 Axes>"
      ]
     },
     "metadata": {
      "needs_background": "light"
     },
     "output_type": "display_data"
    }
   ],
   "source": [
    "# Lọc dữ liệu chỉ lấy các trò chơi được phát hành trong năm 2009\n",
    "na_sales_2009 = df.loc[df['Year'] == 2009]\n",
    "\n",
    "# Tạo biểu đồ histogram cho cột NA_Sales của các trò chơi năm 2009 với 20 khoảng (bins)\n",
    "# grid=False: không hiển thị lưới, figsize=(12,8): kích thước biểu đồ là 12x8 inch\n",
    "# color='#86bf91': sử dụng màu xanh lá cây cho các cột trong biểu đồ\n",
    "ax = na_sales_2009.hist(column='NA_Sales', bins=20, grid=False, figsize=(12,8), color='#86bf91')\n",
    "\n",
    "# Lấy đối tượng axes đầu tiên từ mảng axes trả về từ hàm hist()\n",
    "ax = ax[0]\n",
    "\n",
    "# Vòng lặp qua từng đối tượng trục (axes) trong biểu đồ để tùy chỉnh giao diện\n",
    "for x in ax:\n",
    "\n",
    "    # Ẩn viền bên phải của biểu đồ để làm cho biểu đồ trông gọn gàng hơn\n",
    "    x.spines['right'].set_visible(False)\n",
    "    # Ẩn viền phía trên của biểu đồ\n",
    "    x.spines['top'].set_visible(False)\n",
    "    # Ẩn viền bên trái của biểu đồ\n",
    "    x.spines['left'].set_visible(False)\n",
    "\n",
    "    # Tắt tất cả các dấu tích (ticks) trên trục\n",
    "    # bottom=\"off\": tắt dấu tích dưới, top=\"off\": tắt dấu tích trên\n",
    "    # labelbottom=\"on\": giữ nhãn dưới, left=\"off\": tắt dấu tích trái\n",
    "    # right=\"off\": tắt dấu tích phải, labelleft=\"on\": giữ nhãn trái\n",
    "    x.tick_params(axis=\"both\", which=\"both\", bottom=\"off\", top=\"off\", labelbottom=\"on\", left=\"off\", right=\"off\", labelleft=\"on\")\n",
    "\n",
    "    # Vẽ các đường ngang tương ứng với các giá trị trục y\n",
    "    # Lấy các giá trị tích trên trục y\n",
    "    vals = x.get_yticks()\n",
    "    # Với mỗi giá trị, vẽ một đường ngang đứt nét mờ để dễ đọc giá trị\n",
    "    for tick in vals:\n",
    "        x.axhline(y=tick, linestyle='dashed', alpha=0.4, color='#eeeeee', zorder=1)\n",
    "\n",
    "    # Xóa tiêu đề mặc định của biểu đồ\n",
    "    x.set_title(\"\")\n",
    "\n",
    "    # Đặt nhãn cho trục x, mô tả doanh số bán ở Bắc Mỹ (chỉ cho năm 2009)\n",
    "    # labelpad=20: khoảng cách giữa trục và nhãn là 20 đơn vị\n",
    "    # weight='bold': in đậm, size=12: kích thước chữ là 12\n",
    "    x.set_xlabel(\"NA_Sales (năm 2009) – Doanh số tại Bắc Mỹ (tính bằng triệu đơn vị)\", labelpad=20, weight='bold', size=12)\n",
    "\n",
    "    # Đặt nhãn cho trục y, mô tả số lượng trò chơi\n",
    "    # labelpad=20: khoảng cách giữa trục và nhãn là 20 đơn vị\n",
    "    # weight='bold': in đậm, size=12: kích thước chữ là 12\n",
    "    x.set_ylabel(\"Số lượng trò chơi điện tử\", labelpad=20, weight='bold', size=12)"
   ]
  },
  {
   "cell_type": "code",
   "execution_count": null,
   "metadata": {
    "colab": {
     "base_uri": "https://localhost:8080/",
     "height": 516
    },
    "executionInfo": {
     "elapsed": 435,
     "status": "ok",
     "timestamp": 1665889103857,
     "user": {
      "displayName": "Vu Dam",
      "userId": "08349793932940266028"
     },
     "user_tz": -420
    },
    "id": "lBGMTt3Si8cb",
    "outputId": "c2fc5d7c-2a59-4101-9ca8-b588a261361a"
   },
   "outputs": [
    {
     "data": {
      "image/png": "[encoded data removed]",
      "text/plain": [
       "<Figure size 864x576 with 1 Axes>"
      ]
     },
     "metadata": {
      "needs_background": "light"
     },
     "output_type": "display_data"
    }
   ],
   "source": [
    "# Tạo biểu đồ histogram cho cột 'Year' với 20 khoảng (bins)\n",
    "# grid=False: không hiển thị lưới, figsize=(12,8): kích thước biểu đồ là 12x8 inch\n",
    "# color='#86bf91': sử dụng màu xanh lá cây cho các cột trong biểu đồ\n",
    "ax = df.hist(column='Year', bins=20, grid=False, figsize=(12,8), color='#86bf91')\n",
    "\n",
    "# Lấy đối tượng axes đầu tiên từ mảng axes trả về từ hàm hist()\n",
    "ax = ax[0]\n",
    "\n",
    "# Vòng lặp qua từng đối tượng trục (axes) trong biểu đồ để tùy chỉnh giao diện\n",
    "for x in ax:\n",
    "\n",
    "    # Ẩn viền bên phải của biểu đồ để làm cho biểu đồ trông gọn gàng hơn\n",
    "    x.spines['right'].set_visible(False)\n",
    "    # Ẩn viền phía trên của biểu đồ\n",
    "    x.spines['top'].set_visible(False)\n",
    "    # Ẩn viền bên trái của biểu đồ\n",
    "    x.spines['left'].set_visible(False)\n",
    "\n",
    "    # Tắt tất cả các dấu tích (ticks) trên trục\n",
    "    # bottom=\"off\": tắt dấu tích dưới, top=\"off\": tắt dấu tích trên\n",
    "    # labelbottom=\"on\": giữ nhãn dưới, left=\"off\": tắt dấu tích trái\n",
    "    # right=\"off\": tắt dấu tích phải, labelleft=\"on\": giữ nhãn trái\n",
    "    x.tick_params(axis=\"both\", which=\"both\", bottom=\"off\", top=\"off\", labelbottom=\"on\", left=\"off\", right=\"off\", labelleft=\"on\")\n",
    "\n",
    "    # Vẽ các đường ngang tương ứng với các giá trị trục y\n",
    "    # Lấy các giá trị tích trên trục y\n",
    "    vals = x.get_yticks()\n",
    "    # Với mỗi giá trị, vẽ một đường ngang đứt nét mờ để dễ đọc giá trị\n",
    "    for tick in vals:\n",
    "        x.axhline(y=tick, linestyle='dashed', alpha=0.4, color='#eeeeee', zorder=1)\n",
    "\n",
    "    # Xóa tiêu đề mặc định của biểu đồ\n",
    "    x.set_title(\"\")\n",
    "\n",
    "    # Đặt nhãn cho trục x, mô tả phân phối năm phát hành\n",
    "    # labelpad=20: khoảng cách giữa trục và nhãn là 20 đơn vị\n",
    "    # weight='bold': in đậm, size=12: kích thước chữ là 12\n",
    "    x.set_xlabel(\"Phân phối theo năm phát hành\", labelpad=20, weight='bold', size=12)\n",
    "\n",
    "    # Đặt nhãn cho trục y, mô tả số lượng trò chơi \n",
    "    # labelpad=20: khoảng cách giữa trục và nhãn là 20 đơn vị\n",
    "    # weight='bold': in đậm, size=12: kích thước chữ là 12\n",
    "    x.set_ylabel(\"Số lượng trò chơi\", labelpad=20, weight='bold', size=12)"
   ]
  },
  {
   "cell_type": "markdown",
   "metadata": {
    "id": "smYdReJBJ9HV"
   },
   "source": [
    "## 4.2 Spread: Range, Variance, Standard deviation"
   ]
  },
  {
   "cell_type": "code",
   "execution_count": null,
   "metadata": {
    "colab": {
     "base_uri": "https://localhost:8080/",
     "height": 300
    },
    "executionInfo": {
     "elapsed": 386,
     "status": "ok",
     "timestamp": 1665891424747,
     "user": {
      "displayName": "Vu Dam",
      "userId": "08349793932940266028"
     },
     "user_tz": -420
    },
    "id": "vI3rZjDjLbEG",
    "outputId": "2c5ec172-7096-4b25-c5ee-9ccc85875962"
   },
   "outputs": [
    {
     "data": {
      "text/html": [
       "\n",
       "  <div id=\"df-2a1a174c-1b87-4210-8bae-02edc9479ebe\">\n",
       "    <div class=\"colab-df-container\">\n",
       "      <div>\n",
       "<style scoped>\n",
       "    .dataframe tbody tr th:only-of-type {\n",
       "        vertical-align: middle;\n",
       "    }\n",
       "\n",
       "    .dataframe tbody tr th {\n",
       "        vertical-align: top;\n",
       "    }\n",
       "\n",
       "    .dataframe thead th {\n",
       "        text-align: right;\n",
       "    }\n",
       "</style>\n",
       "<table border=\"1\" class=\"dataframe\">\n",
       "  <thead>\n",
       "    <tr style=\"text-align: right;\">\n",
       "      <th></th>\n",
       "      <th>Rank</th>\n",
       "      <th>Year</th>\n",
       "      <th>NA_Sales</th>\n",
       "      <th>EU_Sales</th>\n",
       "      <th>JP_Sales</th>\n",
       "      <th>Other_Sales</th>\n",
       "      <th>Global_Sales</th>\n",
       "    </tr>\n",
       "  </thead>\n",
       "  <tbody>\n",
       "    <tr>\n",
       "      <th>count</th>\n",
       "      <td>16598.000000</td>\n",
       "      <td>16327.000000</td>\n",
       "      <td>16598.000000</td>\n",
       "      <td>16598.000000</td>\n",
       "      <td>16598.000000</td>\n",
       "      <td>16598.000000</td>\n",
       "      <td>16598.000000</td>\n",
       "    </tr>\n",
       "    <tr>\n",
       "      <th>mean</th>\n",
       "      <td>8300.605254</td>\n",
       "      <td>2006.406443</td>\n",
       "      <td>0.264667</td>\n",
       "      <td>0.146652</td>\n",
       "      <td>0.077782</td>\n",
       "      <td>0.048063</td>\n",
       "      <td>0.537441</td>\n",
       "    </tr>\n",
       "    <tr>\n",
       "      <th>std</th>\n",
       "      <td>4791.853933</td>\n",
       "      <td>5.828981</td>\n",
       "      <td>0.816683</td>\n",
       "      <td>0.505351</td>\n",
       "      <td>0.309291</td>\n",
       "      <td>0.188588</td>\n",
       "      <td>1.555028</td>\n",
       "    </tr>\n",
       "    <tr>\n",
       "      <th>min</th>\n",
       "      <td>1.000000</td>\n",
       "      <td>1980.000000</td>\n",
       "      <td>0.000000</td>\n",
       "      <td>0.000000</td>\n",
       "      <td>0.000000</td>\n",
       "      <td>0.000000</td>\n",
       "      <td>0.010000</td>\n",
       "    </tr>\n",
       "    <tr>\n",
       "      <th>25%</th>\n",
       "      <td>4151.250000</td>\n",
       "      <td>2003.000000</td>\n",
       "      <td>0.000000</td>\n",
       "      <td>0.000000</td>\n",
       "      <td>0.000000</td>\n",
       "      <td>0.000000</td>\n",
       "      <td>0.060000</td>\n",
       "    </tr>\n",
       "    <tr>\n",
       "      <th>50%</th>\n",
       "      <td>8300.500000</td>\n",
       "      <td>2007.000000</td>\n",
       "      <td>0.080000</td>\n",
       "      <td>0.020000</td>\n",
       "      <td>0.000000</td>\n",
       "      <td>0.010000</td>\n",
       "      <td>0.170000</td>\n",
       "    </tr>\n",
       "    <tr>\n",
       "      <th>75%</th>\n",
       "      <td>12449.750000</td>\n",
       "      <td>2010.000000</td>\n",
       "      <td>0.240000</td>\n",
       "      <td>0.110000</td>\n",
       "      <td>0.040000</td>\n",
       "      <td>0.040000</td>\n",
       "      <td>0.470000</td>\n",
       "    </tr>\n",
       "    <tr>\n",
       "      <th>max</th>\n",
       "      <td>16600.000000</td>\n",
       "      <td>2020.000000</td>\n",
       "      <td>41.490000</td>\n",
       "      <td>29.020000</td>\n",
       "      <td>10.220000</td>\n",
       "      <td>10.570000</td>\n",
       "      <td>82.740000</td>\n",
       "    </tr>\n",
       "  </tbody>\n",
       "</table>\n",
       "</div>\n",
       "      <button class=\"colab-df-convert\" onclick=\"convertToInteractive('df-2a1a174c-1b87-4210-8bae-02edc9479ebe')\"\n",
       "              title=\"Convert this dataframe to an interactive table.\"\n",
       "              style=\"display:none;\">\n",
       "        \n",
       "  <svg xmlns=\"http://www.w3.org/2000/svg\" height=\"24px\"viewBox=\"0 0 24 24\"\n",
       "       width=\"24px\">\n",
       "    <path d=\"M0 0h24v24H0V0z\" fill=\"none\"/>\n",
       "    <path d=\"M18.56 5.44l.94 2.06.94-2.06 2.06-.94-2.06-.94-.94-2.06-.94 2.06-2.06.94zm-11 1L8.5 8.5l.94-2.06 2.06-.94-2.06-.94L8.5 2.5l-.94 2.06-2.06.94zm10 10l.94 2.06.94-2.06 2.06-.94-2.06-.94-.94-2.06-.94 2.06-2.06.94z\"/><path d=\"M17.41 7.96l-1.37-1.37c-.4-.4-.92-.59-1.43-.59-.52 0-1.04.2-1.43.59L10.3 9.45l-7.72 7.72c-.78.78-.78 2.05 0 2.83L4 21.41c.39.39.9.59 1.41.59.51 0 1.02-.2 1.41-.59l7.78-7.78 2.81-2.81c.8-.78.8-2.07 0-2.86zM5.41 20L4 18.59l7.72-7.72 1.47 1.35L5.41 20z\"/>\n",
       "  </svg>\n",
       "      </button>\n",
       "      \n",
       "  <style>\n",
       "    .colab-df-container {\n",
       "      display:flex;\n",
       "      flex-wrap:wrap;\n",
       "      gap: 12px;\n",
       "    }\n",
       "\n",
       "    .colab-df-convert {\n",
       "      background-color: #E8F0FE;\n",
       "      border: none;\n",
       "      border-radius: 50%;\n",
       "      cursor: pointer;\n",
       "      display: none;\n",
       "      fill: #1967D2;\n",
       "      height: 32px;\n",
       "      padding: 0 0 0 0;\n",
       "      width: 32px;\n",
       "    }\n",
       "\n",
       "    .colab-df-convert:hover {\n",
       "      background-color: #E2EBFA;\n",
       "      box-shadow: 0px 1px 2px rgba(60, 64, 67, 0.3), 0px 1px 3px 1px rgba(60, 64, 67, 0.15);\n",
       "      fill: #174EA6;\n",
       "    }\n",
       "\n",
       "    [theme=dark] .colab-df-convert {\n",
       "      background-color: #3B4455;\n",
       "      fill: #D2E3FC;\n",
       "    }\n",
       "\n",
       "    [theme=dark] .colab-df-convert:hover {\n",
       "      background-color: #434B5C;\n",
       "      box-shadow: 0px 1px 3px 1px rgba(0, 0, 0, 0.15);\n",
       "      filter: drop-shadow(0px 1px 2px rgba(0, 0, 0, 0.3));\n",
       "      fill: #FFFFFF;\n",
       "    }\n",
       "  </style>\n",
       "\n",
       "      <script>\n",
       "        const buttonEl =\n",
       "          document.querySelector('#df-2a1a174c-1b87-4210-8bae-02edc9479ebe button.colab-df-convert');\n",
       "        buttonEl.style.display =\n",
       "          google.colab.kernel.accessAllowed ? 'block' : 'none';\n",
       "\n",
       "        async function convertToInteractive(key) {\n",
       "          const element = document.querySelector('#df-2a1a174c-1b87-4210-8bae-02edc9479ebe');\n",
       "          const dataTable =\n",
       "            await google.colab.kernel.invokeFunction('convertToInteractive',\n",
       "                                                     [key], {});\n",
       "          if (!dataTable) return;\n",
       "\n",
       "          const docLinkHtml = 'Like what you see? Visit the ' +\n",
       "            '<a target=\"_blank\" href=https://colab.research.google.com/notebooks/data_table.ipynb>data table notebook</a>'\n",
       "            + ' to learn more about interactive tables.';\n",
       "          element.innerHTML = '';\n",
       "          dataTable['output_type'] = 'display_data';\n",
       "          await google.colab.output.renderOutput(dataTable, element);\n",
       "          const docLink = document.createElement('div');\n",
       "          docLink.innerHTML = docLinkHtml;\n",
       "          element.appendChild(docLink);\n",
       "        }\n",
       "      </script>\n",
       "    </div>\n",
       "  </div>\n",
       "  "
      ],
      "text/plain": [
       "               Rank          Year      NA_Sales      EU_Sales      JP_Sales  \\\n",
       "count  16598.000000  16327.000000  16598.000000  16598.000000  16598.000000   \n",
       "mean    8300.605254   2006.406443      0.264667      0.146652      0.077782   \n",
       "std     4791.853933      5.828981      0.816683      0.505351      0.309291   \n",
       "min        1.000000   1980.000000      0.000000      0.000000      0.000000   \n",
       "25%     4151.250000   2003.000000      0.000000      0.000000      0.000000   \n",
       "50%     8300.500000   2007.000000      0.080000      0.020000      0.000000   \n",
       "75%    12449.750000   2010.000000      0.240000      0.110000      0.040000   \n",
       "max    16600.000000   2020.000000     41.490000     29.020000     10.220000   \n",
       "\n",
       "        Other_Sales  Global_Sales  \n",
       "count  16598.000000  16598.000000  \n",
       "mean       0.048063      0.537441  \n",
       "std        0.188588      1.555028  \n",
       "min        0.000000      0.010000  \n",
       "25%        0.000000      0.060000  \n",
       "50%        0.010000      0.170000  \n",
       "75%        0.040000      0.470000  \n",
       "max       10.570000     82.740000  "
      ]
     },
     "execution_count": 24,
     "metadata": {},
     "output_type": "execute_result"
    }
   ],
   "source": [
    "# Hiển thị thống kê mô tả cho tất cả các cột số trong DataFrame\n",
    "# Bao gồm:\n",
    "# count - số lượng giá trị không null\n",
    "# mean - giá trị trung bình\n",
    "# std - độ lệch chuẩn\n",
    "# min - giá trị nhỏ nhất\n",
    "# 25% - phân vị thứ nhất (Q1)\n",
    "# 50% - phân vị thứ hai (trung vị)\n",
    "# 75% - phân vị thứ ba (Q3)\n",
    "# max - giá trị lớn nhất\n",
    "# Những con số này giúp chúng ta hiểu được phân phối của dữ liệu số trong bộ dữ liệu\n",
    "df.describe()"
   ]
  },
  {
   "cell_type": "code",
   "execution_count": null,
   "metadata": {
    "colab": {
     "base_uri": "https://localhost:8080/"
    },
    "executionInfo": {
     "elapsed": 487,
     "status": "ok",
     "timestamp": 1665891464918,
     "user": {
      "displayName": "Vu Dam",
      "userId": "08349793932940266028"
     },
     "user_tz": -420
    },
    "id": "eHlKWR2xLdLh",
    "outputId": "fe256788-733e-45f4-fbd9-42eddb2bca70"
   },
   "outputs": [
    {
     "name": "stdout",
     "output_type": "stream",
     "text": [
      "The Max value for NA Sales is 41.49 and the Min value for NA Sales is 0.0. Thefore, the range for NA Sales is 41.49\n",
      "The Max value for EU Sales is 29.02 and the Min value for EU Sales is 0.0. Thefore, the range for EU Sales is 29.02\n",
      "The Max value for JP Sales is 10.22 and the Min value for JP Sales is 0.0. Thefore, the range for JP Sales is 10.22\n",
      "The Max value for Other Sales is 10.57 and the Min value for Other Sales is 0.0. Thefore, the range for Other Sales is 10.57\n",
      "The Max value for Global Sales is 82.74 and the Min value for Global Sales is 0.01. Thefore, the range for Global Sales is 82.72999999999999\n"
     ]
    }
   ],
   "source": [
    "# Tính toán phạm vi (range) của doanh số bán hàng cho các khu vực khác nhau\n",
    "\n",
    "# Tìm giá trị lớn nhất của doanh số bán ở Bắc Mỹ\n",
    "max_na_sales = df[\"NA_Sales\"].max()\n",
    "# Tìm giá trị nhỏ nhất của doanh số bán ở Bắc Mỹ\n",
    "min_na_sales = df[\"NA_Sales\"].min()\n",
    "# Tính phạm vi (khoảng) của doanh số bán ở Bắc Mỹ bằng cách lấy giá trị lớn nhất trừ đi giá trị nhỏ nhất\n",
    "range_na_sales = max_na_sales - min_na_sales\n",
    "\n",
    "# Tìm giá trị lớn nhất của doanh số bán ở châu Âu\n",
    "max_eu_sales = df[\"EU_Sales\"].max()\n",
    "# Tìm giá trị nhỏ nhất của doanh số bán ở châu Âu\n",
    "min_eu_sales = df[\"EU_Sales\"].min()\n",
    "# Tính phạm vi của doanh số bán ở châu Âu bằng cách lấy giá trị lớn nhất trừ đi giá trị nhỏ nhất\n",
    "range_eu_sales = max_eu_sales - min_eu_sales\n",
    "\n",
    "# Tìm giá trị lớn nhất của doanh số bán ở Nhật Bản\n",
    "max_jp_sales = df[\"JP_Sales\"].max()\n",
    "# Tìm giá trị nhỏ nhất của doanh số bán ở Nhật Bản\n",
    "min_jp_sales = df[\"JP_Sales\"].min()\n",
    "# Tính phạm vi của doanh số bán ở Nhật Bản bằng cách lấy giá trị lớn nhất trừ đi giá trị nhỏ nhất\n",
    "range_jp_sales = max_jp_sales - min_jp_sales\n",
    "\n",
    "# Tìm giá trị lớn nhất của doanh số bán ở các khu vực khác\n",
    "max_other_sales = df[\"Other_Sales\"].max()\n",
    "# Tìm giá trị nhỏ nhất của doanh số bán ở các khu vực khác\n",
    "min_other_sales = df[\"Other_Sales\"].min()\n",
    "# Tính phạm vi của doanh số bán ở các khu vực khác bằng cách lấy giá trị lớn nhất trừ đi giá trị nhỏ nhất\n",
    "range_other_sales = max_other_sales - min_other_sales\n",
    "\n",
    "# Tìm giá trị lớn nhất của doanh số bán toàn cầu\n",
    "max_global_sales = df[\"Global_Sales\"].max()\n",
    "# Tìm giá trị nhỏ nhất của doanh số bán toàn cầu\n",
    "min_global_sales = df[\"Global_Sales\"].min()\n",
    "# Tính phạm vi của doanh số bán toàn cầu bằng cách lấy giá trị lớn nhất trừ đi giá trị nhỏ nhất\n",
    "range_global_sales = max_global_sales - min_global_sales\n",
    "\n",
    "# In ra thông tin về giá trị lớn nhất, nhỏ nhất và phạm vi của doanh số bán ở Bắc Mỹ\n",
    "print(\"Giá trị lớn nhất của doanh số bán tại Bắc Mỹ là \" + str(max_na_sales) + \" và giá trị nhỏ nhất của doanh số bán tại Bắc Mỹ là \" + str(min_na_sales) + \". Vì vậy, khoảng biến thiên của doanh số bán tại Bắc Mỹ là \" + str(range_na_sales))\n",
    "# In ra thông tin về giá trị lớn nhất, nhỏ nhất và phạm vi của doanh số bán ở châu Âu\n",
    "print(\"Giá trị lớn nhất của doanh số bán tại Châu Âu là \" + str(max_eu_sales) + \" và giá trị nhỏ nhất của doanh số bán tại Châu Âu là \" + str(min_eu_sales) + \". Vì vậy, khoảng biến thiên của doanh số bán tại Châu Âu là \" + str(range_eu_sales))\n",
    "# In ra thông tin về giá trị lớn nhất, nhỏ nhất và phạm vi của doanh số bán ở Nhật Bản\n",
    "print(\"Giá trị lớn nhất của doanh số bán tại Nhật Bản là \" + str(max_jp_sales) + \" và giá trị nhỏ nhất của doanh số bán tại Nhật Bản là \" + str(min_jp_sales) + \". Vì vậy, khoảng biến thiên của doanh số bán tại Nhật Bản là \" + str(range_jp_sales))\n",
    "# In ra thông tin về giá trị lớn nhất, nhỏ nhất và phạm vi của doanh số bán ở các khu vực khác\n",
    "print(\"Giá trị lớn nhất của doanh số bán ở các khu vực khác là \" + str(max_other_sales) + \" và giá trị nhỏ nhất của doanh số bán ở các khu vực khác là \" + str(min_other_sales) + \". Vì vậy, khoảng biến thiên của doanh số bán ở các khu vực khác là \" + str(range_other_sales))\n",
    "# In ra thông tin về giá trị lớn nhất, nhỏ nhất và phạm vi của doanh số bán toàn cầu\n",
    "print(\"Giá trị lớn nhất của doanh số bán toàn cầu là \" + str(max_global_sales) + \" và giá trị nhỏ nhất của doanh số bán toàn cầu là \" + str(min_global_sales) + \". Vì vậy, khoảng biến thiên của doanh số bán toàn cầu là \" + str(range_global_sales))"
   ]
  },
  {
   "cell_type": "code",
   "execution_count": null,
   "metadata": {
    "colab": {
     "base_uri": "https://localhost:8080/",
     "height": 143
    },
    "executionInfo": {
     "elapsed": 382,
     "status": "ok",
     "timestamp": 1665891479353,
     "user": {
      "displayName": "Vu Dam",
      "userId": "08349793932940266028"
     },
     "user_tz": -420
    },
    "id": "HWCjFOBvP7Y5",
    "outputId": "92363e40-c96f-4774-abeb-9d7b69f4b5be"
   },
   "outputs": [
    {
     "data": {
      "text/html": [
       "\n",
       "  <div id=\"df-9c4e153f-e088-4ed1-8b1d-3c88e84eb462\">\n",
       "    <div class=\"colab-df-container\">\n",
       "      <div>\n",
       "<style scoped>\n",
       "    .dataframe tbody tr th:only-of-type {\n",
       "        vertical-align: middle;\n",
       "    }\n",
       "\n",
       "    .dataframe tbody tr th {\n",
       "        vertical-align: top;\n",
       "    }\n",
       "\n",
       "    .dataframe thead th {\n",
       "        text-align: right;\n",
       "    }\n",
       "</style>\n",
       "<table border=\"1\" class=\"dataframe\">\n",
       "  <thead>\n",
       "    <tr style=\"text-align: right;\">\n",
       "      <th></th>\n",
       "      <th>NA Sales</th>\n",
       "      <th>EU Sales</th>\n",
       "      <th>JP Sales</th>\n",
       "      <th>Other Sales</th>\n",
       "      <th>Global Sales</th>\n",
       "    </tr>\n",
       "  </thead>\n",
       "  <tbody>\n",
       "    <tr>\n",
       "      <th>Max</th>\n",
       "      <td>41.49</td>\n",
       "      <td>29.02</td>\n",
       "      <td>10.22</td>\n",
       "      <td>10.57</td>\n",
       "      <td>82.74</td>\n",
       "    </tr>\n",
       "    <tr>\n",
       "      <th>Min</th>\n",
       "      <td>0.00</td>\n",
       "      <td>0.00</td>\n",
       "      <td>0.00</td>\n",
       "      <td>0.00</td>\n",
       "      <td>0.01</td>\n",
       "    </tr>\n",
       "    <tr>\n",
       "      <th>Range</th>\n",
       "      <td>41.49</td>\n",
       "      <td>29.02</td>\n",
       "      <td>10.22</td>\n",
       "      <td>10.57</td>\n",
       "      <td>82.73</td>\n",
       "    </tr>\n",
       "  </tbody>\n",
       "</table>\n",
       "</div>\n",
       "      <button class=\"colab-df-convert\" onclick=\"convertToInteractive('df-9c4e153f-e088-4ed1-8b1d-3c88e84eb462')\"\n",
       "              title=\"Convert this dataframe to an interactive table.\"\n",
       "              style=\"display:none;\">\n",
       "        \n",
       "  <svg xmlns=\"http://www.w3.org/2000/svg\" height=\"24px\"viewBox=\"0 0 24 24\"\n",
       "       width=\"24px\">\n",
       "    <path d=\"M0 0h24v24H0V0z\" fill=\"none\"/>\n",
       "    <path d=\"M18.56 5.44l.94 2.06.94-2.06 2.06-.94-2.06-.94-.94-2.06-.94 2.06-2.06.94zm-11 1L8.5 8.5l.94-2.06 2.06-.94-2.06-.94L8.5 2.5l-.94 2.06-2.06.94zm10 10l.94 2.06.94-2.06 2.06-.94-2.06-.94-.94-2.06-.94 2.06-2.06.94z\"/><path d=\"M17.41 7.96l-1.37-1.37c-.4-.4-.92-.59-1.43-.59-.52 0-1.04.2-1.43.59L10.3 9.45l-7.72 7.72c-.78.78-.78 2.05 0 2.83L4 21.41c.39.39.9.59 1.41.59.51 0 1.02-.2 1.41-.59l7.78-7.78 2.81-2.81c.8-.78.8-2.07 0-2.86zM5.41 20L4 18.59l7.72-7.72 1.47 1.35L5.41 20z\"/>\n",
       "  </svg>\n",
       "      </button>\n",
       "      \n",
       "  <style>\n",
       "    .colab-df-container {\n",
       "      display:flex;\n",
       "      flex-wrap:wrap;\n",
       "      gap: 12px;\n",
       "    }\n",
       "\n",
       "    .colab-df-convert {\n",
       "      background-color: #E8F0FE;\n",
       "      border: none;\n",
       "      border-radius: 50%;\n",
       "      cursor: pointer;\n",
       "      display: none;\n",
       "      fill: #1967D2;\n",
       "      height: 32px;\n",
       "      padding: 0 0 0 0;\n",
       "      width: 32px;\n",
       "    }\n",
       "\n",
       "    .colab-df-convert:hover {\n",
       "      background-color: #E2EBFA;\n",
       "      box-shadow: 0px 1px 2px rgba(60, 64, 67, 0.3), 0px 1px 3px 1px rgba(60, 64, 67, 0.15);\n",
       "      fill: #174EA6;\n",
       "    }\n",
       "\n",
       "    [theme=dark] .colab-df-convert {\n",
       "      background-color: #3B4455;\n",
       "      fill: #D2E3FC;\n",
       "    }\n",
       "\n",
       "    [theme=dark] .colab-df-convert:hover {\n",
       "      background-color: #434B5C;\n",
       "      box-shadow: 0px 1px 3px 1px rgba(0, 0, 0, 0.15);\n",
       "      filter: drop-shadow(0px 1px 2px rgba(0, 0, 0, 0.3));\n",
       "      fill: #FFFFFF;\n",
       "    }\n",
       "  </style>\n",
       "\n",
       "      <script>\n",
       "        const buttonEl =\n",
       "          document.querySelector('#df-9c4e153f-e088-4ed1-8b1d-3c88e84eb462 button.colab-df-convert');\n",
       "        buttonEl.style.display =\n",
       "          google.colab.kernel.accessAllowed ? 'block' : 'none';\n",
       "\n",
       "        async function convertToInteractive(key) {\n",
       "          const element = document.querySelector('#df-9c4e153f-e088-4ed1-8b1d-3c88e84eb462');\n",
       "          const dataTable =\n",
       "            await google.colab.kernel.invokeFunction('convertToInteractive',\n",
       "                                                     [key], {});\n",
       "          if (!dataTable) return;\n",
       "\n",
       "          const docLinkHtml = 'Like what you see? Visit the ' +\n",
       "            '<a target=\"_blank\" href=https://colab.research.google.com/notebooks/data_table.ipynb>data table notebook</a>'\n",
       "            + ' to learn more about interactive tables.';\n",
       "          element.innerHTML = '';\n",
       "          dataTable['output_type'] = 'display_data';\n",
       "          await google.colab.output.renderOutput(dataTable, element);\n",
       "          const docLink = document.createElement('div');\n",
       "          docLink.innerHTML = docLinkHtml;\n",
       "          element.appendChild(docLink);\n",
       "        }\n",
       "      </script>\n",
       "    </div>\n",
       "  </div>\n",
       "  "
      ],
      "text/plain": [
       "       NA Sales  EU Sales  JP Sales  Other Sales  Global Sales\n",
       "Max       41.49     29.02     10.22        10.57         82.74\n",
       "Min        0.00      0.00      0.00         0.00          0.01\n",
       "Range     41.49     29.02     10.22        10.57         82.73"
      ]
     },
     "execution_count": 26,
     "metadata": {},
     "output_type": "execute_result"
    }
   ],
   "source": [
    "# Tạo DataFrame từ dữ liệu đã được tính toán trước đó\n",
    "import pandas as pd\n",
    "  \n",
    "# Khởi tạo dữ liệu dưới dạng dictionary với các giá trị đã được tính ở cell trước\n",
    "data = {\n",
    "                'NA Sales': [max_na_sales, min_na_sales, range_na_sales],  # Dữ liệu doanh số Bắc Mỹ (giá trị lớn nhất, nhỏ nhất, khoảng)\n",
    "                'EU Sales': [max_eu_sales, min_eu_sales, range_eu_sales],  # Dữ liệu doanh số châu Âu (giá trị lớn nhất, nhỏ nhất, khoảng)\n",
    "                'JP Sales': [max_jp_sales, min_jp_sales, range_jp_sales],  # Dữ liệu doanh số Nhật Bản (giá trị lớn nhất, nhỏ nhất, khoảng)\n",
    "                'Other Sales': [max_other_sales, min_other_sales, range_other_sales],  # Dữ liệu doanh số các khu vực khác (giá trị lớn nhất, nhỏ nhất, khoảng)\n",
    "                'Global Sales': [max_global_sales, min_global_sales, range_global_sales]  # Dữ liệu doanh số toàn cầu (giá trị lớn nhất, nhỏ nhất, khoảng)\n",
    "                }\n",
    "\n",
    "# Tạo DataFrame với dữ liệu trên và đặt tên cho các hàng là 'Max', 'Min', 'Range'\n",
    "statistics = pd.DataFrame(data, index=['Max', 'Min', 'Range'])\n",
    "\n",
    "# Hiển thị DataFrame chứa thông tin thống kê về doanh số bán game ở các khu vực\n",
    "statistics"
   ]
  },
  {
   "cell_type": "code",
   "execution_count": null,
   "metadata": {
    "colab": {
     "base_uri": "https://localhost:8080/",
     "height": 112
    },
    "executionInfo": {
     "elapsed": 4,
     "status": "ok",
     "timestamp": 1665891619203,
     "user": {
      "displayName": "Vu Dam",
      "userId": "08349793932940266028"
     },
     "user_tz": -420
    },
    "id": "gAxMLX52SAt7",
    "outputId": "b67f42cc-abad-43ed-b8f1-0bf9e5afd16f"
   },
   "outputs": [
    {
     "data": {
      "text/html": [
       "\n",
       "  <div id=\"df-573e1c20-f50d-45ad-9c56-bc034c7add7d\">\n",
       "    <div class=\"colab-df-container\">\n",
       "      <div>\n",
       "<style scoped>\n",
       "    .dataframe tbody tr th:only-of-type {\n",
       "        vertical-align: middle;\n",
       "    }\n",
       "\n",
       "    .dataframe tbody tr th {\n",
       "        vertical-align: top;\n",
       "    }\n",
       "\n",
       "    .dataframe thead th {\n",
       "        text-align: right;\n",
       "    }\n",
       "</style>\n",
       "<table border=\"1\" class=\"dataframe\">\n",
       "  <thead>\n",
       "    <tr style=\"text-align: right;\">\n",
       "      <th></th>\n",
       "      <th>NA Sales</th>\n",
       "      <th>EU Sales</th>\n",
       "      <th>JP Sales</th>\n",
       "      <th>Other Sales</th>\n",
       "      <th>Global Sales</th>\n",
       "    </tr>\n",
       "  </thead>\n",
       "  <tbody>\n",
       "    <tr>\n",
       "      <th>Variance</th>\n",
       "      <td>0.666971</td>\n",
       "      <td>0.255380</td>\n",
       "      <td>0.095661</td>\n",
       "      <td>0.035566</td>\n",
       "      <td>2.418112</td>\n",
       "    </tr>\n",
       "    <tr>\n",
       "      <th>Standard Deviation</th>\n",
       "      <td>0.816683</td>\n",
       "      <td>0.505351</td>\n",
       "      <td>0.309291</td>\n",
       "      <td>0.188588</td>\n",
       "      <td>1.555028</td>\n",
       "    </tr>\n",
       "  </tbody>\n",
       "</table>\n",
       "</div>\n",
       "      <button class=\"colab-df-convert\" onclick=\"convertToInteractive('df-573e1c20-f50d-45ad-9c56-bc034c7add7d')\"\n",
       "              title=\"Convert this dataframe to an interactive table.\"\n",
       "              style=\"display:none;\">\n",
       "        \n",
       "  <svg xmlns=\"http://www.w3.org/2000/svg\" height=\"24px\"viewBox=\"0 0 24 24\"\n",
       "       width=\"24px\">\n",
       "    <path d=\"M0 0h24v24H0V0z\" fill=\"none\"/>\n",
       "    <path d=\"M18.56 5.44l.94 2.06.94-2.06 2.06-.94-2.06-.94-.94-2.06-.94 2.06-2.06.94zm-11 1L8.5 8.5l.94-2.06 2.06-.94-2.06-.94L8.5 2.5l-.94 2.06-2.06.94zm10 10l.94 2.06.94-2.06 2.06-.94-2.06-.94-.94-2.06-.94 2.06-2.06.94z\"/><path d=\"M17.41 7.96l-1.37-1.37c-.4-.4-.92-.59-1.43-.59-.52 0-1.04.2-1.43.59L10.3 9.45l-7.72 7.72c-.78.78-.78 2.05 0 2.83L4 21.41c.39.39.9.59 1.41.59.51 0 1.02-.2 1.41-.59l7.78-7.78 2.81-2.81c.8-.78.8-2.07 0-2.86zM5.41 20L4 18.59l7.72-7.72 1.47 1.35L5.41 20z\"/>\n",
       "  </svg>\n",
       "      </button>\n",
       "      \n",
       "  <style>\n",
       "    .colab-df-container {\n",
       "      display:flex;\n",
       "      flex-wrap:wrap;\n",
       "      gap: 12px;\n",
       "    }\n",
       "\n",
       "    .colab-df-convert {\n",
       "      background-color: #E8F0FE;\n",
       "      border: none;\n",
       "      border-radius: 50%;\n",
       "      cursor: pointer;\n",
       "      display: none;\n",
       "      fill: #1967D2;\n",
       "      height: 32px;\n",
       "      padding: 0 0 0 0;\n",
       "      width: 32px;\n",
       "    }\n",
       "\n",
       "    .colab-df-convert:hover {\n",
       "      background-color: #E2EBFA;\n",
       "      box-shadow: 0px 1px 2px rgba(60, 64, 67, 0.3), 0px 1px 3px 1px rgba(60, 64, 67, 0.15);\n",
       "      fill: #174EA6;\n",
       "    }\n",
       "\n",
       "    [theme=dark] .colab-df-convert {\n",
       "      background-color: #3B4455;\n",
       "      fill: #D2E3FC;\n",
       "    }\n",
       "\n",
       "    [theme=dark] .colab-df-convert:hover {\n",
       "      background-color: #434B5C;\n",
       "      box-shadow: 0px 1px 3px 1px rgba(0, 0, 0, 0.15);\n",
       "      filter: drop-shadow(0px 1px 2px rgba(0, 0, 0, 0.3));\n",
       "      fill: #FFFFFF;\n",
       "    }\n",
       "  </style>\n",
       "\n",
       "      <script>\n",
       "        const buttonEl =\n",
       "          document.querySelector('#df-573e1c20-f50d-45ad-9c56-bc034c7add7d button.colab-df-convert');\n",
       "        buttonEl.style.display =\n",
       "          google.colab.kernel.accessAllowed ? 'block' : 'none';\n",
       "\n",
       "        async function convertToInteractive(key) {\n",
       "          const element = document.querySelector('#df-573e1c20-f50d-45ad-9c56-bc034c7add7d');\n",
       "          const dataTable =\n",
       "            await google.colab.kernel.invokeFunction('convertToInteractive',\n",
       "                                                     [key], {});\n",
       "          if (!dataTable) return;\n",
       "\n",
       "          const docLinkHtml = 'Like what you see? Visit the ' +\n",
       "            '<a target=\"_blank\" href=https://colab.research.google.com/notebooks/data_table.ipynb>data table notebook</a>'\n",
       "            + ' to learn more about interactive tables.';\n",
       "          element.innerHTML = '';\n",
       "          dataTable['output_type'] = 'display_data';\n",
       "          await google.colab.output.renderOutput(dataTable, element);\n",
       "          const docLink = document.createElement('div');\n",
       "          docLink.innerHTML = docLinkHtml;\n",
       "          element.appendChild(docLink);\n",
       "        }\n",
       "      </script>\n",
       "    </div>\n",
       "  </div>\n",
       "  "
      ],
      "text/plain": [
       "                    NA Sales  EU Sales  JP Sales  Other Sales  Global Sales\n",
       "Variance            0.666971  0.255380  0.095661     0.035566      2.418112\n",
       "Standard Deviation  0.816683  0.505351  0.309291     0.188588      1.555028"
      ]
     },
     "execution_count": 27,
     "metadata": {},
     "output_type": "execute_result"
    }
   ],
   "source": [
    "import math\n",
    "\n",
    "# ddof = degree of freedom - bậc tự do\n",
    "# Định nghĩa hàm tính phương sai của một tập dữ liệu\n",
    "def variance(data, ddof=1):\n",
    "  n = len(data)  # Tính số lượng phần tử trong tập dữ liệu\n",
    "  mean = sum(data) / n  # Tính giá trị trung bình của tập dữ liệu\n",
    "  return sum((x - mean) ** 2 for x in data) / (n - ddof)  # Tính phương sai theo công thức: tổng bình phương chênh lệch chia cho (n - ddof)\n",
    "\n",
    "# Định nghĩa hàm tính độ lệch chuẩn từ phương sai\n",
    "def stdev(data):\n",
    "  var = variance(data)  # Tính phương sai của tập dữ liệu\n",
    "  std_dev = math.sqrt(var)  # Tính độ lệch chuẩn bằng cách lấy căn bậc hai của phương sai\n",
    "  return std_dev\n",
    "\n",
    "# Tính phương sai và độ lệch chuẩn của doanh số bán tại Bắc Mỹ\n",
    "variance_na_sales = variance(df[\"NA_Sales\"])\n",
    "stdev_na_sales = stdev(df[\"NA_Sales\"])\n",
    "\n",
    "# Tính phương sai và độ lệch chuẩn của doanh số bán tại châu Âu\n",
    "variance_eu_sales = variance(df[\"EU_Sales\"])\n",
    "stdev_eu_sales = stdev(df[\"EU_Sales\"])\n",
    "\n",
    "# Tính phương sai và độ lệch chuẩn của doanh số bán tại Nhật Bản\n",
    "variance_jp_sales = variance(df[\"JP_Sales\"])\n",
    "stdev_jp_sales = stdev(df[\"JP_Sales\"])\n",
    "\n",
    "# Tính phương sai và độ lệch chuẩn của doanh số bán tại các khu vực khác\n",
    "variance_other_sales = variance(df[\"Other_Sales\"])\n",
    "stdev_other_sales = stdev(df[\"Other_Sales\"])\n",
    "\n",
    "# Tính phương sai và độ lệch chuẩn của doanh số bán toàn cầu\n",
    "variance_global_sales = variance(df[\"Global_Sales\"])\n",
    "stdev_global_sales = stdev(df[\"Global_Sales\"])\n",
    "\n",
    "# Tạo từ điển dữ liệu chứa phương sai và độ lệch chuẩn của doanh số bán ở các khu vực\n",
    "data = {\n",
    "        'NA Sales': [variance_na_sales, stdev_na_sales],  # Dữ liệu doanh số Bắc Mỹ\n",
    "        'EU Sales': [variance_eu_sales, stdev_eu_sales],  # Dữ liệu doanh số châu Âu\n",
    "        'JP Sales': [variance_jp_sales, stdev_jp_sales],  # Dữ liệu doanh số Nhật Bản\n",
    "        'Other Sales': [variance_other_sales, stdev_other_sales],  # Dữ liệu doanh số các khu vực khác\n",
    "        'Global Sales': [variance_global_sales, stdev_global_sales]  # Dữ liệu doanh số toàn cầu\n",
    "        }\n",
    "\n",
    "# Tạo DataFrame từ dữ liệu với các hàng là 'Variance' và 'Standard Deviation'\n",
    "statistics_1 = pd.DataFrame(data, index=['Variance', 'Standard Deviation'])\n",
    "\n",
    "# Hiển thị bảng thống kê về phương sai và độ lệch chuẩn của doanh số bán game ở các khu vực\n",
    "statistics_1"
   ]
  },
  {
   "cell_type": "code",
   "execution_count": null,
   "metadata": {
    "colab": {
     "base_uri": "https://localhost:8080/"
    },
    "executionInfo": {
     "elapsed": 607,
     "status": "ok",
     "timestamp": 1665843050148,
     "user": {
      "displayName": "Vu Dam",
      "userId": "08349793932940266028"
     },
     "user_tz": -420
    },
    "id": "TXrEETbjSAxH",
    "outputId": "7023ac73-1207-4415-9186-18e0cd46e336"
   },
   "outputs": [
    {
     "name": "stdout",
     "output_type": "stream",
     "text": [
      "2.714716517707949\n",
      "-2.185381658086308\n"
     ]
    }
   ],
   "source": [
    "# Kiểm tra Quy tắc Thực nghiệm (Empirical Rule)\n",
    "\n",
    "# Tính độ lệch chuẩn của doanh số bán tại Bắc Mỹ từ hàm stdev đã định nghĩa trước đó\n",
    "stdev_na_sales = stdev(df[\"NA_Sales\"])\n",
    "\n",
    "# Tính giá trị trung bình của doanh số bán tại Bắc Mỹ\n",
    "na_sales_mean = df[\"NA_Sales\"].mean()\n",
    "\n",
    "# Tính giới hạn trên của khoảng 3 độ lệch chuẩn (99.7% dữ liệu sẽ nằm trong khoảng này)\n",
    "# Công thức: giá trị trung bình cộng với 3 lần độ lệch chuẩn\n",
    "upper_range = na_sales_mean + 3*stdev_na_sales\n",
    "\n",
    "# Tính giới hạn dưới của khoảng 3 độ lệch chuẩn\n",
    "# Công thức: giá trị trung bình trừ đi 3 lần độ lệch chuẩn\n",
    "lower_range = na_sales_mean - 3*stdev_na_sales\n",
    "\n",
    "# In ra giới hạn trên - bất kỳ giá trị nào lớn hơn số này có thể được coi là ngoại lai\n",
    "print(upper_range)\n",
    "\n",
    "# In ra giới hạn dưới - bất kỳ giá trị nào nhỏ hơn số này có thể được coi là ngoại lai\n",
    "print(lower_range)"
   ]
  },
  {
   "cell_type": "code",
   "execution_count": null,
   "metadata": {
    "colab": {
     "base_uri": "https://localhost:8080/"
    },
    "executionInfo": {
     "elapsed": 2,
     "status": "ok",
     "timestamp": 1665843420959,
     "user": {
      "displayName": "Vu Dam",
      "userId": "08349793932940266028"
     },
     "user_tz": -420
    },
    "id": "WL1veBKR_Fsl",
    "outputId": "2a2e41ae-c59c-426f-886c-91fa9a2afbab"
   },
   "outputs": [
    {
     "name": "stdout",
     "output_type": "stream",
     "text": [
      "98.9516809254127\n"
     ]
    }
   ],
   "source": [
    "# Chúng ta nhận thấy rằng 98.95% dữ liệu nằm trong phạm vi 3 độ lệch chuẩn từ giá trị trung bình.\n",
    "# Dữ liệu nằm ngoài phạm vi này có thể được coi là các giá trị ngoại lai (outlier).\n",
    "\n",
    "# Đếm tổng số dòng trong DataFrame để sử dụng làm mẫu số khi tính phần trăm\n",
    "total_rows = len(df)\n",
    "\n",
    "# Đếm số lượng bản ghi có doanh số bán tại Bắc Mỹ nhỏ hơn 2.714716517707949 triệu bản\n",
    "# (giá trị này có thể là ngưỡng dưới của khoảng 3 độ lệch chuẩn từ giá trị trung bình)\n",
    "na_range = len(df.loc[df['NA_Sales'] < 2.714716517707949])\n",
    "\n",
    "# Tính phần trăm của các bản ghi có doanh số bán dưới ngưỡng\n",
    "# Công thức: (số bản ghi dưới ngưỡng / tổng số bản ghi) * 100\n",
    "percentage = na_range/total_rows*100\n",
    "\n",
    "# Hiển thị phần trăm dữ liệu nằm dưới ngưỡng\n",
    "# Kết quả này giúp xác minh quy tắc thực nghiệm (nếu kết quả gần 50%, điều này phù hợp với phân phối chuẩn)\n",
    "print(percentage)"
   ]
  },
  {
   "cell_type": "markdown",
   "metadata": {
    "id": "xLu_4G_1DDlh"
   },
   "source": [
    "## 4.3 Quartiles and IQR (Các tứ phân vị và khoảng tứ phân vị (IQR))"
   ]
  },
  {
   "cell_type": "code",
   "execution_count": null,
   "metadata": {
    "colab": {
     "base_uri": "https://localhost:8080/",
     "height": 300
    },
    "executionInfo": {
     "elapsed": 1542,
     "status": "ok",
     "timestamp": 1665895846972,
     "user": {
      "displayName": "Vu Dam",
      "userId": "08349793932940266028"
     },
     "user_tz": -420
    },
    "id": "k6awqok0I4v-",
    "outputId": "8d368dee-8010-4732-ba42-57ad06108c8e"
   },
   "outputs": [
    {
     "data": {
      "text/html": [
       "\n",
       "  <div id=\"df-81c13c90-933d-454c-b622-ed9fecb0d8c3\">\n",
       "    <div class=\"colab-df-container\">\n",
       "      <div>\n",
       "<style scoped>\n",
       "    .dataframe tbody tr th:only-of-type {\n",
       "        vertical-align: middle;\n",
       "    }\n",
       "\n",
       "    .dataframe tbody tr th {\n",
       "        vertical-align: top;\n",
       "    }\n",
       "\n",
       "    .dataframe thead th {\n",
       "        text-align: right;\n",
       "    }\n",
       "</style>\n",
       "<table border=\"1\" class=\"dataframe\">\n",
       "  <thead>\n",
       "    <tr style=\"text-align: right;\">\n",
       "      <th></th>\n",
       "      <th>Rank</th>\n",
       "      <th>Year</th>\n",
       "      <th>NA_Sales</th>\n",
       "      <th>EU_Sales</th>\n",
       "      <th>JP_Sales</th>\n",
       "      <th>Other_Sales</th>\n",
       "      <th>Global_Sales</th>\n",
       "    </tr>\n",
       "  </thead>\n",
       "  <tbody>\n",
       "    <tr>\n",
       "      <th>count</th>\n",
       "      <td>16598.000000</td>\n",
       "      <td>16327.000000</td>\n",
       "      <td>16598.000000</td>\n",
       "      <td>16598.000000</td>\n",
       "      <td>16598.000000</td>\n",
       "      <td>16598.000000</td>\n",
       "      <td>16598.000000</td>\n",
       "    </tr>\n",
       "    <tr>\n",
       "      <th>mean</th>\n",
       "      <td>8300.605254</td>\n",
       "      <td>2006.406443</td>\n",
       "      <td>0.264667</td>\n",
       "      <td>0.146652</td>\n",
       "      <td>0.077782</td>\n",
       "      <td>0.048063</td>\n",
       "      <td>0.537441</td>\n",
       "    </tr>\n",
       "    <tr>\n",
       "      <th>std</th>\n",
       "      <td>4791.853933</td>\n",
       "      <td>5.828981</td>\n",
       "      <td>0.816683</td>\n",
       "      <td>0.505351</td>\n",
       "      <td>0.309291</td>\n",
       "      <td>0.188588</td>\n",
       "      <td>1.555028</td>\n",
       "    </tr>\n",
       "    <tr>\n",
       "      <th>min</th>\n",
       "      <td>1.000000</td>\n",
       "      <td>1980.000000</td>\n",
       "      <td>0.000000</td>\n",
       "      <td>0.000000</td>\n",
       "      <td>0.000000</td>\n",
       "      <td>0.000000</td>\n",
       "      <td>0.010000</td>\n",
       "    </tr>\n",
       "    <tr>\n",
       "      <th>25%</th>\n",
       "      <td>4151.250000</td>\n",
       "      <td>2003.000000</td>\n",
       "      <td>0.000000</td>\n",
       "      <td>0.000000</td>\n",
       "      <td>0.000000</td>\n",
       "      <td>0.000000</td>\n",
       "      <td>0.060000</td>\n",
       "    </tr>\n",
       "    <tr>\n",
       "      <th>50%</th>\n",
       "      <td>8300.500000</td>\n",
       "      <td>2007.000000</td>\n",
       "      <td>0.080000</td>\n",
       "      <td>0.020000</td>\n",
       "      <td>0.000000</td>\n",
       "      <td>0.010000</td>\n",
       "      <td>0.170000</td>\n",
       "    </tr>\n",
       "    <tr>\n",
       "      <th>75%</th>\n",
       "      <td>12449.750000</td>\n",
       "      <td>2010.000000</td>\n",
       "      <td>0.240000</td>\n",
       "      <td>0.110000</td>\n",
       "      <td>0.040000</td>\n",
       "      <td>0.040000</td>\n",
       "      <td>0.470000</td>\n",
       "    </tr>\n",
       "    <tr>\n",
       "      <th>max</th>\n",
       "      <td>16600.000000</td>\n",
       "      <td>2020.000000</td>\n",
       "      <td>41.490000</td>\n",
       "      <td>29.020000</td>\n",
       "      <td>10.220000</td>\n",
       "      <td>10.570000</td>\n",
       "      <td>82.740000</td>\n",
       "    </tr>\n",
       "  </tbody>\n",
       "</table>\n",
       "</div>\n",
       "      <button class=\"colab-df-convert\" onclick=\"convertToInteractive('df-81c13c90-933d-454c-b622-ed9fecb0d8c3')\"\n",
       "              title=\"Convert this dataframe to an interactive table.\"\n",
       "              style=\"display:none;\">\n",
       "        \n",
       "  <svg xmlns=\"http://www.w3.org/2000/svg\" height=\"24px\"viewBox=\"0 0 24 24\"\n",
       "       width=\"24px\">\n",
       "    <path d=\"M0 0h24v24H0V0z\" fill=\"none\"/>\n",
       "    <path d=\"M18.56 5.44l.94 2.06.94-2.06 2.06-.94-2.06-.94-.94-2.06-.94 2.06-2.06.94zm-11 1L8.5 8.5l.94-2.06 2.06-.94-2.06-.94L8.5 2.5l-.94 2.06-2.06.94zm10 10l.94 2.06.94-2.06 2.06-.94-2.06-.94-.94-2.06-.94 2.06-2.06.94z\"/><path d=\"M17.41 7.96l-1.37-1.37c-.4-.4-.92-.59-1.43-.59-.52 0-1.04.2-1.43.59L10.3 9.45l-7.72 7.72c-.78.78-.78 2.05 0 2.83L4 21.41c.39.39.9.59 1.41.59.51 0 1.02-.2 1.41-.59l7.78-7.78 2.81-2.81c.8-.78.8-2.07 0-2.86zM5.41 20L4 18.59l7.72-7.72 1.47 1.35L5.41 20z\"/>\n",
       "  </svg>\n",
       "      </button>\n",
       "      \n",
       "  <style>\n",
       "    .colab-df-container {\n",
       "      display:flex;\n",
       "      flex-wrap:wrap;\n",
       "      gap: 12px;\n",
       "    }\n",
       "\n",
       "    .colab-df-convert {\n",
       "      background-color: #E8F0FE;\n",
       "      border: none;\n",
       "      border-radius: 50%;\n",
       "      cursor: pointer;\n",
       "      display: none;\n",
       "      fill: #1967D2;\n",
       "      height: 32px;\n",
       "      padding: 0 0 0 0;\n",
       "      width: 32px;\n",
       "    }\n",
       "\n",
       "    .colab-df-convert:hover {\n",
       "      background-color: #E2EBFA;\n",
       "      box-shadow: 0px 1px 2px rgba(60, 64, 67, 0.3), 0px 1px 3px 1px rgba(60, 64, 67, 0.15);\n",
       "      fill: #174EA6;\n",
       "    }\n",
       "\n",
       "    [theme=dark] .colab-df-convert {\n",
       "      background-color: #3B4455;\n",
       "      fill: #D2E3FC;\n",
       "    }\n",
       "\n",
       "    [theme=dark] .colab-df-convert:hover {\n",
       "      background-color: #434B5C;\n",
       "      box-shadow: 0px 1px 3px 1px rgba(0, 0, 0, 0.15);\n",
       "      filter: drop-shadow(0px 1px 2px rgba(0, 0, 0, 0.3));\n",
       "      fill: #FFFFFF;\n",
       "    }\n",
       "  </style>\n",
       "\n",
       "      <script>\n",
       "        const buttonEl =\n",
       "          document.querySelector('#df-81c13c90-933d-454c-b622-ed9fecb0d8c3 button.colab-df-convert');\n",
       "        buttonEl.style.display =\n",
       "          google.colab.kernel.accessAllowed ? 'block' : 'none';\n",
       "\n",
       "        async function convertToInteractive(key) {\n",
       "          const element = document.querySelector('#df-81c13c90-933d-454c-b622-ed9fecb0d8c3');\n",
       "          const dataTable =\n",
       "            await google.colab.kernel.invokeFunction('convertToInteractive',\n",
       "                                                     [key], {});\n",
       "          if (!dataTable) return;\n",
       "\n",
       "          const docLinkHtml = 'Like what you see? Visit the ' +\n",
       "            '<a target=\"_blank\" href=https://colab.research.google.com/notebooks/data_table.ipynb>data table notebook</a>'\n",
       "            + ' to learn more about interactive tables.';\n",
       "          element.innerHTML = '';\n",
       "          dataTable['output_type'] = 'display_data';\n",
       "          await google.colab.output.renderOutput(dataTable, element);\n",
       "          const docLink = document.createElement('div');\n",
       "          docLink.innerHTML = docLinkHtml;\n",
       "          element.appendChild(docLink);\n",
       "        }\n",
       "      </script>\n",
       "    </div>\n",
       "  </div>\n",
       "  "
      ],
      "text/plain": [
       "               Rank          Year      NA_Sales      EU_Sales      JP_Sales  \\\n",
       "count  16598.000000  16327.000000  16598.000000  16598.000000  16598.000000   \n",
       "mean    8300.605254   2006.406443      0.264667      0.146652      0.077782   \n",
       "std     4791.853933      5.828981      0.816683      0.505351      0.309291   \n",
       "min        1.000000   1980.000000      0.000000      0.000000      0.000000   \n",
       "25%     4151.250000   2003.000000      0.000000      0.000000      0.000000   \n",
       "50%     8300.500000   2007.000000      0.080000      0.020000      0.000000   \n",
       "75%    12449.750000   2010.000000      0.240000      0.110000      0.040000   \n",
       "max    16600.000000   2020.000000     41.490000     29.020000     10.220000   \n",
       "\n",
       "        Other_Sales  Global_Sales  \n",
       "count  16598.000000  16598.000000  \n",
       "mean       0.048063      0.537441  \n",
       "std        0.188588      1.555028  \n",
       "min        0.000000      0.010000  \n",
       "25%        0.000000      0.060000  \n",
       "50%        0.010000      0.170000  \n",
       "75%        0.040000      0.470000  \n",
       "max       10.570000     82.740000  "
      ]
     },
     "execution_count": 28,
     "metadata": {},
     "output_type": "execute_result"
    }
   ],
   "source": [
    "# Hiển thị thông tin thống kê mô tả về các cột số trong DataFrame\n",
    "# Bao gồm: \n",
    "# - count: số lượng giá trị không null\n",
    "# - mean: giá trị trung bình\n",
    "# - std: độ lệch chuẩn\n",
    "# - min: giá trị nhỏ nhất\n",
    "# - 25%: phân vị thứ nhất (Q1)\n",
    "# - 50%: phân vị thứ hai (trung vị)\n",
    "# - 75%: phân vị thứ ba (Q3)\n",
    "# - max: giá trị lớn nhất\n",
    "# Các thông số này giúp hiểu tổng quan về phân phối dữ liệu và xác định các giá trị bất thường\n",
    "df.describe()"
   ]
  },
  {
   "cell_type": "code",
   "execution_count": null,
   "metadata": {
    "colab": {
     "base_uri": "https://localhost:8080/"
    },
    "executionInfo": {
     "elapsed": 349,
     "status": "ok",
     "timestamp": 1665895956786,
     "user": {
      "displayName": "Vu Dam",
      "userId": "08349793932940266028"
     },
     "user_tz": -420
    },
    "id": "xwO4b2fISA0R",
    "outputId": "007fcc66-a9fd-4965-c0a5-f9ca58c7eb6e"
   },
   "outputs": [
    {
     "name": "stdout",
     "output_type": "stream",
     "text": [
      "With NA Sales, the lower quartile is 0.0 and the higher quartile is 0.24. The Interquartile Range is 0.24\n"
     ]
    }
   ],
   "source": [
    "# Tính khoảng tứ phân vị (IQR) bằng cách lấy khoảng cách giữa Q3 và Q1 nhân với một hệ số\n",
    "import numpy as np  # Import thư viện numpy để thực hiện các phép tính thống kê\n",
    "\n",
    "# Tính Q1 (phân vị thứ 25) cho doanh số bán tại Bắc Mỹ\n",
    "quartile_1 = np.percentile(df[\"NA_Sales\"], 25)  # 25% doanh số thấp nhất nằm dưới giá trị này\n",
    "\n",
    "# Tính Q3 (phân vị thứ 75) cho doanh số bán tại Bắc Mỹ\n",
    "quartile_3 = np.percentile(df[\"NA_Sales\"], 75)  # 75% doanh số thấp nhất nằm dưới giá trị này\n",
    "\n",
    "# Tính khoảng tứ phân vị (IQR) bằng cách lấy Q3 trừ đi Q1\n",
    "# IQR đại diện cho sự phân tán của 50% dữ liệu ở giữa\n",
    "interquartile_range = quartile_3 - quartile_1\n",
    "\n",
    "# In ra thông tin về Q1, Q3 và IQR để hiểu rõ hơn về phân phối dữ liệu doanh số bán tại Bắc Mỹ\n",
    "print(\"Với doanh số bán tại Bắc Mỹ, tứ phân vị dưới là \" + str(quartile_1) + \" và tứ phân vị trên là \" + str(quartile_3) + \". Khoảng tứ vị (IQR) là \" + str(interquartile_range))"
   ]
  },
  {
   "cell_type": "code",
   "execution_count": null,
   "metadata": {
    "colab": {
     "base_uri": "https://localhost:8080/"
    },
    "executionInfo": {
     "elapsed": 391,
     "status": "ok",
     "timestamp": 1665896007967,
     "user": {
      "displayName": "Vu Dam",
      "userId": "08349793932940266028"
     },
     "user_tz": -420
    },
    "id": "_N7Di8L9MsOb",
    "outputId": "49354507-6b12-47eb-cfc2-d0333e252102"
   },
   "outputs": [
    {
     "name": "stdout",
     "output_type": "stream",
     "text": [
      "74.64754789733703\n"
     ]
    }
   ],
   "source": [
    "# Tính tổng số dòng (bản ghi) trong DataFrame df\n",
    "total_rows = len(df)\n",
    "\n",
    "# Đếm số lượng bản ghi có doanh số bán ở Bắc Mỹ (NA_Sales) nhỏ hơn 0.24 triệu đơn vị\n",
    "# Sử dụng phương thức loc để lọc ra các bản ghi thỏa mãn điều kiện\n",
    "na_range = len(df.loc[df['NA_Sales'] < 0.24])\n",
    "\n",
    "# Tính phần trăm của các bản ghi có doanh số bán nhỏ hơn 0.24 triệu\n",
    "# Công thức: (số bản ghi thỏa mãn điều kiện / tổng số bản ghi) * 100\n",
    "percentage = na_range/total_rows*100\n",
    "\n",
    "# In ra kết quả phần trăm\n",
    "# Giá trị này cho biết có bao nhiêu phần trăm trò chơi có doanh số bán ở Bắc Mỹ thấp hơn 0.24 triệu đơn vị\n",
    "print(percentage)"
   ]
  },
  {
   "cell_type": "code",
   "execution_count": null,
   "metadata": {
    "colab": {
     "base_uri": "https://localhost:8080/"
    },
    "executionInfo": {
     "elapsed": 363,
     "status": "ok",
     "timestamp": 1665898182266,
     "user": {
      "displayName": "Vu Dam",
      "userId": "08349793932940266028"
     },
     "user_tz": -420
    },
    "id": "cBJYT_acNV_E",
    "outputId": "ddc579c2-215b-4162-cddc-3fc2da67cd8b"
   },
   "outputs": [
    {
     "name": "stdout",
     "output_type": "stream",
     "text": [
      "27.105675382576216\n"
     ]
    }
   ],
   "source": [
    "# Tính tổng số dòng (bản ghi) trong DataFrame df\n",
    "# Điều này giúp chúng ta biết có bao nhiêu trò chơi trong bộ dữ liệu\n",
    "total_rows = len(df)\n",
    "\n",
    "# Đếm số lượng bản ghi có doanh số bán tại Bắc Mỹ (NA_Sales) nhỏ hơn hoặc bằng 0 triệu đơn vị\n",
    "# Sử dụng hàm loc để lọc ra các trò chơi có doanh số bằng 0\n",
    "# Điều này giúp chúng ta xác định có bao nhiêu trò chơi không bán được ở Bắc Mỹ\n",
    "na_range = len(df.loc[df['NA_Sales'] <= 0])\n",
    "\n",
    "# Tính phần trăm trò chơi không bán được ở Bắc Mỹ\n",
    "# Công thức: (số trò chơi không bán được / tổng số trò chơi) * 100\n",
    "# Kết quả sẽ cho biết tỉ lệ phần trăm các trò chơi không thành công ở thị trường Bắc Mỹ\n",
    "percentage = na_range/total_rows*100\n",
    "\n",
    "# In ra tỉ lệ phần trăm các trò chơi không bán được ở thị trường Bắc Mỹ\n",
    "# Giá trị này giúp chúng ta hiểu tỉ lệ thành công/thất bại của các trò chơi tại thị trường này\n",
    "print(percentage)"
   ]
  },
  {
   "cell_type": "code",
   "execution_count": null,
   "metadata": {
    "colab": {
     "base_uri": "https://localhost:8080/",
     "height": 201
    },
    "executionInfo": {
     "elapsed": 335,
     "status": "error",
     "timestamp": 1665912235402,
     "user": {
      "displayName": "Vu Dam",
      "userId": "08349793932940266028"
     },
     "user_tz": -420
    },
    "id": "1MsmohWEauQ8",
    "outputId": "ac5c07e2-91d6-4945-f890-6cd0d134c133"
   },
   "outputs": [
    {
     "ename": "NameError",
     "evalue": "ignored",
     "output_type": "error",
     "traceback": [
      "\u001b[0;31m---------------------------------------------------------------------------\u001b[0m",
      "\u001b[0;31mNameError\u001b[0m                                 Traceback (most recent call last)",
      "\u001b[0;32m<ipython-input-1-73a0d0571f5d>\u001b[0m in \u001b[0;36m<module>\u001b[0;34m\u001b[0m\n\u001b[1;32m      1\u001b[0m \u001b[0;31m#box and whisker plot - biểu đồ hộp và râu\u001b[0m\u001b[0;34m\u001b[0m\u001b[0;34m\u001b[0m\u001b[0;34m\u001b[0m\u001b[0m\n\u001b[1;32m      2\u001b[0m \u001b[0;34m\u001b[0m\u001b[0m\n\u001b[0;32m----> 3\u001b[0;31m \u001b[0mdf\u001b[0m\u001b[0;34m.\u001b[0m\u001b[0mboxplot\u001b[0m\u001b[0;34m(\u001b[0m\u001b[0mcolumn\u001b[0m\u001b[0;34m=\u001b[0m\u001b[0;34m[\u001b[0m\u001b[0;34m'NA_Sales'\u001b[0m\u001b[0;34m,\u001b[0m  \u001b[0;34m'EU_Sales'\u001b[0m\u001b[0;34m,\u001b[0m     \u001b[0;34m'JP_Sales'\u001b[0m\u001b[0;34m,\u001b[0m     \u001b[0;34m'Other_Sales'\u001b[0m\u001b[0;34m]\u001b[0m\u001b[0;34m,\u001b[0m \u001b[0mfigsize\u001b[0m\u001b[0;34m=\u001b[0m\u001b[0;34m(\u001b[0m\u001b[0;36m15\u001b[0m\u001b[0;34m,\u001b[0m\u001b[0;36m15\u001b[0m\u001b[0;34m)\u001b[0m\u001b[0;34m)\u001b[0m\u001b[0;34m\u001b[0m\u001b[0;34m\u001b[0m\u001b[0m\n\u001b[0m",
      "\u001b[0;31mNameError\u001b[0m: name 'df' is not defined"
     ]
    }
   ],
   "source": [
    "# Tạo biểu đồ hộp và râu (box and whisker plot) cho các cột doanh số bán hàng ở các khu vực\n",
    "# Biểu đồ này giúp trực quan hóa phân phối của dữ liệu, cho thấy:\n",
    "# - Đường ngang trong hộp: trung vị (median) của dữ liệu\n",
    "# - Hộp: khoảng tứ phân vị (IQR) - từ Q1 (25%) đến Q3 (75%)\n",
    "# - Các đường râu: mở rộng đến giá trị lớn nhất và nhỏ nhất trong khoảng 1.5*IQR\n",
    "# - Các điểm nằm ngoài râu: các giá trị ngoại lai (outlier)\n",
    "# figsize=(15,15): kích thước biểu đồ 15x15 inch để dễ quan sát\n",
    "df.boxplot(column=['NA_Sales',\t'EU_Sales',\t'JP_Sales',\t'Other_Sales'], figsize=(15,15))  "
   ]
  },
  {
   "cell_type": "code",
   "execution_count": null,
   "metadata": {
    "colab": {
     "base_uri": "https://localhost:8080/",
     "height": 982
    },
    "executionInfo": {
     "elapsed": 1185,
     "status": "ok",
     "timestamp": 1665898274516,
     "user": {
      "displayName": "Vu Dam",
      "userId": "08349793932940266028"
     },
     "user_tz": -420
    },
    "id": "XBFzODrjawjW",
    "outputId": "4bc541a2-6b17-42a8-83c8-0532ec412a52"
   },
   "outputs": [
    {
     "data": {
      "image/png": "[encoded data removed]",
      "text/plain": [
       "<Figure size 576x576 with 1 Axes>"
      ]
     },
     "metadata": {
      "needs_background": "light"
     },
     "output_type": "display_data"
    },
    {
     "data": {
      "image/png": "[encoded data removed]",
      "text/plain": [
       "<Figure size 864x576 with 1 Axes>"
      ]
     },
     "metadata": {
      "needs_background": "light"
     },
     "output_type": "display_data"
    }
   ],
   "source": [
    "# Tạo biểu đồ hộp và râu (boxplot) cho cột 'Year', kích thước 8x8 inch\n",
    "df.boxplot(column=['Year'], figsize=(8,8))  \n",
    "\n",
    "# Tạo biểu đồ histogram cho cột 'Year' với 20 khoảng (bins)\n",
    "# grid=False: không hiển thị lưới\n",
    "# figsize=(12,8): kích thước biểu đồ 12x8 inch\n",
    "# color='#86bf91': màu xanh lá cây cho các cột trong biểu đồ\n",
    "ax = df.hist(column='Year', bins=20, grid=False, figsize=(12,8), color='#86bf91')\n",
    "\n",
    "# Lấy đối tượng axes đầu tiên từ mảng trả về bởi hàm hist()\n",
    "ax = ax[0]\n",
    "\n",
    "# Vòng lặp qua từng đối tượng trục (axes) trong biểu đồ để tùy chỉnh\n",
    "for x in ax:\n",
    "\n",
    "    # Loại bỏ viền (despine) - ẩn viền bên phải của biểu đồ\n",
    "    x.spines['right'].set_visible(False)\n",
    "    # Ẩn viền phía trên của biểu đồ\n",
    "    x.spines['top'].set_visible(False)\n",
    "    # Ẩn viền bên trái của biểu đồ\n",
    "    x.spines['left'].set_visible(False)\n",
    "\n",
    "    # Tắt tất cả các dấu tích (ticks) trên các trục\n",
    "    # bottom=\"off\": tắt dấu tích dưới, top=\"off\": tắt dấu tích trên\n",
    "    # labelbottom=\"on\": giữ nhãn dưới, left=\"off\": tắt dấu tích trái\n",
    "    # right=\"off\": tắt dấu tích phải, labelleft=\"on\": giữ nhãn trái\n",
    "    x.tick_params(axis=\"both\", which=\"both\", bottom=\"off\", top=\"off\", labelbottom=\"on\", left=\"off\", right=\"off\", labelleft=\"on\")\n",
    "\n",
    "    # Vẽ các đường ngang tương ứng với các giá trị trục y\n",
    "    # Lấy các giá trị tích trên trục y\n",
    "    vals = x.get_yticks()\n",
    "    # Với mỗi giá trị, vẽ một đường ngang đứt nét mờ để dễ đọc giá trị\n",
    "    for tick in vals:\n",
    "        x.axhline(y=tick, linestyle='dashed', alpha=0.4, color='#eeeeee', zorder=1)\n",
    "\n",
    "    # Xóa tiêu đề mặc định của biểu đồ\n",
    "    x.set_title(\"\")\n",
    "\n",
    "    # Đặt nhãn cho trục x, mô tả phân phối năm phát hành\n",
    "    # labelpad=20: khoảng cách giữa trục và nhãn là 20 đơn vị\n",
    "    # weight='bold': in đậm, size=12: kích thước chữ là 12\n",
    "    x.set_xlabel(\"Year distribution\", labelpad=20, weight='bold', size=12)\n",
    "\n",
    "    # Đặt nhãn cho trục y, mô tả số lượng phim\n",
    "    # labelpad=20: khoảng cách giữa trục và nhãn là 20 đơn vị\n",
    "    # weight='bold': in đậm, size=12: kích thước chữ là 12\n",
    "    x.set_ylabel(\"No Of Movies\", labelpad=20, weight='bold', size=12)"
   ]
  },
  {
   "cell_type": "markdown",
   "metadata": {
    "id": "ra_odxZ1J9J9"
   },
   "source": [
    "### 4.4 Percentile (Phần trăm)"
   ]
  },
  {
   "cell_type": "code",
   "execution_count": null,
   "metadata": {
    "id": "5gCOxh5hdQqb"
   },
   "outputs": [],
   "source": [
    "# Import thư viện numpy (đã được import trước đó) để sử dụng các hàm tính toán thống kê\n",
    "\n",
    "# Tính giá trị phân vị thứ 25 (Q1) của doanh số bán tại Bắc Mỹ\n",
    "# Phân vị 25% nghĩa là 25% dữ liệu có giá trị thấp hơn giá trị này\n",
    "quartile_1 = np.percentile(df[\"NA_Sales\"], 25) \n",
    "\n",
    "# Tính giá trị phân vị thứ 75 (Q3) của doanh số bán tại Bắc Mỹ\n",
    "# Phân vị 75% nghĩa là 75% dữ liệu có giá trị thấp hơn giá trị này\n",
    "quartile_3 = np.percentile(df[\"NA_Sales\"], 75)\n",
    "\n",
    "# Tính giá trị phân vị thứ 20 của doanh số bán tại Bắc Mỹ\n",
    "# Phân vị 20% nghĩa là 20% dữ liệu có giá trị thấp hơn giá trị này\n",
    "# Đây là một ngưỡng thống kê hữu ích để phân tích phân phối của dữ liệu\n",
    "twenty_percentile = np.percentile(df[\"NA_Sales\"], 20)"
   ]
  },
  {
   "cell_type": "markdown",
   "metadata": {
    "id": "pm9YnXsTBkrT"
   },
   "source": [
    "## 6. Deal with Missing Values (Xử lý các giá trị bị thiếu)"
   ]
  },
  {
   "cell_type": "code",
   "execution_count": null,
   "metadata": {
    "colab": {
     "base_uri": "https://localhost:8080/"
    },
    "executionInfo": {
     "elapsed": 359,
     "status": "ok",
     "timestamp": 1665330385400,
     "user": {
      "displayName": "Vu Dam",
      "userId": "08349793932940266028"
     },
     "user_tz": -420
    },
    "id": "Sq6v-UtV3jnL",
    "outputId": "46c8b1e4-6963-4806-d66d-2dd1320c73f7"
   },
   "outputs": [
    {
     "name": "stdout",
     "output_type": "stream",
     "text": [
      "<class 'pandas.core.frame.DataFrame'>\n",
      "RangeIndex: 16598 entries, 0 to 16597\n",
      "Data columns (total 11 columns):\n",
      " #   Column        Non-Null Count  Dtype  \n",
      "---  ------        --------------  -----  \n",
      " 0   Rank          16598 non-null  int64  \n",
      " 1   Name          16598 non-null  object \n",
      " 2   Platform      16598 non-null  object \n",
      " 3   Year          16327 non-null  float64\n",
      " 4   Genre         16598 non-null  object \n",
      " 5   Publisher     16540 non-null  object \n",
      " 6   NA_Sales      16598 non-null  float64\n",
      " 7   EU_Sales      16598 non-null  float64\n",
      " 8   JP_Sales      16598 non-null  float64\n",
      " 9   Other_Sales   16598 non-null  float64\n",
      " 10  Global_Sales  16598 non-null  float64\n",
      "dtypes: float64(6), int64(1), object(4)\n",
      "memory usage: 1.4+ MB\n"
     ]
    }
   ],
   "source": [
    "# Hiển thị thông tin chi tiết về DataFrame\n",
    "# Phương thức info() cung cấp thông tin tổng quan về DataFrame, bao gồm:\n",
    "#  - Tổng số dòng và cột\n",
    "#  - Tên của mỗi cột\n",
    "#  - Số lượng giá trị không null trong mỗi cột\n",
    "#  - Kiểu dữ liệu của mỗi cột\n",
    "#  - Dung lượng bộ nhớ sử dụng\n",
    "# Đây là bước quan trọng trong quá trình phân tích dữ liệu để xác định\n",
    "# cần làm sạch dữ liệu như thế nào (ví dụ: xử lý giá trị null, chuyển đổi kiểu dữ liệu)\n",
    "df.info()"
   ]
  },
  {
   "cell_type": "code",
   "execution_count": null,
   "metadata": {
    "colab": {
     "base_uri": "https://localhost:8080/"
    },
    "executionInfo": {
     "elapsed": 402,
     "status": "ok",
     "timestamp": 1665330402803,
     "user": {
      "displayName": "Vu Dam",
      "userId": "08349793932940266028"
     },
     "user_tz": -420
    },
    "id": "s9-XmnmRD4pp",
    "outputId": "6f7c9eda-7210-4931-b5a3-1fa513e55e8f"
   },
   "outputs": [
    {
     "data": {
      "text/plain": [
       "True"
      ]
     },
     "execution_count": 7,
     "metadata": {},
     "output_type": "execute_result"
    }
   ],
   "source": [
    "# Kiểm tra xem DataFrame có chứa bất kỳ giá trị null (NaN) nào không\n",
    "# df.isnull() trả về một DataFrame kích thước tương tự df, với True tại vị trí có giá trị null\n",
    "# .values chuyển đổi DataFrame thành mảng NumPy\n",
    "# .any() trả về True nếu có ít nhất một giá trị True trong mảng (tức là có ít nhất một giá trị null trong df)\n",
    "# Đây là bước quan trọng trong việc kiểm tra chất lượng dữ liệu, giúp xác định nhanh xem dữ liệu có cần xử lý giá trị thiếu không\n",
    "df.isnull().values.any()"
   ]
  },
  {
   "cell_type": "code",
   "execution_count": null,
   "metadata": {
    "colab": {
     "base_uri": "https://localhost:8080/"
    },
    "executionInfo": {
     "elapsed": 548,
     "status": "ok",
     "timestamp": 1665330427562,
     "user": {
      "displayName": "Vu Dam",
      "userId": "08349793932940266028"
     },
     "user_tz": -420
    },
    "id": "5DF_mdHRGdPO",
    "outputId": "59a0c0e3-c66b-400c-82bc-0bbb5af22b6f"
   },
   "outputs": [
    {
     "data": {
      "text/plain": [
       "Rank              0\n",
       "Name              0\n",
       "Platform          0\n",
       "Year            271\n",
       "Genre             0\n",
       "Publisher        58\n",
       "NA_Sales          0\n",
       "EU_Sales          0\n",
       "JP_Sales          0\n",
       "Other_Sales       0\n",
       "Global_Sales      0\n",
       "dtype: int64"
      ]
     },
     "execution_count": 8,
     "metadata": {},
     "output_type": "execute_result"
    }
   ],
   "source": [
    "# Đếm số lượng giá trị null (NaN) trong mỗi cột của DataFrame\n",
    "# df.isnull() trả về DataFrame có cùng kích thước với df, với True tại vị trí có giá trị null\n",
    "# .sum() tính tổng theo cột, cho biết có bao nhiêu giá trị null trong mỗi cột\n",
    "# Kết quả hiển thị là một Series với index là tên cột và giá trị là số lượng giá trị null trong cột đó\n",
    "# Giúp xác định nhanh những cột nào cần được xử lý dữ liệu thiếu\n",
    "df.isnull().sum()"
   ]
  },
  {
   "cell_type": "code",
   "execution_count": null,
   "metadata": {
    "colab": {
     "base_uri": "https://localhost:8080/"
    },
    "executionInfo": {
     "elapsed": 364,
     "status": "ok",
     "timestamp": 1665330463965,
     "user": {
      "displayName": "Vu Dam",
      "userId": "08349793932940266028"
     },
     "user_tz": -420
    },
    "id": "7Y6WIogiGehu",
    "outputId": "21193007-45f7-413b-c400-89c9a83505d1"
   },
   "outputs": [
    {
     "data": {
      "text/plain": [
       "329"
      ]
     },
     "execution_count": 9,
     "metadata": {},
     "output_type": "execute_result"
    }
   ],
   "source": [
    "# Đếm tổng số giá trị null (NaN) trong toàn bộ DataFrame\n",
    "# df.isnull() trả về một DataFrame có cùng kích thước với df, với True tại vị trí có giá trị null\n",
    "# .sum() đầu tiên tính tổng theo cột, trả về một Series với số lượng giá trị null trong mỗi cột\n",
    "# .sum() thứ hai tính tổng của Series đó, cho biết tổng số giá trị null trong toàn bộ DataFrame\n",
    "# Kết quả là một con số duy nhất, cho biết có bao nhiêu ô dữ liệu bị thiếu trong toàn bộ bộ dữ liệu\n",
    "# Thông tin này rất hữu ích để đánh giá nhanh mức độ thiếu dữ liệu trước khi quyết định phương pháp xử lý\n",
    "df.isnull().sum().sum()"
   ]
  },
  {
   "cell_type": "code",
   "execution_count": null,
   "metadata": {
    "colab": {
     "base_uri": "https://localhost:8080/",
     "height": 554
    },
    "executionInfo": {
     "elapsed": 4,
     "status": "ok",
     "timestamp": 1665330486439,
     "user": {
      "displayName": "Vu Dam",
      "userId": "08349793932940266028"
     },
     "user_tz": -420
    },
    "id": "gZtnP3N6J4sV",
    "outputId": "6750ebb7-4f4e-4b28-fe10-4d8c6a4e2ab6"
   },
   "outputs": [
    {
     "data": {
      "text/html": [
       "\n",
       "  <div id=\"df-738a3aab-b5b9-4de0-aa87-c350f9618540\">\n",
       "    <div class=\"colab-df-container\">\n",
       "      <div>\n",
       "<style scoped>\n",
       "    .dataframe tbody tr th:only-of-type {\n",
       "        vertical-align: middle;\n",
       "    }\n",
       "\n",
       "    .dataframe tbody tr th {\n",
       "        vertical-align: top;\n",
       "    }\n",
       "\n",
       "    .dataframe thead th {\n",
       "        text-align: right;\n",
       "    }\n",
       "</style>\n",
       "<table border=\"1\" class=\"dataframe\">\n",
       "  <thead>\n",
       "    <tr style=\"text-align: right;\">\n",
       "      <th></th>\n",
       "      <th>Rank</th>\n",
       "      <th>Name</th>\n",
       "      <th>Platform</th>\n",
       "      <th>Year</th>\n",
       "      <th>Genre</th>\n",
       "      <th>Publisher</th>\n",
       "      <th>NA_Sales</th>\n",
       "      <th>EU_Sales</th>\n",
       "      <th>JP_Sales</th>\n",
       "      <th>Other_Sales</th>\n",
       "      <th>Global_Sales</th>\n",
       "    </tr>\n",
       "  </thead>\n",
       "  <tbody>\n",
       "    <tr>\n",
       "      <th>179</th>\n",
       "      <td>180</td>\n",
       "      <td>Madden NFL 2004</td>\n",
       "      <td>PS2</td>\n",
       "      <td>NaN</td>\n",
       "      <td>Sports</td>\n",
       "      <td>Electronic Arts</td>\n",
       "      <td>4.26</td>\n",
       "      <td>0.26</td>\n",
       "      <td>0.01</td>\n",
       "      <td>0.71</td>\n",
       "      <td>5.23</td>\n",
       "    </tr>\n",
       "    <tr>\n",
       "      <th>377</th>\n",
       "      <td>378</td>\n",
       "      <td>FIFA Soccer 2004</td>\n",
       "      <td>PS2</td>\n",
       "      <td>NaN</td>\n",
       "      <td>Sports</td>\n",
       "      <td>Electronic Arts</td>\n",
       "      <td>0.59</td>\n",
       "      <td>2.36</td>\n",
       "      <td>0.04</td>\n",
       "      <td>0.51</td>\n",
       "      <td>3.49</td>\n",
       "    </tr>\n",
       "    <tr>\n",
       "      <th>431</th>\n",
       "      <td>432</td>\n",
       "      <td>LEGO Batman: The Videogame</td>\n",
       "      <td>Wii</td>\n",
       "      <td>NaN</td>\n",
       "      <td>Action</td>\n",
       "      <td>Warner Bros. Interactive Entertainment</td>\n",
       "      <td>1.86</td>\n",
       "      <td>1.02</td>\n",
       "      <td>0.00</td>\n",
       "      <td>0.29</td>\n",
       "      <td>3.17</td>\n",
       "    </tr>\n",
       "    <tr>\n",
       "      <th>470</th>\n",
       "      <td>471</td>\n",
       "      <td>wwe Smackdown vs. Raw 2006</td>\n",
       "      <td>PS2</td>\n",
       "      <td>NaN</td>\n",
       "      <td>Fighting</td>\n",
       "      <td>NaN</td>\n",
       "      <td>1.57</td>\n",
       "      <td>1.02</td>\n",
       "      <td>0.00</td>\n",
       "      <td>0.41</td>\n",
       "      <td>3.00</td>\n",
       "    </tr>\n",
       "    <tr>\n",
       "      <th>607</th>\n",
       "      <td>608</td>\n",
       "      <td>Space Invaders</td>\n",
       "      <td>2600</td>\n",
       "      <td>NaN</td>\n",
       "      <td>Shooter</td>\n",
       "      <td>Atari</td>\n",
       "      <td>2.36</td>\n",
       "      <td>0.14</td>\n",
       "      <td>0.00</td>\n",
       "      <td>0.03</td>\n",
       "      <td>2.53</td>\n",
       "    </tr>\n",
       "    <tr>\n",
       "      <th>...</th>\n",
       "      <td>...</td>\n",
       "      <td>...</td>\n",
       "      <td>...</td>\n",
       "      <td>...</td>\n",
       "      <td>...</td>\n",
       "      <td>...</td>\n",
       "      <td>...</td>\n",
       "      <td>...</td>\n",
       "      <td>...</td>\n",
       "      <td>...</td>\n",
       "      <td>...</td>\n",
       "    </tr>\n",
       "    <tr>\n",
       "      <th>16427</th>\n",
       "      <td>16430</td>\n",
       "      <td>Virtua Quest</td>\n",
       "      <td>GC</td>\n",
       "      <td>NaN</td>\n",
       "      <td>Role-Playing</td>\n",
       "      <td>Unknown</td>\n",
       "      <td>0.01</td>\n",
       "      <td>0.00</td>\n",
       "      <td>0.00</td>\n",
       "      <td>0.00</td>\n",
       "      <td>0.01</td>\n",
       "    </tr>\n",
       "    <tr>\n",
       "      <th>16493</th>\n",
       "      <td>16496</td>\n",
       "      <td>The Smurfs</td>\n",
       "      <td>3DS</td>\n",
       "      <td>NaN</td>\n",
       "      <td>Action</td>\n",
       "      <td>Unknown</td>\n",
       "      <td>0.00</td>\n",
       "      <td>0.01</td>\n",
       "      <td>0.00</td>\n",
       "      <td>0.00</td>\n",
       "      <td>0.01</td>\n",
       "    </tr>\n",
       "    <tr>\n",
       "      <th>16494</th>\n",
       "      <td>16497</td>\n",
       "      <td>Legends of Oz: Dorothy's Return</td>\n",
       "      <td>3DS</td>\n",
       "      <td>2014.0</td>\n",
       "      <td>Puzzle</td>\n",
       "      <td>NaN</td>\n",
       "      <td>0.00</td>\n",
       "      <td>0.01</td>\n",
       "      <td>0.00</td>\n",
       "      <td>0.00</td>\n",
       "      <td>0.01</td>\n",
       "    </tr>\n",
       "    <tr>\n",
       "      <th>16543</th>\n",
       "      <td>16546</td>\n",
       "      <td>Driving Simulator 2011</td>\n",
       "      <td>PC</td>\n",
       "      <td>2011.0</td>\n",
       "      <td>Racing</td>\n",
       "      <td>NaN</td>\n",
       "      <td>0.00</td>\n",
       "      <td>0.01</td>\n",
       "      <td>0.00</td>\n",
       "      <td>0.00</td>\n",
       "      <td>0.01</td>\n",
       "    </tr>\n",
       "    <tr>\n",
       "      <th>16553</th>\n",
       "      <td>16556</td>\n",
       "      <td>Bound By Flame</td>\n",
       "      <td>X360</td>\n",
       "      <td>2014.0</td>\n",
       "      <td>Role-Playing</td>\n",
       "      <td>NaN</td>\n",
       "      <td>0.00</td>\n",
       "      <td>0.01</td>\n",
       "      <td>0.00</td>\n",
       "      <td>0.00</td>\n",
       "      <td>0.01</td>\n",
       "    </tr>\n",
       "  </tbody>\n",
       "</table>\n",
       "<p>307 rows × 11 columns</p>\n",
       "</div>\n",
       "      <button class=\"colab-df-convert\" onclick=\"convertToInteractive('df-738a3aab-b5b9-4de0-aa87-c350f9618540')\"\n",
       "              title=\"Convert this dataframe to an interactive table.\"\n",
       "              style=\"display:none;\">\n",
       "        \n",
       "  <svg xmlns=\"http://www.w3.org/2000/svg\" height=\"24px\"viewBox=\"0 0 24 24\"\n",
       "       width=\"24px\">\n",
       "    <path d=\"M0 0h24v24H0V0z\" fill=\"none\"/>\n",
       "    <path d=\"M18.56 5.44l.94 2.06.94-2.06 2.06-.94-2.06-.94-.94-2.06-.94 2.06-2.06.94zm-11 1L8.5 8.5l.94-2.06 2.06-.94-2.06-.94L8.5 2.5l-.94 2.06-2.06.94zm10 10l.94 2.06.94-2.06 2.06-.94-2.06-.94-.94-2.06-.94 2.06-2.06.94z\"/><path d=\"M17.41 7.96l-1.37-1.37c-.4-.4-.92-.59-1.43-.59-.52 0-1.04.2-1.43.59L10.3 9.45l-7.72 7.72c-.78.78-.78 2.05 0 2.83L4 21.41c.39.39.9.59 1.41.59.51 0 1.02-.2 1.41-.59l7.78-7.78 2.81-2.81c.8-.78.8-2.07 0-2.86zM5.41 20L4 18.59l7.72-7.72 1.47 1.35L5.41 20z\"/>\n",
       "  </svg>\n",
       "      </button>\n",
       "      \n",
       "  <style>\n",
       "    .colab-df-container {\n",
       "      display:flex;\n",
       "      flex-wrap:wrap;\n",
       "      gap: 12px;\n",
       "    }\n",
       "\n",
       "    .colab-df-convert {\n",
       "      background-color: #E8F0FE;\n",
       "      border: none;\n",
       "      border-radius: 50%;\n",
       "      cursor: pointer;\n",
       "      display: none;\n",
       "      fill: #1967D2;\n",
       "      height: 32px;\n",
       "      padding: 0 0 0 0;\n",
       "      width: 32px;\n",
       "    }\n",
       "\n",
       "    .colab-df-convert:hover {\n",
       "      background-color: #E2EBFA;\n",
       "      box-shadow: 0px 1px 2px rgba(60, 64, 67, 0.3), 0px 1px 3px 1px rgba(60, 64, 67, 0.15);\n",
       "      fill: #174EA6;\n",
       "    }\n",
       "\n",
       "    [theme=dark] .colab-df-convert {\n",
       "      background-color: #3B4455;\n",
       "      fill: #D2E3FC;\n",
       "    }\n",
       "\n",
       "    [theme=dark] .colab-df-convert:hover {\n",
       "      background-color: #434B5C;\n",
       "      box-shadow: 0px 1px 3px 1px rgba(0, 0, 0, 0.15);\n",
       "      filter: drop-shadow(0px 1px 2px rgba(0, 0, 0, 0.3));\n",
       "      fill: #FFFFFF;\n",
       "    }\n",
       "  </style>\n",
       "\n",
       "      <script>\n",
       "        const buttonEl =\n",
       "          document.querySelector('#df-738a3aab-b5b9-4de0-aa87-c350f9618540 button.colab-df-convert');\n",
       "        buttonEl.style.display =\n",
       "          google.colab.kernel.accessAllowed ? 'block' : 'none';\n",
       "\n",
       "        async function convertToInteractive(key) {\n",
       "          const element = document.querySelector('#df-738a3aab-b5b9-4de0-aa87-c350f9618540');\n",
       "          const dataTable =\n",
       "            await google.colab.kernel.invokeFunction('convertToInteractive',\n",
       "                                                     [key], {});\n",
       "          if (!dataTable) return;\n",
       "\n",
       "          const docLinkHtml = 'Like what you see? Visit the ' +\n",
       "            '<a target=\"_blank\" href=https://colab.research.google.com/notebooks/data_table.ipynb>data table notebook</a>'\n",
       "            + ' to learn more about interactive tables.';\n",
       "          element.innerHTML = '';\n",
       "          dataTable['output_type'] = 'display_data';\n",
       "          await google.colab.output.renderOutput(dataTable, element);\n",
       "          const docLink = document.createElement('div');\n",
       "          docLink.innerHTML = docLinkHtml;\n",
       "          element.appendChild(docLink);\n",
       "        }\n",
       "      </script>\n",
       "    </div>\n",
       "  </div>\n",
       "  "
      ],
      "text/plain": [
       "        Rank                             Name Platform    Year         Genre  \\\n",
       "179      180                  Madden NFL 2004      PS2     NaN        Sports   \n",
       "377      378                 FIFA Soccer 2004      PS2     NaN        Sports   \n",
       "431      432       LEGO Batman: The Videogame      Wii     NaN        Action   \n",
       "470      471       wwe Smackdown vs. Raw 2006      PS2     NaN      Fighting   \n",
       "607      608                   Space Invaders     2600     NaN       Shooter   \n",
       "...      ...                              ...      ...     ...           ...   \n",
       "16427  16430                     Virtua Quest       GC     NaN  Role-Playing   \n",
       "16493  16496                       The Smurfs      3DS     NaN        Action   \n",
       "16494  16497  Legends of Oz: Dorothy's Return      3DS  2014.0        Puzzle   \n",
       "16543  16546           Driving Simulator 2011       PC  2011.0        Racing   \n",
       "16553  16556                   Bound By Flame     X360  2014.0  Role-Playing   \n",
       "\n",
       "                                    Publisher  NA_Sales  EU_Sales  JP_Sales  \\\n",
       "179                           Electronic Arts      4.26      0.26      0.01   \n",
       "377                           Electronic Arts      0.59      2.36      0.04   \n",
       "431    Warner Bros. Interactive Entertainment      1.86      1.02      0.00   \n",
       "470                                       NaN      1.57      1.02      0.00   \n",
       "607                                     Atari      2.36      0.14      0.00   \n",
       "...                                       ...       ...       ...       ...   \n",
       "16427                                 Unknown      0.01      0.00      0.00   \n",
       "16493                                 Unknown      0.00      0.01      0.00   \n",
       "16494                                     NaN      0.00      0.01      0.00   \n",
       "16543                                     NaN      0.00      0.01      0.00   \n",
       "16553                                     NaN      0.00      0.01      0.00   \n",
       "\n",
       "       Other_Sales  Global_Sales  \n",
       "179           0.71          5.23  \n",
       "377           0.51          3.49  \n",
       "431           0.29          3.17  \n",
       "470           0.41          3.00  \n",
       "607           0.03          2.53  \n",
       "...            ...           ...  \n",
       "16427         0.00          0.01  \n",
       "16493         0.00          0.01  \n",
       "16494         0.00          0.01  \n",
       "16543         0.00          0.01  \n",
       "16553         0.00          0.01  \n",
       "\n",
       "[307 rows x 11 columns]"
      ]
     },
     "execution_count": 10,
     "metadata": {},
     "output_type": "execute_result"
    }
   ],
   "source": [
    "# Hiển thị các hàng chứa giá trị NaN trong dữ liệu\n",
    "# df.isna() trả về một DataFrame boolean với True tại vị trí có giá trị thiếu\n",
    "# .any(axis=1) kiểm tra xem có ít nhất một giá trị True trên mỗi hàng không\n",
    "# df[...] lọc DataFrame gốc để chỉ giữ lại các hàng thỏa mãn điều kiện\n",
    "# Kết quả cuối cùng là một DataFrame chứa tất cả các hàng có ít nhất một giá trị NaN\n",
    "# Đây là bước quan trọng để xem xét cụ thể những bản ghi nào cần được xử lý giá trị thiếu\n",
    "df[df.isna().any(axis=1)]"
   ]
  },
  {
   "cell_type": "code",
   "execution_count": null,
   "metadata": {
    "colab": {
     "base_uri": "https://localhost:8080/"
    },
    "executionInfo": {
     "elapsed": 408,
     "status": "ok",
     "timestamp": 1665067785541,
     "user": {
      "displayName": "Vu Dam",
      "userId": "08349793932940266028"
     },
     "user_tz": -420
    },
    "id": "HuEQIDE2JNyX",
    "outputId": "f1b25c31-a296-4363-e8fd-d47dfa498c4b"
   },
   "outputs": [
    {
     "data": {
      "text/plain": [
       "(16598, 11)"
      ]
     },
     "execution_count": 6,
     "metadata": {},
     "output_type": "execute_result"
    }
   ],
   "source": [
    "# Hiển thị kích thước (shape) của DataFrame df\n",
    "# Phương thức này trả về một tuple chứa số hàng và số cột của DataFrame\n",
    "# Kết quả sẽ có dạng (rows, columns) - giúp ta biết được có bao nhiêu bản ghi và đặc trưng trong dữ liệu\n",
    "# Đây là bước quan trọng để hiểu quy mô của bộ dữ liệu trước khi phân tích sâu hơn\n",
    "df.shape"
   ]
  },
  {
   "cell_type": "code",
   "execution_count": null,
   "metadata": {
    "colab": {
     "base_uri": "https://localhost:8080/"
    },
    "executionInfo": {
     "elapsed": 3,
     "status": "ok",
     "timestamp": 1665330552068,
     "user": {
      "displayName": "Vu Dam",
      "userId": "08349793932940266028"
     },
     "user_tz": -420
    },
    "id": "czyWydD4Gtv1",
    "outputId": "c7930d21-211c-4d30-e0fa-2dbb4050a187"
   },
   "outputs": [
    {
     "data": {
      "text/plain": [
       "(16291, 11)"
      ]
     },
     "execution_count": 11,
     "metadata": {},
     "output_type": "execute_result"
    }
   ],
   "source": [
    "# Nhận thấy chúng ta có 2 cột chứa giá trị null, chúng ta cần xử lý các giá trị bị thiếu này trước khi có thể phân tích dữ liệu.\n",
    "# Những cột có giá trị null là 'Year' và 'Publisher' như đã thấy từ kết quả df.isnull().sum() trước đó\n",
    "\n",
    "# Cách 1: Loại bỏ các hàng có chứa giá trị bị thiếu\n",
    "# Phương pháp này có thể phù hợp khi tỷ lệ giá trị bị thiếu rất nhỏ so với toàn bộ dữ liệu\n",
    "# Sử dụng hàm dropna() để loại bỏ tất cả các hàng có ít nhất một giá trị null\n",
    "df1 = df.dropna()\n",
    "\n",
    "# Hiển thị kích thước mới của DataFrame sau khi loại bỏ các hàng có giá trị null\n",
    "# Điều này giúp chúng ta biết còn lại bao nhiêu hàng/cột sau khi làm sạch dữ liệu\n",
    "df1.shape\n",
    "\n",
    "# Dòng code đã bị comment này sẽ kiểm tra xem trong DataFrame df1 còn giá trị null nào không\n",
    "# df1.isnull().sum().sum()"
   ]
  },
  {
   "cell_type": "code",
   "execution_count": null,
   "metadata": {
    "colab": {
     "base_uri": "https://localhost:8080/"
    },
    "executionInfo": {
     "elapsed": 3,
     "status": "ok",
     "timestamp": 1665330697662,
     "user": {
      "displayName": "Vu Dam",
      "userId": "08349793932940266028"
     },
     "user_tz": -420
    },
    "id": "Y0ZZPygbZT7t",
    "outputId": "61be325a-648e-46c4-d24e-bf508a3c0bb7"
   },
   "outputs": [
    {
     "data": {
      "text/plain": [
       "0    Electronic Arts\n",
       "dtype: object"
      ]
     },
     "execution_count": 12,
     "metadata": {},
     "output_type": "execute_result"
    }
   ],
   "source": [
    "# Tìm giá trị xuất hiện nhiều nhất (mode) trong cột 'Publisher'\n",
    "# Kết quả trả về là giá trị phổ biến nhất trong cột Publisher\n",
    "# Chúng ta cần thông tin này để có thể điền vào các giá trị null trong cột Publisher\n",
    "# bằng giá trị phổ biến nhất, đây là một phương pháp xử lý dữ liệu thiếu\n",
    "df[\"Publisher\"].mode()"
   ]
  },
  {
   "cell_type": "code",
   "execution_count": null,
   "metadata": {
    "colab": {
     "base_uri": "https://localhost:8080/"
    },
    "executionInfo": {
     "elapsed": 859,
     "status": "ok",
     "timestamp": 1664890349943,
     "user": {
      "displayName": "Vu Dam",
      "userId": "08349793932940266028"
     },
     "user_tz": -420
    },
    "id": "sTbHiiE0CRio",
    "outputId": "e321ea01-67cb-4788-8aaf-8c435a1894b1"
   },
   "outputs": [
    {
     "name": "stdout",
     "output_type": "stream",
     "text": [
      "0\n"
     ]
    }
   ],
   "source": [
    "# Phương pháp thứ 2 là điền giá trị na bằng giá trị khác - trong trường hợp này, phương pháp này khá khó khăn vì Publisher là một biến phân loại cụ thể\n",
    "\n",
    "# Tạo Series mới bằng cách điền các giá trị null trong cột \"Publisher\" với chuỗi \"Random Publisher\"\n",
    "# fillna() là phương thức của pandas dùng để thay thế các giá trị NaN bằng giá trị được chỉ định\n",
    "df2 = df[\"Publisher\"].fillna(\"Random Publisher\")\n",
    "\n",
    "# In ra tổng số giá trị null còn lại trong Series df2 sau khi đã điền giá trị\n",
    "# Kết quả mong đợi là 0, nghĩa là không còn giá trị null nào trong Series này\n",
    "print(df2.isnull().sum())"
   ]
  },
  {
   "cell_type": "code",
   "execution_count": null,
   "metadata": {
    "colab": {
     "base_uri": "https://localhost:8080/"
    },
    "executionInfo": {
     "elapsed": 574,
     "status": "ok",
     "timestamp": 1665330757236,
     "user": {
      "displayName": "Vu Dam",
      "userId": "08349793932940266028"
     },
     "user_tz": -420
    },
    "id": "vUU6M8HNNCls",
    "outputId": "4a054eed-d962-441c-84d3-68998fed7782"
   },
   "outputs": [
    {
     "data": {
      "text/plain": [
       "Rank              0\n",
       "Name              0\n",
       "Platform          0\n",
       "Year            271\n",
       "Genre             0\n",
       "Publisher         0\n",
       "NA_Sales          0\n",
       "EU_Sales          0\n",
       "JP_Sales          0\n",
       "Other_Sales       0\n",
       "Global_Sales      0\n",
       "dtype: int64"
      ]
     },
     "execution_count": 13,
     "metadata": {},
     "output_type": "execute_result"
    }
   ],
   "source": [
    "# Import thư viện numpy để sử dụng cho các hàm tính toán và giá trị đặc biệt như np.nan\n",
    "import numpy as np\n",
    "\n",
    "# Tạo một bản sao của DataFrame gốc để không ảnh hưởng đến dữ liệu gốc khi thực hiện các thay đổi\n",
    "# Lưu ý: Cách này chỉ tạo một tham chiếu, không phải bản sao sâu, nên thay đổi trên trial sẽ ảnh hưởng đến df\n",
    "trial = df\n",
    "\n",
    "# Thay thế các giá trị NaN (null) trong cột \"Publisher\" bằng \"Electronic Arts\"\n",
    "# to_replace = np.nan: chỉ định các giá trị cần thay thế là giá trị NaN\n",
    "# value = \"Electronic Arts\": giá trị mới thay thế vào vị trí của NaN\n",
    "# Electronic Arts là nhà phát hành xuất hiện nhiều nhất trong dữ liệu theo kết quả mode() ở cell trước\n",
    "trial[\"Publisher\"] = trial[\"Publisher\"].replace(to_replace = np.nan, value = \"Electronic Arts\")\n",
    "\n",
    "# Kiểm tra số lượng giá trị null còn lại trong mỗi cột của DataFrame sau khi thực hiện thay thế\n",
    "# Nếu thực hiện thành công, số lượng null trong cột Publisher sẽ giảm xuống 0\n",
    "# Tuy nhiên, có thể vẫn còn giá trị null trong cột Year cần được xử lý\n",
    "trial.isnull().sum()"
   ]
  },
  {
   "cell_type": "code",
   "execution_count": null,
   "metadata": {
    "colab": {
     "base_uri": "https://localhost:8080/"
    },
    "executionInfo": {
     "elapsed": 354,
     "status": "ok",
     "timestamp": 1665330777824,
     "user": {
      "displayName": "Vu Dam",
      "userId": "08349793932940266028"
     },
     "user_tz": -420
    },
    "id": "hNx90iaGDiBr",
    "outputId": "cf258174-ace9-4efb-f3f9-6320387be390"
   },
   "outputs": [
    {
     "data": {
      "text/plain": [
       "0    2009.0\n",
       "dtype: float64"
      ]
     },
     "execution_count": 14,
     "metadata": {},
     "output_type": "execute_result"
    }
   ],
   "source": [
    "# Tìm giá trị xuất hiện nhiều nhất (mode) trong cột 'Year'\n",
    "# Phương thức mode() trả về giá trị xuất hiện với tần suất cao nhất trong Series\n",
    "# Dữ liệu trả về là một Series chứa tất cả các giá trị có tần suất xuất hiện bằng nhau và cao nhất\n",
    "# Trong trường hợp này, kết quả cho thấy năm 2009 là năm phổ biến nhất cho các trò chơi trong bộ dữ liệu\n",
    "# Chúng ta sẽ sử dụng giá trị này để điền vào các giá trị bị thiếu (NaN) trong cột 'Year'\n",
    "df[\"Year\"].mode()"
   ]
  },
  {
   "cell_type": "code",
   "execution_count": null,
   "metadata": {
    "colab": {
     "base_uri": "https://localhost:8080/"
    },
    "executionInfo": {
     "elapsed": 3,
     "status": "ok",
     "timestamp": 1665330784777,
     "user": {
      "displayName": "Vu Dam",
      "userId": "08349793932940266028"
     },
     "user_tz": -420
    },
    "id": "Kv8upMYmSNl3",
    "outputId": "a9e06c86-a1b7-467d-fbd5-70fb2f295cfc"
   },
   "outputs": [
    {
     "data": {
      "text/plain": [
       "Rank            0\n",
       "Name            0\n",
       "Platform        0\n",
       "Year            0\n",
       "Genre           0\n",
       "Publisher       0\n",
       "NA_Sales        0\n",
       "EU_Sales        0\n",
       "JP_Sales        0\n",
       "Other_Sales     0\n",
       "Global_Sales    0\n",
       "dtype: int64"
      ]
     },
     "execution_count": 15,
     "metadata": {},
     "output_type": "execute_result"
    }
   ],
   "source": [
    "# Điền giá trị NaN trong cột \"Year\" bằng giá trị phổ biến nhất (mode)\n",
    "# Replace: thay thế các giá trị trong DataFrame\n",
    "# to_replace = np.nan: chỉ định các giá trị cần thay thế là giá trị NaN\n",
    "# value = 2009: thay thế bằng giá trị 2009, đây là năm xuất hiện nhiều nhất trong dữ liệu theo kết quả mode() ở cell trước\n",
    "trial[\"Year\"] = trial[\"Year\"].replace(to_replace = np.nan, value = 2009)\n",
    "\n",
    "# Kiểm tra số lượng giá trị null còn lại trong mỗi cột của DataFrame sau khi thực hiện thay thế\n",
    "# Nếu thực hiện thành công, số lượng null trong cả DataFrame sẽ giảm xuống 0\n",
    "# isnull().sum(): đếm số lượng giá trị null trong từng cột\n",
    "trial.isnull().sum()"
   ]
  },
  {
   "cell_type": "markdown",
   "metadata": {
    "id": "FxSgkhbdT0GI"
   },
   "source": [
    "## 7.Deal with Duplicated Values (Xử lý các giá trị bị trùng lặp)"
   ]
  },
  {
   "cell_type": "code",
   "execution_count": null,
   "metadata": {
    "colab": {
     "base_uri": "https://localhost:8080/",
     "height": 49
    },
    "executionInfo": {
     "elapsed": 361,
     "status": "ok",
     "timestamp": 1665407608963,
     "user": {
      "displayName": "Vu Dam",
      "userId": "08349793932940266028"
     },
     "user_tz": -420
    },
    "id": "jKnf0atpTzA5",
    "outputId": "4d550f1f-ce6c-4ad7-eb2e-aaa64cf07568"
   },
   "outputs": [
    {
     "data": {
      "text/html": [
       "\n",
       "  <div id=\"df-d3311aea-5a38-456e-a70e-7a91879620c6\">\n",
       "    <div class=\"colab-df-container\">\n",
       "      <div>\n",
       "<style scoped>\n",
       "    .dataframe tbody tr th:only-of-type {\n",
       "        vertical-align: middle;\n",
       "    }\n",
       "\n",
       "    .dataframe tbody tr th {\n",
       "        vertical-align: top;\n",
       "    }\n",
       "\n",
       "    .dataframe thead th {\n",
       "        text-align: right;\n",
       "    }\n",
       "</style>\n",
       "<table border=\"1\" class=\"dataframe\">\n",
       "  <thead>\n",
       "    <tr style=\"text-align: right;\">\n",
       "      <th></th>\n",
       "      <th>Rank</th>\n",
       "      <th>Name</th>\n",
       "      <th>Platform</th>\n",
       "      <th>Year</th>\n",
       "      <th>Genre</th>\n",
       "      <th>Publisher</th>\n",
       "      <th>NA_Sales</th>\n",
       "      <th>EU_Sales</th>\n",
       "      <th>JP_Sales</th>\n",
       "      <th>Other_Sales</th>\n",
       "      <th>Global_Sales</th>\n",
       "    </tr>\n",
       "  </thead>\n",
       "  <tbody>\n",
       "  </tbody>\n",
       "</table>\n",
       "</div>\n",
       "      <button class=\"colab-df-convert\" onclick=\"convertToInteractive('df-d3311aea-5a38-456e-a70e-7a91879620c6')\"\n",
       "              title=\"Convert this dataframe to an interactive table.\"\n",
       "              style=\"display:none;\">\n",
       "        \n",
       "  <svg xmlns=\"http://www.w3.org/2000/svg\" height=\"24px\"viewBox=\"0 0 24 24\"\n",
       "       width=\"24px\">\n",
       "    <path d=\"M0 0h24v24H0V0z\" fill=\"none\"/>\n",
       "    <path d=\"M18.56 5.44l.94 2.06.94-2.06 2.06-.94-2.06-.94-.94-2.06-.94 2.06-2.06.94zm-11 1L8.5 8.5l.94-2.06 2.06-.94-2.06-.94L8.5 2.5l-.94 2.06-2.06.94zm10 10l.94 2.06.94-2.06 2.06-.94-2.06-.94-.94-2.06-.94 2.06-2.06.94z\"/><path d=\"M17.41 7.96l-1.37-1.37c-.4-.4-.92-.59-1.43-.59-.52 0-1.04.2-1.43.59L10.3 9.45l-7.72 7.72c-.78.78-.78 2.05 0 2.83L4 21.41c.39.39.9.59 1.41.59.51 0 1.02-.2 1.41-.59l7.78-7.78 2.81-2.81c.8-.78.8-2.07 0-2.86zM5.41 20L4 18.59l7.72-7.72 1.47 1.35L5.41 20z\"/>\n",
       "  </svg>\n",
       "      </button>\n",
       "      \n",
       "  <style>\n",
       "    .colab-df-container {\n",
       "      display:flex;\n",
       "      flex-wrap:wrap;\n",
       "      gap: 12px;\n",
       "    }\n",
       "\n",
       "    .colab-df-convert {\n",
       "      background-color: #E8F0FE;\n",
       "      border: none;\n",
       "      border-radius: 50%;\n",
       "      cursor: pointer;\n",
       "      display: none;\n",
       "      fill: #1967D2;\n",
       "      height: 32px;\n",
       "      padding: 0 0 0 0;\n",
       "      width: 32px;\n",
       "    }\n",
       "\n",
       "    .colab-df-convert:hover {\n",
       "      background-color: #E2EBFA;\n",
       "      box-shadow: 0px 1px 2px rgba(60, 64, 67, 0.3), 0px 1px 3px 1px rgba(60, 64, 67, 0.15);\n",
       "      fill: #174EA6;\n",
       "    }\n",
       "\n",
       "    [theme=dark] .colab-df-convert {\n",
       "      background-color: #3B4455;\n",
       "      fill: #D2E3FC;\n",
       "    }\n",
       "\n",
       "    [theme=dark] .colab-df-convert:hover {\n",
       "      background-color: #434B5C;\n",
       "      box-shadow: 0px 1px 3px 1px rgba(0, 0, 0, 0.15);\n",
       "      filter: drop-shadow(0px 1px 2px rgba(0, 0, 0, 0.3));\n",
       "      fill: #FFFFFF;\n",
       "    }\n",
       "  </style>\n",
       "\n",
       "      <script>\n",
       "        const buttonEl =\n",
       "          document.querySelector('#df-d3311aea-5a38-456e-a70e-7a91879620c6 button.colab-df-convert');\n",
       "        buttonEl.style.display =\n",
       "          google.colab.kernel.accessAllowed ? 'block' : 'none';\n",
       "\n",
       "        async function convertToInteractive(key) {\n",
       "          const element = document.querySelector('#df-d3311aea-5a38-456e-a70e-7a91879620c6');\n",
       "          const dataTable =\n",
       "            await google.colab.kernel.invokeFunction('convertToInteractive',\n",
       "                                                     [key], {});\n",
       "          if (!dataTable) return;\n",
       "\n",
       "          const docLinkHtml = 'Like what you see? Visit the ' +\n",
       "            '<a target=\"_blank\" href=https://colab.research.google.com/notebooks/data_table.ipynb>data table notebook</a>'\n",
       "            + ' to learn more about interactive tables.';\n",
       "          element.innerHTML = '';\n",
       "          dataTable['output_type'] = 'display_data';\n",
       "          await google.colab.output.renderOutput(dataTable, element);\n",
       "          const docLink = document.createElement('div');\n",
       "          docLink.innerHTML = docLinkHtml;\n",
       "          element.appendChild(docLink);\n",
       "        }\n",
       "      </script>\n",
       "    </div>\n",
       "  </div>\n",
       "  "
      ],
      "text/plain": [
       "Empty DataFrame\n",
       "Columns: [Rank, Name, Platform, Year, Genre, Publisher, NA_Sales, EU_Sales, JP_Sales, Other_Sales, Global_Sales]\n",
       "Index: []"
      ]
     },
     "execution_count": 18,
     "metadata": {},
     "output_type": "execute_result"
    }
   ],
   "source": [
    "# Tìm và hiển thị các hàng bị trùng lặp trong toàn bộ DataFrame\n",
    "# df.duplicated() trả về một Series boolean, với giá trị True cho các hàng trùng lặp (không phải hàng đầu tiên)\n",
    "# df[df.duplicated()] lọc DataFrame để chỉ giữ lại các hàng bị trùng lặp\n",
    "# Kết quả sẽ hiển thị tất cả các bản sao (không bao gồm bản ghi gốc đầu tiên)\n",
    "# Phương thức này so sánh tất cả các cột để xác định trùng lặp, không chỉ một cột cụ thể\n",
    "df[df.duplicated()]"
   ]
  },
  {
   "cell_type": "code",
   "execution_count": null,
   "metadata": {
    "colab": {
     "base_uri": "https://localhost:8080/",
     "height": 424
    },
    "executionInfo": {
     "elapsed": 10,
     "status": "ok",
     "timestamp": 1665406796761,
     "user": {
      "displayName": "Vu Dam",
      "userId": "08349793932940266028"
     },
     "user_tz": -420
    },
    "id": "NlJz-jhlTzDz",
    "outputId": "57c4caf6-afaa-4694-a01e-7980f011a4a3"
   },
   "outputs": [
    {
     "data": {
      "text/html": [
       "\n",
       "  <div id=\"df-05547033-7bc6-401e-a612-6662a62a0558\">\n",
       "    <div class=\"colab-df-container\">\n",
       "      <div>\n",
       "<style scoped>\n",
       "    .dataframe tbody tr th:only-of-type {\n",
       "        vertical-align: middle;\n",
       "    }\n",
       "\n",
       "    .dataframe tbody tr th {\n",
       "        vertical-align: top;\n",
       "    }\n",
       "\n",
       "    .dataframe thead th {\n",
       "        text-align: right;\n",
       "    }\n",
       "</style>\n",
       "<table border=\"1\" class=\"dataframe\">\n",
       "  <thead>\n",
       "    <tr style=\"text-align: right;\">\n",
       "      <th></th>\n",
       "      <th>Rank</th>\n",
       "      <th>Name</th>\n",
       "      <th>Platform</th>\n",
       "      <th>Year</th>\n",
       "      <th>Genre</th>\n",
       "      <th>Publisher</th>\n",
       "      <th>NA_Sales</th>\n",
       "      <th>EU_Sales</th>\n",
       "      <th>JP_Sales</th>\n",
       "      <th>Other_Sales</th>\n",
       "      <th>Global_Sales</th>\n",
       "    </tr>\n",
       "  </thead>\n",
       "  <tbody>\n",
       "    <tr>\n",
       "      <th>3038</th>\n",
       "      <td>3040</td>\n",
       "      <td>007: Quantum of Solace</td>\n",
       "      <td>Wii</td>\n",
       "      <td>2008.0</td>\n",
       "      <td>Action</td>\n",
       "      <td>Activision</td>\n",
       "      <td>0.30</td>\n",
       "      <td>0.29</td>\n",
       "      <td>0.01</td>\n",
       "      <td>0.07</td>\n",
       "      <td>0.67</td>\n",
       "    </tr>\n",
       "    <tr>\n",
       "      <th>1739</th>\n",
       "      <td>1741</td>\n",
       "      <td>007: Quantum of Solace</td>\n",
       "      <td>PS3</td>\n",
       "      <td>2008.0</td>\n",
       "      <td>Action</td>\n",
       "      <td>Activision</td>\n",
       "      <td>0.43</td>\n",
       "      <td>0.52</td>\n",
       "      <td>0.02</td>\n",
       "      <td>0.20</td>\n",
       "      <td>1.16</td>\n",
       "    </tr>\n",
       "    <tr>\n",
       "      <th>4499</th>\n",
       "      <td>4501</td>\n",
       "      <td>007: Quantum of Solace</td>\n",
       "      <td>PS2</td>\n",
       "      <td>2008.0</td>\n",
       "      <td>Action</td>\n",
       "      <td>Activision</td>\n",
       "      <td>0.17</td>\n",
       "      <td>0.00</td>\n",
       "      <td>0.00</td>\n",
       "      <td>0.26</td>\n",
       "      <td>0.43</td>\n",
       "    </tr>\n",
       "    <tr>\n",
       "      <th>9318</th>\n",
       "      <td>9320</td>\n",
       "      <td>007: Quantum of Solace</td>\n",
       "      <td>DS</td>\n",
       "      <td>2008.0</td>\n",
       "      <td>Action</td>\n",
       "      <td>Activision</td>\n",
       "      <td>0.11</td>\n",
       "      <td>0.01</td>\n",
       "      <td>0.00</td>\n",
       "      <td>0.01</td>\n",
       "      <td>0.14</td>\n",
       "    </tr>\n",
       "    <tr>\n",
       "      <th>14547</th>\n",
       "      <td>14550</td>\n",
       "      <td>007: Quantum of Solace</td>\n",
       "      <td>PC</td>\n",
       "      <td>2008.0</td>\n",
       "      <td>Action</td>\n",
       "      <td>Activision</td>\n",
       "      <td>0.01</td>\n",
       "      <td>0.01</td>\n",
       "      <td>0.00</td>\n",
       "      <td>0.00</td>\n",
       "      <td>0.03</td>\n",
       "    </tr>\n",
       "    <tr>\n",
       "      <th>...</th>\n",
       "      <td>...</td>\n",
       "      <td>...</td>\n",
       "      <td>...</td>\n",
       "      <td>...</td>\n",
       "      <td>...</td>\n",
       "      <td>...</td>\n",
       "      <td>...</td>\n",
       "      <td>...</td>\n",
       "      <td>...</td>\n",
       "      <td>...</td>\n",
       "      <td>...</td>\n",
       "    </tr>\n",
       "    <tr>\n",
       "      <th>3303</th>\n",
       "      <td>3305</td>\n",
       "      <td>pro evolution soccer 2011</td>\n",
       "      <td>X360</td>\n",
       "      <td>2010.0</td>\n",
       "      <td>Sports</td>\n",
       "      <td>Konami Digital Entertainment</td>\n",
       "      <td>0.09</td>\n",
       "      <td>0.44</td>\n",
       "      <td>0.00</td>\n",
       "      <td>0.07</td>\n",
       "      <td>0.61</td>\n",
       "    </tr>\n",
       "    <tr>\n",
       "      <th>2595</th>\n",
       "      <td>2597</td>\n",
       "      <td>pro evolution soccer 2011</td>\n",
       "      <td>PSP</td>\n",
       "      <td>2010.0</td>\n",
       "      <td>Sports</td>\n",
       "      <td>Konami Digital Entertainment</td>\n",
       "      <td>0.05</td>\n",
       "      <td>0.30</td>\n",
       "      <td>0.29</td>\n",
       "      <td>0.16</td>\n",
       "      <td>0.79</td>\n",
       "    </tr>\n",
       "    <tr>\n",
       "      <th>12605</th>\n",
       "      <td>12607</td>\n",
       "      <td>pro evolution soccer 2011</td>\n",
       "      <td>PC</td>\n",
       "      <td>2010.0</td>\n",
       "      <td>Sports</td>\n",
       "      <td>Konami Digital Entertainment</td>\n",
       "      <td>0.00</td>\n",
       "      <td>0.05</td>\n",
       "      <td>0.00</td>\n",
       "      <td>0.01</td>\n",
       "      <td>0.06</td>\n",
       "    </tr>\n",
       "    <tr>\n",
       "      <th>7088</th>\n",
       "      <td>7090</td>\n",
       "      <td>pro evolution soccer 2011</td>\n",
       "      <td>Wii</td>\n",
       "      <td>2010.0</td>\n",
       "      <td>Sports</td>\n",
       "      <td>Konami Digital Entertainment</td>\n",
       "      <td>0.08</td>\n",
       "      <td>0.10</td>\n",
       "      <td>0.03</td>\n",
       "      <td>0.02</td>\n",
       "      <td>0.23</td>\n",
       "    </tr>\n",
       "    <tr>\n",
       "      <th>15523</th>\n",
       "      <td>15526</td>\n",
       "      <td>uDraw Studio: Instant Artist</td>\n",
       "      <td>X360</td>\n",
       "      <td>2011.0</td>\n",
       "      <td>Misc</td>\n",
       "      <td>THQ</td>\n",
       "      <td>0.01</td>\n",
       "      <td>0.01</td>\n",
       "      <td>0.00</td>\n",
       "      <td>0.00</td>\n",
       "      <td>0.02</td>\n",
       "    </tr>\n",
       "  </tbody>\n",
       "</table>\n",
       "<p>5105 rows × 11 columns</p>\n",
       "</div>\n",
       "      <button class=\"colab-df-convert\" onclick=\"convertToInteractive('df-05547033-7bc6-401e-a612-6662a62a0558')\"\n",
       "              title=\"Convert this dataframe to an interactive table.\"\n",
       "              style=\"display:none;\">\n",
       "        \n",
       "  <svg xmlns=\"http://www.w3.org/2000/svg\" height=\"24px\"viewBox=\"0 0 24 24\"\n",
       "       width=\"24px\">\n",
       "    <path d=\"M0 0h24v24H0V0z\" fill=\"none\"/>\n",
       "    <path d=\"M18.56 5.44l.94 2.06.94-2.06 2.06-.94-2.06-.94-.94-2.06-.94 2.06-2.06.94zm-11 1L8.5 8.5l.94-2.06 2.06-.94-2.06-.94L8.5 2.5l-.94 2.06-2.06.94zm10 10l.94 2.06.94-2.06 2.06-.94-2.06-.94-.94-2.06-.94 2.06-2.06.94z\"/><path d=\"M17.41 7.96l-1.37-1.37c-.4-.4-.92-.59-1.43-.59-.52 0-1.04.2-1.43.59L10.3 9.45l-7.72 7.72c-.78.78-.78 2.05 0 2.83L4 21.41c.39.39.9.59 1.41.59.51 0 1.02-.2 1.41-.59l7.78-7.78 2.81-2.81c.8-.78.8-2.07 0-2.86zM5.41 20L4 18.59l7.72-7.72 1.47 1.35L5.41 20z\"/>\n",
       "  </svg>\n",
       "      </button>\n",
       "      \n",
       "  <style>\n",
       "    .colab-df-container {\n",
       "      display:flex;\n",
       "      flex-wrap:wrap;\n",
       "      gap: 12px;\n",
       "    }\n",
       "\n",
       "    .colab-df-convert {\n",
       "      background-color: #E8F0FE;\n",
       "      border: none;\n",
       "      border-radius: 50%;\n",
       "      cursor: pointer;\n",
       "      display: none;\n",
       "      fill: #1967D2;\n",
       "      height: 32px;\n",
       "      padding: 0 0 0 0;\n",
       "      width: 32px;\n",
       "    }\n",
       "\n",
       "    .colab-df-convert:hover {\n",
       "      background-color: #E2EBFA;\n",
       "      box-shadow: 0px 1px 2px rgba(60, 64, 67, 0.3), 0px 1px 3px 1px rgba(60, 64, 67, 0.15);\n",
       "      fill: #174EA6;\n",
       "    }\n",
       "\n",
       "    [theme=dark] .colab-df-convert {\n",
       "      background-color: #3B4455;\n",
       "      fill: #D2E3FC;\n",
       "    }\n",
       "\n",
       "    [theme=dark] .colab-df-convert:hover {\n",
       "      background-color: #434B5C;\n",
       "      box-shadow: 0px 1px 3px 1px rgba(0, 0, 0, 0.15);\n",
       "      filter: drop-shadow(0px 1px 2px rgba(0, 0, 0, 0.3));\n",
       "      fill: #FFFFFF;\n",
       "    }\n",
       "  </style>\n",
       "\n",
       "      <script>\n",
       "        const buttonEl =\n",
       "          document.querySelector('#df-05547033-7bc6-401e-a612-6662a62a0558 button.colab-df-convert');\n",
       "        buttonEl.style.display =\n",
       "          google.colab.kernel.accessAllowed ? 'block' : 'none';\n",
       "\n",
       "        async function convertToInteractive(key) {\n",
       "          const element = document.querySelector('#df-05547033-7bc6-401e-a612-6662a62a0558');\n",
       "          const dataTable =\n",
       "            await google.colab.kernel.invokeFunction('convertToInteractive',\n",
       "                                                     [key], {});\n",
       "          if (!dataTable) return;\n",
       "\n",
       "          const docLinkHtml = 'Like what you see? Visit the ' +\n",
       "            '<a target=\"_blank\" href=https://colab.research.google.com/notebooks/data_table.ipynb>data table notebook</a>'\n",
       "            + ' to learn more about interactive tables.';\n",
       "          element.innerHTML = '';\n",
       "          dataTable['output_type'] = 'display_data';\n",
       "          await google.colab.output.renderOutput(dataTable, element);\n",
       "          const docLink = document.createElement('div');\n",
       "          docLink.innerHTML = docLinkHtml;\n",
       "          element.appendChild(docLink);\n",
       "        }\n",
       "      </script>\n",
       "    </div>\n",
       "  </div>\n",
       "  "
      ],
      "text/plain": [
       "        Rank                          Name Platform    Year   Genre  \\\n",
       "3038    3040        007: Quantum of Solace      Wii  2008.0  Action   \n",
       "1739    1741        007: Quantum of Solace      PS3  2008.0  Action   \n",
       "4499    4501        007: Quantum of Solace      PS2  2008.0  Action   \n",
       "9318    9320        007: Quantum of Solace       DS  2008.0  Action   \n",
       "14547  14550        007: Quantum of Solace       PC  2008.0  Action   \n",
       "...      ...                           ...      ...     ...     ...   \n",
       "3303    3305     pro evolution soccer 2011     X360  2010.0  Sports   \n",
       "2595    2597     pro evolution soccer 2011      PSP  2010.0  Sports   \n",
       "12605  12607     pro evolution soccer 2011       PC  2010.0  Sports   \n",
       "7088    7090     pro evolution soccer 2011      Wii  2010.0  Sports   \n",
       "15523  15526  uDraw Studio: Instant Artist     X360  2011.0    Misc   \n",
       "\n",
       "                          Publisher  NA_Sales  EU_Sales  JP_Sales  \\\n",
       "3038                     Activision      0.30      0.29      0.01   \n",
       "1739                     Activision      0.43      0.52      0.02   \n",
       "4499                     Activision      0.17      0.00      0.00   \n",
       "9318                     Activision      0.11      0.01      0.00   \n",
       "14547                    Activision      0.01      0.01      0.00   \n",
       "...                             ...       ...       ...       ...   \n",
       "3303   Konami Digital Entertainment      0.09      0.44      0.00   \n",
       "2595   Konami Digital Entertainment      0.05      0.30      0.29   \n",
       "12605  Konami Digital Entertainment      0.00      0.05      0.00   \n",
       "7088   Konami Digital Entertainment      0.08      0.10      0.03   \n",
       "15523                           THQ      0.01      0.01      0.00   \n",
       "\n",
       "       Other_Sales  Global_Sales  \n",
       "3038          0.07          0.67  \n",
       "1739          0.20          1.16  \n",
       "4499          0.26          0.43  \n",
       "9318          0.01          0.14  \n",
       "14547         0.00          0.03  \n",
       "...            ...           ...  \n",
       "3303          0.07          0.61  \n",
       "2595          0.16          0.79  \n",
       "12605         0.01          0.06  \n",
       "7088          0.02          0.23  \n",
       "15523         0.00          0.02  \n",
       "\n",
       "[5105 rows x 11 columns]"
      ]
     },
     "execution_count": 5,
     "metadata": {},
     "output_type": "execute_result"
    }
   ],
   "source": [
    "# Tìm và hiển thị tất cả các hàng có tên trò chơi (Name) bị trùng lặp\n",
    "# df.duplicated('Name') trả về một Series boolean với giá trị True cho các hàng có tên trùng lặp (không phải hàng đầu tiên)\n",
    "# df[df.duplicated('Name')] lọc DataFrame để chỉ giữ lại các hàng có tên bị trùng lặp\n",
    "# sort_values(by=['Name']) sắp xếp kết quả theo tên trò chơi để dễ dàng quan sát các nhóm trùng lặp\n",
    "# Đây là một bước quan trọng để phân biệt giữa các trò chơi có cùng tên nhưng trên các nền tảng khác nhau\n",
    "df[df.duplicated('Name')].sort_values(by=['Name'])"
   ]
  },
  {
   "cell_type": "code",
   "execution_count": null,
   "metadata": {
    "id": "gr8dpF8mAZUk"
   },
   "outputs": [],
   "source": [
    "# Xử lý các bản ghi trùng lặp bằng cách loại bỏ \n",
    "# drop_duplicates() sẽ xóa tất cả các bản ghi trùng lặp, chỉ giữ lại bản ghi đầu tiên của mỗi nhóm trùng lặp\n",
    "# Mặc định, phương thức này so sánh tất cả các cột để xác định trùng lặp\n",
    "# Kết quả là một DataFrame mới không chứa bản ghi trùng lặp nào\n",
    "# Các bản ghi này có thể là các phiên bản giống hệt nhau của cùng một trò chơi\n",
    "df_no_dup = df.drop_duplicates()"
   ]
  },
  {
   "cell_type": "code",
   "execution_count": null,
   "metadata": {
    "colab": {
     "base_uri": "https://localhost:8080/"
    },
    "executionInfo": {
     "elapsed": 401,
     "status": "ok",
     "timestamp": 1665407746396,
     "user": {
      "displayName": "Vu Dam",
      "userId": "08349793932940266028"
     },
     "user_tz": -420
    },
    "id": "VSbjzSh3AcAW",
    "outputId": "eb3f2473-8449-4f06-bed7-f3d5cded42ff"
   },
   "outputs": [
    {
     "data": {
      "text/plain": [
       "(16598, 11)"
      ]
     },
     "execution_count": 20,
     "metadata": {},
     "output_type": "execute_result"
    }
   ],
   "source": [
    "# Hiển thị kích thước (shape) của DataFrame df\n",
    "# Phương thức này trả về một tuple (rows, columns) chứa số hàng và số cột của DataFrame\n",
    "# Kết quả giúp ta biết được có bao nhiêu bản ghi (game) và đặc trưng trong bộ dữ liệu\n",
    "# Thông tin này rất hữu ích để hiểu quy mô của dữ liệu trước khi tiến hành phân tích chi tiết\n",
    "df.shape"
   ]
  },
  {
   "cell_type": "code",
   "execution_count": null,
   "metadata": {
    "colab": {
     "base_uri": "https://localhost:8080/"
    },
    "executionInfo": {
     "elapsed": 3,
     "status": "ok",
     "timestamp": 1665407748030,
     "user": {
      "displayName": "Vu Dam",
      "userId": "08349793932940266028"
     },
     "user_tz": -420
    },
    "id": "csDGyTVcAcDE",
    "outputId": "68e4f129-8aba-4618-da1a-beb0f5526936"
   },
   "outputs": [
    {
     "data": {
      "text/plain": [
       "(16598, 11)"
      ]
     },
     "execution_count": 21,
     "metadata": {},
     "output_type": "execute_result"
    }
   ],
   "source": [
    "# Hiển thị kích thước (shape) của DataFrame df_no_dup sau khi đã loại bỏ các bản ghi trùng lặp\n",
    "# Kết quả trả về một tuple (số hàng, số cột) cho biết số lượng bản ghi duy nhất còn lại\n",
    "# Bằng cách so sánh với kích thước ban đầu của df, ta có thể đánh giá có bao nhiêu bản ghi trùng lặp đã được loại bỏ\n",
    "# Thông tin này giúp ta hiểu được mức độ dữ liệu bị trùng lặp trong bộ dữ liệu gốc\n",
    "df_no_dup.shape"
   ]
  },
  {
   "cell_type": "code",
   "execution_count": null,
   "metadata": {
    "colab": {
     "base_uri": "https://localhost:8080/"
    },
    "executionInfo": {
     "elapsed": 400,
     "status": "ok",
     "timestamp": 1665407787303,
     "user": {
      "displayName": "Vu Dam",
      "userId": "08349793932940266028"
     },
     "user_tz": -420
    },
    "id": "WPPYH0-n_yG5",
    "outputId": "07418427-dc57-4c70-d231-4f92b8738517"
   },
   "outputs": [
    {
     "data": {
      "text/plain": [
       "(16598, 3)"
      ]
     },
     "execution_count": 22,
     "metadata": {},
     "output_type": "execute_result"
    }
   ],
   "source": [
    "# Tạo một DataFrame mới chỉ chứa các cột \"Name\", \"Year\", \"Genre\" từ DataFrame gốc df\n",
    "# Đây là bước để tìm các trò chơi trùng lặp dựa trên tên, năm phát hành và thể loại\n",
    "# Việc chọn các cột cụ thể giúp chúng ta tập trung vào phân tích trùng lặp theo các tiêu chí quan trọng\n",
    "trial_duplicate = df[[\"Name\", \"Year\", \"Genre\"]]\n",
    "\n",
    "# Hiển thị kích thước (số hàng, số cột) của DataFrame trial_duplicate\n",
    "# Điều này cho chúng ta biết có bao nhiêu bản ghi và đặc trưng trong tập dữ liệu đã lọc\n",
    "# Thông tin này giúp chúng ta đánh giá quy mô của dữ liệu trước khi tìm các giá trị trùng lặp\n",
    "trial_duplicate.shape"
   ]
  },
  {
   "cell_type": "code",
   "execution_count": null,
   "metadata": {
    "colab": {
     "base_uri": "https://localhost:8080/",
     "height": 424
    },
    "executionInfo": {
     "elapsed": 439,
     "status": "ok",
     "timestamp": 1665407794222,
     "user": {
      "displayName": "Vu Dam",
      "userId": "08349793932940266028"
     },
     "user_tz": -420
    },
    "id": "zO7Dhs7WBTWH",
    "outputId": "9ead6a01-a975-4352-d95f-09ec25ea4c1d"
   },
   "outputs": [
    {
     "data": {
      "text/html": [
       "\n",
       "  <div id=\"df-f8dfb5e2-2667-4003-8758-90f30fdb093c\">\n",
       "    <div class=\"colab-df-container\">\n",
       "      <div>\n",
       "<style scoped>\n",
       "    .dataframe tbody tr th:only-of-type {\n",
       "        vertical-align: middle;\n",
       "    }\n",
       "\n",
       "    .dataframe tbody tr th {\n",
       "        vertical-align: top;\n",
       "    }\n",
       "\n",
       "    .dataframe thead th {\n",
       "        text-align: right;\n",
       "    }\n",
       "</style>\n",
       "<table border=\"1\" class=\"dataframe\">\n",
       "  <thead>\n",
       "    <tr style=\"text-align: right;\">\n",
       "      <th></th>\n",
       "      <th>Name</th>\n",
       "      <th>Year</th>\n",
       "      <th>Genre</th>\n",
       "    </tr>\n",
       "  </thead>\n",
       "  <tbody>\n",
       "    <tr>\n",
       "      <th>14547</th>\n",
       "      <td>007: Quantum of Solace</td>\n",
       "      <td>2008.0</td>\n",
       "      <td>Action</td>\n",
       "    </tr>\n",
       "    <tr>\n",
       "      <th>1739</th>\n",
       "      <td>007: Quantum of Solace</td>\n",
       "      <td>2008.0</td>\n",
       "      <td>Action</td>\n",
       "    </tr>\n",
       "    <tr>\n",
       "      <th>4499</th>\n",
       "      <td>007: Quantum of Solace</td>\n",
       "      <td>2008.0</td>\n",
       "      <td>Action</td>\n",
       "    </tr>\n",
       "    <tr>\n",
       "      <th>9318</th>\n",
       "      <td>007: Quantum of Solace</td>\n",
       "      <td>2008.0</td>\n",
       "      <td>Action</td>\n",
       "    </tr>\n",
       "    <tr>\n",
       "      <th>3038</th>\n",
       "      <td>007: Quantum of Solace</td>\n",
       "      <td>2008.0</td>\n",
       "      <td>Action</td>\n",
       "    </tr>\n",
       "    <tr>\n",
       "      <th>...</th>\n",
       "      <td>...</td>\n",
       "      <td>...</td>\n",
       "      <td>...</td>\n",
       "    </tr>\n",
       "    <tr>\n",
       "      <th>4685</th>\n",
       "      <td>pro evolution soccer 2011</td>\n",
       "      <td>2010.0</td>\n",
       "      <td>Sports</td>\n",
       "    </tr>\n",
       "    <tr>\n",
       "      <th>2595</th>\n",
       "      <td>pro evolution soccer 2011</td>\n",
       "      <td>2010.0</td>\n",
       "      <td>Sports</td>\n",
       "    </tr>\n",
       "    <tr>\n",
       "      <th>3303</th>\n",
       "      <td>pro evolution soccer 2011</td>\n",
       "      <td>2010.0</td>\n",
       "      <td>Sports</td>\n",
       "    </tr>\n",
       "    <tr>\n",
       "      <th>7088</th>\n",
       "      <td>pro evolution soccer 2011</td>\n",
       "      <td>2010.0</td>\n",
       "      <td>Sports</td>\n",
       "    </tr>\n",
       "    <tr>\n",
       "      <th>15523</th>\n",
       "      <td>uDraw Studio: Instant Artist</td>\n",
       "      <td>2011.0</td>\n",
       "      <td>Misc</td>\n",
       "    </tr>\n",
       "  </tbody>\n",
       "</table>\n",
       "<p>4234 rows × 3 columns</p>\n",
       "</div>\n",
       "      <button class=\"colab-df-convert\" onclick=\"convertToInteractive('df-f8dfb5e2-2667-4003-8758-90f30fdb093c')\"\n",
       "              title=\"Convert this dataframe to an interactive table.\"\n",
       "              style=\"display:none;\">\n",
       "        \n",
       "  <svg xmlns=\"http://www.w3.org/2000/svg\" height=\"24px\"viewBox=\"0 0 24 24\"\n",
       "       width=\"24px\">\n",
       "    <path d=\"M0 0h24v24H0V0z\" fill=\"none\"/>\n",
       "    <path d=\"M18.56 5.44l.94 2.06.94-2.06 2.06-.94-2.06-.94-.94-2.06-.94 2.06-2.06.94zm-11 1L8.5 8.5l.94-2.06 2.06-.94-2.06-.94L8.5 2.5l-.94 2.06-2.06.94zm10 10l.94 2.06.94-2.06 2.06-.94-2.06-.94-.94-2.06-.94 2.06-2.06.94z\"/><path d=\"M17.41 7.96l-1.37-1.37c-.4-.4-.92-.59-1.43-.59-.52 0-1.04.2-1.43.59L10.3 9.45l-7.72 7.72c-.78.78-.78 2.05 0 2.83L4 21.41c.39.39.9.59 1.41.59.51 0 1.02-.2 1.41-.59l7.78-7.78 2.81-2.81c.8-.78.8-2.07 0-2.86zM5.41 20L4 18.59l7.72-7.72 1.47 1.35L5.41 20z\"/>\n",
       "  </svg>\n",
       "      </button>\n",
       "      \n",
       "  <style>\n",
       "    .colab-df-container {\n",
       "      display:flex;\n",
       "      flex-wrap:wrap;\n",
       "      gap: 12px;\n",
       "    }\n",
       "\n",
       "    .colab-df-convert {\n",
       "      background-color: #E8F0FE;\n",
       "      border: none;\n",
       "      border-radius: 50%;\n",
       "      cursor: pointer;\n",
       "      display: none;\n",
       "      fill: #1967D2;\n",
       "      height: 32px;\n",
       "      padding: 0 0 0 0;\n",
       "      width: 32px;\n",
       "    }\n",
       "\n",
       "    .colab-df-convert:hover {\n",
       "      background-color: #E2EBFA;\n",
       "      box-shadow: 0px 1px 2px rgba(60, 64, 67, 0.3), 0px 1px 3px 1px rgba(60, 64, 67, 0.15);\n",
       "      fill: #174EA6;\n",
       "    }\n",
       "\n",
       "    [theme=dark] .colab-df-convert {\n",
       "      background-color: #3B4455;\n",
       "      fill: #D2E3FC;\n",
       "    }\n",
       "\n",
       "    [theme=dark] .colab-df-convert:hover {\n",
       "      background-color: #434B5C;\n",
       "      box-shadow: 0px 1px 3px 1px rgba(0, 0, 0, 0.15);\n",
       "      filter: drop-shadow(0px 1px 2px rgba(0, 0, 0, 0.3));\n",
       "      fill: #FFFFFF;\n",
       "    }\n",
       "  </style>\n",
       "\n",
       "      <script>\n",
       "        const buttonEl =\n",
       "          document.querySelector('#df-f8dfb5e2-2667-4003-8758-90f30fdb093c button.colab-df-convert');\n",
       "        buttonEl.style.display =\n",
       "          google.colab.kernel.accessAllowed ? 'block' : 'none';\n",
       "\n",
       "        async function convertToInteractive(key) {\n",
       "          const element = document.querySelector('#df-f8dfb5e2-2667-4003-8758-90f30fdb093c');\n",
       "          const dataTable =\n",
       "            await google.colab.kernel.invokeFunction('convertToInteractive',\n",
       "                                                     [key], {});\n",
       "          if (!dataTable) return;\n",
       "\n",
       "          const docLinkHtml = 'Like what you see? Visit the ' +\n",
       "            '<a target=\"_blank\" href=https://colab.research.google.com/notebooks/data_table.ipynb>data table notebook</a>'\n",
       "            + ' to learn more about interactive tables.';\n",
       "          element.innerHTML = '';\n",
       "          dataTable['output_type'] = 'display_data';\n",
       "          await google.colab.output.renderOutput(dataTable, element);\n",
       "          const docLink = document.createElement('div');\n",
       "          docLink.innerHTML = docLinkHtml;\n",
       "          element.appendChild(docLink);\n",
       "        }\n",
       "      </script>\n",
       "    </div>\n",
       "  </div>\n",
       "  "
      ],
      "text/plain": [
       "                               Name    Year   Genre\n",
       "14547        007: Quantum of Solace  2008.0  Action\n",
       "1739         007: Quantum of Solace  2008.0  Action\n",
       "4499         007: Quantum of Solace  2008.0  Action\n",
       "9318         007: Quantum of Solace  2008.0  Action\n",
       "3038         007: Quantum of Solace  2008.0  Action\n",
       "...                             ...     ...     ...\n",
       "4685      pro evolution soccer 2011  2010.0  Sports\n",
       "2595      pro evolution soccer 2011  2010.0  Sports\n",
       "3303      pro evolution soccer 2011  2010.0  Sports\n",
       "7088      pro evolution soccer 2011  2010.0  Sports\n",
       "15523  uDraw Studio: Instant Artist  2011.0    Misc\n",
       "\n",
       "[4234 rows x 3 columns]"
      ]
     },
     "execution_count": 23,
     "metadata": {},
     "output_type": "execute_result"
    }
   ],
   "source": [
    "# Tìm và hiển thị tất cả các hàng bị trùng lặp trong DataFrame trial_duplicate\n",
    "# trial_duplicate.duplicated() trả về một Series boolean với True cho các hàng trùng lặp (không phải hàng đầu tiên)\n",
    "# trial_duplicate[...] lọc DataFrame để chỉ giữ lại các hàng bị trùng lặp\n",
    "# sort_values(by=['Name']) sắp xếp kết quả theo tên trò chơi để dễ dàng quan sát các nhóm trùng lặp\n",
    "# Hàng trùng lặp là những hàng có cùng giá trị \"Name\", \"Year\", và \"Genre\"\n",
    "# Điều này giúp ta xác định các trò chơi trùng lặp hoặc xuất hiện nhiều lần trong dữ liệu\n",
    "trial_duplicate[trial_duplicate.duplicated()].sort_values(by=['Name'])"
   ]
  },
  {
   "cell_type": "code",
   "execution_count": null,
   "metadata": {
    "colab": {
     "base_uri": "https://localhost:8080/"
    },
    "executionInfo": {
     "elapsed": 3,
     "status": "ok",
     "timestamp": 1665407814018,
     "user": {
      "displayName": "Vu Dam",
      "userId": "08349793932940266028"
     },
     "user_tz": -420
    },
    "id": "_vtXeQKiASQ8",
    "outputId": "8ed9cc84-4f3f-4e43-ff19-2a52beac0360"
   },
   "outputs": [
    {
     "data": {
      "text/plain": [
       "(12364, 3)"
      ]
     },
     "execution_count": 24,
     "metadata": {},
     "output_type": "execute_result"
    }
   ],
   "source": [
    "# Loại bỏ các hàng bị trùng lặp trong DataFrame trial_duplicate\n",
    "# trial_duplicate.drop_duplicates() giữ lại bản ghi đầu tiên của mỗi nhóm trùng lặp và loại bỏ các bản ghi trùng sau đó\n",
    "# Bản ghi được coi là trùng lặp nếu có cùng giá trị \"Name\", \"Year\", và \"Genre\"\n",
    "# Kết quả là một DataFrame mới không có bản ghi trùng lặp nào\n",
    "trial_duplicate_no_dup = trial_duplicate.drop_duplicates()\n",
    "\n",
    "# Hiển thị kích thước (shape) của DataFrame sau khi đã loại bỏ các bản ghi trùng lặp\n",
    "# Phương thức shape trả về một tuple (số hàng, số cột) cho biết số lượng bản ghi và đặc trưng còn lại\n",
    "# Bằng cách so sánh với kích thước ban đầu của trial_duplicate, ta có thể biết có bao nhiêu bản ghi trùng đã bị loại bỏ\n",
    "# Thông tin này giúp đánh giá mức độ trùng lặp trong dữ liệu gốc dựa trên các tiêu chí \"Name\", \"Year\", và \"Genre\"\n",
    "trial_duplicate_no_dup.shape"
   ]
  },
  {
   "cell_type": "code",
   "execution_count": null,
   "metadata": {
    "colab": {
     "base_uri": "https://localhost:8080/",
     "height": 129
    },
    "executionInfo": {
     "elapsed": 462,
     "status": "ok",
     "timestamp": 1665067858182,
     "user": {
      "displayName": "Vu Dam",
      "userId": "08349793932940266028"
     },
     "user_tz": -420
    },
    "id": "7M-MKkSETzGr",
    "outputId": "f799a45a-aeeb-4fde-a1c2-709b85a8acc2"
   },
   "outputs": [
    {
     "name": "stdout",
     "output_type": "stream",
     "text": [
      "Duplicate Rows based on Name and Platform and Year:\n"
     ]
    },
    {
     "data": {
      "text/html": [
       "\n",
       "  <div id=\"df-be5b646d-2c37-4b8f-9caa-79f7f1c1047f\">\n",
       "    <div class=\"colab-df-container\">\n",
       "      <div>\n",
       "<style scoped>\n",
       "    .dataframe tbody tr th:only-of-type {\n",
       "        vertical-align: middle;\n",
       "    }\n",
       "\n",
       "    .dataframe tbody tr th {\n",
       "        vertical-align: top;\n",
       "    }\n",
       "\n",
       "    .dataframe thead th {\n",
       "        text-align: right;\n",
       "    }\n",
       "</style>\n",
       "<table border=\"1\" class=\"dataframe\">\n",
       "  <thead>\n",
       "    <tr style=\"text-align: right;\">\n",
       "      <th></th>\n",
       "      <th>Rank</th>\n",
       "      <th>Name</th>\n",
       "      <th>Platform</th>\n",
       "      <th>Year</th>\n",
       "      <th>Genre</th>\n",
       "      <th>Publisher</th>\n",
       "      <th>NA_Sales</th>\n",
       "      <th>EU_Sales</th>\n",
       "      <th>JP_Sales</th>\n",
       "      <th>Other_Sales</th>\n",
       "      <th>Global_Sales</th>\n",
       "    </tr>\n",
       "  </thead>\n",
       "  <tbody>\n",
       "    <tr>\n",
       "      <th>14999</th>\n",
       "      <td>15002</td>\n",
       "      <td>Wii de Asobu: Metroid Prime</td>\n",
       "      <td>Wii</td>\n",
       "      <td>2009.0</td>\n",
       "      <td>Shooter</td>\n",
       "      <td>Nintendo</td>\n",
       "      <td>0.0</td>\n",
       "      <td>0.00</td>\n",
       "      <td>0.02</td>\n",
       "      <td>0.0</td>\n",
       "      <td>0.02</td>\n",
       "    </tr>\n",
       "    <tr>\n",
       "      <th>16127</th>\n",
       "      <td>16130</td>\n",
       "      <td>Madden NFL 13</td>\n",
       "      <td>PS3</td>\n",
       "      <td>2012.0</td>\n",
       "      <td>Sports</td>\n",
       "      <td>Electronic Arts</td>\n",
       "      <td>0.0</td>\n",
       "      <td>0.01</td>\n",
       "      <td>0.00</td>\n",
       "      <td>0.0</td>\n",
       "      <td>0.01</td>\n",
       "    </tr>\n",
       "  </tbody>\n",
       "</table>\n",
       "</div>\n",
       "      <button class=\"colab-df-convert\" onclick=\"convertToInteractive('df-be5b646d-2c37-4b8f-9caa-79f7f1c1047f')\"\n",
       "              title=\"Convert this dataframe to an interactive table.\"\n",
       "              style=\"display:none;\">\n",
       "        \n",
       "  <svg xmlns=\"http://www.w3.org/2000/svg\" height=\"24px\"viewBox=\"0 0 24 24\"\n",
       "       width=\"24px\">\n",
       "    <path d=\"M0 0h24v24H0V0z\" fill=\"none\"/>\n",
       "    <path d=\"M18.56 5.44l.94 2.06.94-2.06 2.06-.94-2.06-.94-.94-2.06-.94 2.06-2.06.94zm-11 1L8.5 8.5l.94-2.06 2.06-.94-2.06-.94L8.5 2.5l-.94 2.06-2.06.94zm10 10l.94 2.06.94-2.06 2.06-.94-2.06-.94-.94-2.06-.94 2.06-2.06.94z\"/><path d=\"M17.41 7.96l-1.37-1.37c-.4-.4-.92-.59-1.43-.59-.52 0-1.04.2-1.43.59L10.3 9.45l-7.72 7.72c-.78.78-.78 2.05 0 2.83L4 21.41c.39.39.9.59 1.41.59.51 0 1.02-.2 1.41-.59l7.78-7.78 2.81-2.81c.8-.78.8-2.07 0-2.86zM5.41 20L4 18.59l7.72-7.72 1.47 1.35L5.41 20z\"/>\n",
       "  </svg>\n",
       "      </button>\n",
       "      \n",
       "  <style>\n",
       "    .colab-df-container {\n",
       "      display:flex;\n",
       "      flex-wrap:wrap;\n",
       "      gap: 12px;\n",
       "    }\n",
       "\n",
       "    .colab-df-convert {\n",
       "      background-color: #E8F0FE;\n",
       "      border: none;\n",
       "      border-radius: 50%;\n",
       "      cursor: pointer;\n",
       "      display: none;\n",
       "      fill: #1967D2;\n",
       "      height: 32px;\n",
       "      padding: 0 0 0 0;\n",
       "      width: 32px;\n",
       "    }\n",
       "\n",
       "    .colab-df-convert:hover {\n",
       "      background-color: #E2EBFA;\n",
       "      box-shadow: 0px 1px 2px rgba(60, 64, 67, 0.3), 0px 1px 3px 1px rgba(60, 64, 67, 0.15);\n",
       "      fill: #174EA6;\n",
       "    }\n",
       "\n",
       "    [theme=dark] .colab-df-convert {\n",
       "      background-color: #3B4455;\n",
       "      fill: #D2E3FC;\n",
       "    }\n",
       "\n",
       "    [theme=dark] .colab-df-convert:hover {\n",
       "      background-color: #434B5C;\n",
       "      box-shadow: 0px 1px 3px 1px rgba(0, 0, 0, 0.15);\n",
       "      filter: drop-shadow(0px 1px 2px rgba(0, 0, 0, 0.3));\n",
       "      fill: #FFFFFF;\n",
       "    }\n",
       "  </style>\n",
       "\n",
       "      <script>\n",
       "        const buttonEl =\n",
       "          document.querySelector('#df-be5b646d-2c37-4b8f-9caa-79f7f1c1047f button.colab-df-convert');\n",
       "        buttonEl.style.display =\n",
       "          google.colab.kernel.accessAllowed ? 'block' : 'none';\n",
       "\n",
       "        async function convertToInteractive(key) {\n",
       "          const element = document.querySelector('#df-be5b646d-2c37-4b8f-9caa-79f7f1c1047f');\n",
       "          const dataTable =\n",
       "            await google.colab.kernel.invokeFunction('convertToInteractive',\n",
       "                                                     [key], {});\n",
       "          if (!dataTable) return;\n",
       "\n",
       "          const docLinkHtml = 'Like what you see? Visit the ' +\n",
       "            '<a target=\"_blank\" href=https://colab.research.google.com/notebooks/data_table.ipynb>data table notebook</a>'\n",
       "            + ' to learn more about interactive tables.';\n",
       "          element.innerHTML = '';\n",
       "          dataTable['output_type'] = 'display_data';\n",
       "          await google.colab.output.renderOutput(dataTable, element);\n",
       "          const docLink = document.createElement('div');\n",
       "          docLink.innerHTML = docLinkHtml;\n",
       "          element.appendChild(docLink);\n",
       "        }\n",
       "      </script>\n",
       "    </div>\n",
       "  </div>\n",
       "  "
      ],
      "text/plain": [
       "        Rank                         Name Platform    Year    Genre  \\\n",
       "14999  15002  Wii de Asobu: Metroid Prime      Wii  2009.0  Shooter   \n",
       "16127  16130                Madden NFL 13      PS3  2012.0   Sports   \n",
       "\n",
       "             Publisher  NA_Sales  EU_Sales  JP_Sales  Other_Sales  \\\n",
       "14999         Nintendo       0.0      0.00      0.02          0.0   \n",
       "16127  Electronic Arts       0.0      0.01      0.00          0.0   \n",
       "\n",
       "       Global_Sales  \n",
       "14999          0.02  \n",
       "16127          0.01  "
      ]
     },
     "execution_count": 15,
     "metadata": {},
     "output_type": "execute_result"
    }
   ],
   "source": [
    "# Hiển thị thông báo về các hàng trùng lặp dựa trên tên, nền tảng và năm phát hành\n",
    "print(\"Các hàng bị trùng lặp dựa trên Name, Platform và Year:\")\n",
    "\n",
    "# Tìm và hiển thị các hàng trùng lặp trong DataFrame df, dựa trên 3 cột: 'Name', 'Platform' và 'Year'\n",
    "# df.duplicated(['Name', 'Platform', \"Year\"]) trả về một Series boolean với giá trị True cho các hàng trùng lặp (không phải hàng đầu tiên)\n",
    "# df[...] lọc DataFrame để chỉ giữ lại các hàng bị trùng lặp theo 3 tiêu chí này\n",
    "# Việc này giúp xác định các trò chơi trùng lặp dựa trên tên, nền tảng và năm phát hành\n",
    "# Đây là một phương pháp chi tiết hơn để tìm các bản ghi trùng lặp so với chỉ kiểm tra tất cả các cột hoặc chỉ cột 'Name'\n",
    "df[df.duplicated(['Name', 'Platform', \"Year\"])]"
   ]
  },
  {
   "cell_type": "markdown",
   "metadata": {
    "id": "YfJVbqVnyL5B"
   },
   "source": [
    "## 8. Deal with Outlier (Xử lý các giá trị ngoại lệ)"
   ]
  },
  {
   "cell_type": "markdown",
   "metadata": {
    "id": "T6vw6JLY0hfd"
   },
   "source": [
    "### 8.1 Detect (Phát hiện)"
   ]
  },
  {
   "cell_type": "code",
   "execution_count": null,
   "metadata": {
    "colab": {
     "base_uri": "https://localhost:8080/",
     "height": 501
    },
    "executionInfo": {
     "elapsed": 658,
     "status": "ok",
     "timestamp": 1665411736465,
     "user": {
      "displayName": "Vu Dam",
      "userId": "08349793932940266028"
     },
     "user_tz": -420
    },
    "id": "Z1XmCb12Rk2a",
    "outputId": "3d83420b-ca5b-4519-b77b-0e7c5ab15f4d"
   },
   "outputs": [
    {
     "data": {
      "text/plain": [
       "<matplotlib.axes._subplots.AxesSubplot at 0x7f5ac0b6e990>"
      ]
     },
     "execution_count": 42,
     "metadata": {},
     "output_type": "execute_result"
    },
    {
     "data": {
      "image/png": "[encoded data removed]",
      "text/plain": [
       "<Figure size 576x576 with 1 Axes>"
      ]
     },
     "metadata": {
      "needs_background": "light"
     },
     "output_type": "display_data"
    }
   ],
   "source": [
    "# Tạo biểu đồ hộp (boxplot) để hiển thị phân phối của cột 'Year'\n",
    "# Biểu đồ này giúp trực quan hóa sự phân bố của năm phát hành các trò chơi\n",
    "# figsize=(8,8): thiết lập kích thước biểu đồ là 8x8 inch để dễ quan sát\n",
    "# Boxplot cho thấy trung vị, tứ phân vị và các giá trị ngoại lai \n",
    "# Từ đó có thể xác định các năm có nhiều trò chơi phát hành nhất và các năm là giá trị ngoại lai\n",
    "df.boxplot(column=['Year'], figsize=(8,8))"
   ]
  },
  {
   "cell_type": "code",
   "execution_count": null,
   "metadata": {
    "colab": {
     "base_uri": "https://localhost:8080/",
     "height": 1000
    },
    "executionInfo": {
     "elapsed": 1942,
     "status": "ok",
     "timestamp": 1665133736672,
     "user": {
      "displayName": "Vu Dam",
      "userId": "08349793932940266028"
     },
     "user_tz": -420
    },
    "id": "L8WbQqKzY_GD",
    "outputId": "e1f4c11d-f818-453c-ecb4-c607231817a0"
   },
   "outputs": [
    {
     "data": {
      "text/plain": [
       "<matplotlib.axes._subplots.AxesSubplot at 0x7f09716d1390>"
      ]
     },
     "execution_count": 12,
     "metadata": {},
     "output_type": "execute_result"
    },
    {
     "data": {
      "image/png": "[encoded data removed]",
      "text/plain": [
       "<Figure size 3600x3600 with 1 Axes>"
      ]
     },
     "metadata": {
      "needs_background": "light"
     },
     "output_type": "display_data"
    }
   ],
   "source": [
    "# Tạo biểu đồ hộp (boxplot) cho các cột doanh số bán hàng ở các khu vực khác nhau\n",
    "# Biểu đồ hộp giúp trực quan hóa phân phối dữ liệu và xác định các giá trị ngoại lai\n",
    "# 'NA_Sales': Doanh số bán tại Bắc Mỹ (tính bằng triệu đơn vị)\n",
    "# 'EU_Sales': Doanh số bán tại châu Âu (tính bằng triệu đơn vị)\n",
    "# 'JP_Sales': Doanh số bán tại Nhật Bản (tính bằng triệu đơn vị)\n",
    "# 'Other_Sales': Doanh số bán tại các khu vực khác (tính bằng triệu đơn vị)\n",
    "# figsize=(50,50): đặt kích thước biểu đồ rất lớn (50x50 inch) để có thể quan sát chi tiết\n",
    "# Từ biểu đồ này, chúng ta có thể:\n",
    "# - So sánh mức độ phân tán doanh số bán ở các khu vực\n",
    "# - Nhận diện các giá trị ngoại lai (outlier) - các điểm nằm ngoài râu của biểu đồ hộp\n",
    "# - Quan sát phân phối doanh số: mức trung vị (đường giữa hộp), tứ phân vị (viền hộp)\n",
    "df_no_dup.boxplot(column=['NA_Sales',\t'EU_Sales',\t'JP_Sales',\t'Other_Sales'], figsize=(50,50))  "
   ]
  },
  {
   "cell_type": "code",
   "execution_count": null,
   "metadata": {
    "colab": {
     "base_uri": "https://localhost:8080/"
    },
    "executionInfo": {
     "elapsed": 368,
     "status": "ok",
     "timestamp": 1665412718212,
     "user": {
      "displayName": "Vu Dam",
      "userId": "08349793932940266028"
     },
     "user_tz": -420
    },
    "id": "ZSZq7ySfuhCR",
    "outputId": "4f3ee2ba-e772-478a-8a93-555711904ad9"
   },
   "outputs": [
    {
     "name": "stdout",
     "output_type": "stream",
     "text": [
      "Then with NA Sales, the range of not outlier values are between 0.0 and 8.266720000000205. Any value outside of these ranges should be considered outliers.\n"
     ]
    }
   ],
   "source": [
    "# Áp dụng quy tắc thực nghiệm (Empirical Rule) để xác định các giá trị ngoại lai\n",
    "# Quy tắc này nói rằng khoảng 99.7% dữ liệu nằm trong phạm vi ±3 độ lệch chuẩn từ giá trị trung bình\n",
    "# Ở đây chúng ta dùng phương pháp phân vị thay vì độ lệch chuẩn\n",
    "\n",
    "# Xác định ngưỡng dưới bằng cách lấy phân vị 0.15% (tương đương với khoảng -3 độ lệch chuẩn)\n",
    "q_low = df_no_dup[\"NA_Sales\"].quantile(0.0015)\n",
    "\n",
    "# Xác định ngưỡng trên bằng cách lấy phân vị 99.85% (tương đương với khoảng +3 độ lệch chuẩn)\n",
    "q_hi  = df_no_dup[\"NA_Sales\"].quantile(0.9985)\n",
    "\n",
    "# In ra thông báo giải thích khoảng giá trị được coi là bình thường và các giá trị ngoài khoảng này là ngoại lai\n",
    "# Đây là cách quan trọng để xác định doanh số bán hàng bất thường tại thị trường Bắc Mỹ\n",
    "print(\"Với doanh số tại Bắc Mỹ, khoảng giá trị không phải là ngoại lệ nằm giữa \" + str(q_low) + \" và \" + str(q_hi) + \". Bất kỳ giá trị nào nằm ngoài các khoảng này nên được xem là giá trị ngoại lệ.\")"
   ]
  },
  {
   "cell_type": "code",
   "execution_count": null,
   "metadata": {
    "colab": {
     "base_uri": "https://localhost:8080/"
    },
    "executionInfo": {
     "elapsed": 4,
     "status": "ok",
     "timestamp": 1665410461066,
     "user": {
      "displayName": "Vu Dam",
      "userId": "08349793932940266028"
     },
     "user_tz": -420
    },
    "id": "G0L8jpteyq6y",
    "outputId": "7aa059b3-7e24-434e-ff71-709a2cf26248"
   },
   "outputs": [
    {
     "name": "stdout",
     "output_type": "stream",
     "text": [
      "Then with NA Sales, the range of not outlier values are between -0.36 and 0.6. Any value outside of these ranges should be considered outliers.\n"
     ]
    }
   ],
   "source": [
    "# Xác định các giá trị ngoại lai bằng phương pháp IQR (Khoảng tứ phân vị)\n",
    "import numpy as np\n",
    "\n",
    "# Tính phân vị thứ nhất (Q1) - 25% giá trị doanh số bán ở Bắc Mỹ nằm dưới giá trị này\n",
    "quartile_1 = np.percentile(df_no_dup[\"NA_Sales\"], 25) \n",
    "# Tính phân vị thứ ba (Q3) - 75% giá trị doanh số bán ở Bắc Mỹ nằm dưới giá trị này\n",
    "quartile_3 = np.percentile(df_no_dup[\"NA_Sales\"], 75)\n",
    "# Tính khoảng tứ phân vị (IQR) = Q3 - Q1, đại diện cho phạm vi của 50% dữ liệu ở giữa\n",
    "interquartile_range = quartile_3 - quartile_1\n",
    "\n",
    "# Tính ngưỡng dưới cho giá trị ngoại lai theo công thức: Q1 - 1.5*IQR\n",
    "# Giá trị nhỏ hơn ngưỡng này được coi là ngoại lai dưới\n",
    "q_low = quartile_1 - 1.5 * interquartile_range\n",
    "# Tính ngưỡng trên cho giá trị ngoại lai theo công thức: Q3 + 1.5*IQR\n",
    "# Giá trị lớn hơn ngưỡng này được coi là ngoại lai trên\n",
    "q_hi = quartile_3 + 1.5 * interquartile_range\n",
    "\n",
    "# In ra thông báo về khoảng giá trị được coi là bình thường (không phải ngoại lai)\n",
    "# và giải thích rằng các giá trị nằm ngoài khoảng này nên được xem là giá trị ngoại lai\n",
    "print(\"Với doanh số tại Bắc Mỹ, khoảng giá trị không phải là ngoại lệ nằm giữa \" + str(q_low) + \" và \" + str(q_hi) + \". Bất kỳ giá trị nào nằm ngoài các khoảng này nên được xem là giá trị ngoại lệ.\")"
   ]
  },
  {
   "cell_type": "markdown",
   "metadata": {
    "id": "ktzNs2XS1JEW"
   },
   "source": [
    "### 8.2 Deal with Outlier (Xử lý giá trị ngoại lệ)"
   ]
  },
  {
   "cell_type": "code",
   "execution_count": null,
   "metadata": {
    "colab": {
     "base_uri": "https://localhost:8080/"
    },
    "executionInfo": {
     "elapsed": 444,
     "status": "ok",
     "timestamp": 1665412844304,
     "user": {
      "displayName": "Vu Dam",
      "userId": "08349793932940266028"
     },
     "user_tz": -420
    },
    "id": "grHBAdcN1HaB",
    "outputId": "608f72a6-815b-4725-e179-e60557012871"
   },
   "outputs": [
    {
     "data": {
      "text/plain": [
       "(16598, 11)"
      ]
     },
     "execution_count": 51,
     "metadata": {},
     "output_type": "execute_result"
    }
   ],
   "source": [
    "# Lọc bỏ giá trị ngoại lai từ DataFrame df_no_dup sử dụng phương pháp IQR\n",
    "# Chỉ giữ lại các bản ghi có doanh số bán tại Bắc Mỹ (NA_Sales) nằm trong khoảng giá trị được chấp nhận\n",
    "# (df_no_dup[\"NA_Sales\"] < q_hi): lọc ra các bản ghi có doanh số bán nhỏ hơn ngưỡng trên\n",
    "# (df_no_dup[\"NA_Sales\"] > q_low): lọc ra các bản ghi có doanh số bán lớn hơn ngưỡng dưới\n",
    "# Kết hợp hai điều kiện này để chỉ giữ lại các bản ghi có doanh số bán nằm trong khoảng hợp lệ\n",
    "df_filtered_stdv = df_no_dup[(df_no_dup[\"NA_Sales\"] < q_hi) & (df_no_dup[\"NA_Sales\"] > q_low)]\n",
    "\n",
    "# Hiển thị kích thước của DataFrame gốc để so sánh với kích thước sau khi lọc\n",
    "# Giúp đánh giá xem có bao nhiêu bản ghi bị loại bỏ do được xác định là giá trị ngoại lai\n",
    "df.shape"
   ]
  },
  {
   "cell_type": "code",
   "execution_count": null,
   "metadata": {
    "colab": {
     "base_uri": "https://localhost:8080/"
    },
    "executionInfo": {
     "elapsed": 1,
     "status": "ok",
     "timestamp": 1665410498857,
     "user": {
      "displayName": "Vu Dam",
      "userId": "08349793932940266028"
     },
     "user_tz": -420
    },
    "id": "m_Uc0IbXtg_5",
    "outputId": "00c847d4-52f4-4048-cf54-a7dd0109c4cd"
   },
   "outputs": [
    {
     "data": {
      "text/plain": [
       "(14887, 11)"
      ]
     },
     "execution_count": 29,
     "metadata": {},
     "output_type": "execute_result"
    }
   ],
   "source": [
    "# Hiển thị kích thước (shape) của DataFrame df_filtered_stdv sau khi đã lọc bỏ các giá trị ngoại lai\n",
    "# Kết quả trả về một tuple (số hàng, số cột) cho biết số lượng bản ghi còn lại sau khi loại bỏ giá trị ngoại lai\n",
    "# So sánh với kích thước ban đầu của df_no_dup (hiển thị ở cell trước) cho phép biết được có bao nhiêu bản ghi\n",
    "# đã bị loại bỏ vì được xác định là giá trị ngoại lai theo phương pháp IQR\n",
    "df_filtered_stdv.shape"
   ]
  },
  {
   "cell_type": "code",
   "execution_count": null,
   "metadata": {
    "colab": {
     "base_uri": "https://localhost:8080/"
    },
    "executionInfo": {
     "elapsed": 1,
     "status": "ok",
     "timestamp": 1665413056454,
     "user": {
      "displayName": "Vu Dam",
      "userId": "08349793932940266028"
     },
     "user_tz": -420
    },
    "id": "DygrD7qQWmV3",
    "outputId": "d4e718d5-8ea2-4efc-a1af-c15c812aa154"
   },
   "outputs": [
    {
     "data": {
      "text/plain": [
       "41.49"
      ]
     },
     "execution_count": 53,
     "metadata": {},
     "output_type": "execute_result"
    }
   ],
   "source": [
    "# Tìm giá trị doanh số bán cao nhất tại thị trường Bắc Mỹ trong DataFrame đã loại bỏ trùng lặp\n",
    "# df_no_dup[\"NA_Sales\"] truy cập vào cột doanh số bán tại Bắc Mỹ\n",
    "# .max() trả về giá trị lớn nhất trong cột này\n",
    "# Kết quả này giúp chúng ta biết được doanh số bán cao nhất đạt được bởi một trò chơi tại thị trường Bắc Mỹ\n",
    "# Thông tin này hữu ích để hiểu phạm vi dữ liệu và xác định các giá trị ngoại lai tiềm năng\n",
    "df_no_dup[\"NA_Sales\"].max()"
   ]
  },
  {
   "cell_type": "code",
   "execution_count": null,
   "metadata": {
    "colab": {
     "base_uri": "https://localhost:8080/"
    },
    "executionInfo": {
     "elapsed": 397,
     "status": "ok",
     "timestamp": 1665413036201,
     "user": {
      "displayName": "Vu Dam",
      "userId": "08349793932940266028"
     },
     "user_tz": -420
    },
    "id": "DNXmNuq0WgIa",
    "outputId": "e6640171-d70d-407d-d850-aedbaf2c7b95"
   },
   "outputs": [
    {
     "data": {
      "text/plain": [
       "8.25"
      ]
     },
     "execution_count": 52,
     "metadata": {},
     "output_type": "execute_result"
    }
   ],
   "source": [
    "# Tìm giá trị lớn nhất (max) của doanh số bán tại Bắc Mỹ (NA_Sales) trong DataFrame đã lọc bỏ giá trị ngoại lai\n",
    "# df_filtered_stdv chứa dữ liệu đã loại bỏ các giá trị ngoại lai theo phương pháp IQR\n",
    "# So sánh giá trị này với df_no_dup[\"NA_Sales\"].max() để thấy sự khác biệt sau khi loại bỏ giá trị ngoại lai\n",
    "# Việc này giúp xác nhận rằng các giá trị ngoại lai đã được loại bỏ thành công, vì giá trị max bây giờ nhỏ hơn trước\n",
    "df_filtered_stdv[\"NA_Sales\"].max()"
   ]
  },
  {
   "cell_type": "code",
   "execution_count": null,
   "metadata": {
    "colab": {
     "base_uri": "https://localhost:8080/"
    },
    "executionInfo": {
     "elapsed": 390,
     "status": "ok",
     "timestamp": 1665413150199,
     "user": {
      "displayName": "Vu Dam",
      "userId": "08349793932940266028"
     },
     "user_tz": -420
    },
    "id": "Am8ECeu847vj",
    "outputId": "74a09fb2-2ea9-4d50-bb2c-e1a48fe07ce3"
   },
   "outputs": [
    {
     "name": "stdout",
     "output_type": "stream",
     "text": [
      "0.31\n"
     ]
    }
   ],
   "source": [
    "# Thay đổi giá trị ngoại lai bằng phương pháp phân vị (Quantile method)\n",
    "# Thay vì loại bỏ các giá trị ngoại lai, chúng ta sẽ thay thế chúng bằng giá trị ngưỡng\n",
    "\n",
    "# Xác định ngưỡng trên bằng cách lấy phân vị thứ 80 của doanh số bán tại Bắc Mỹ\n",
    "# Bất kỳ giá trị nào lớn hơn ngưỡng này sẽ được coi là ngoại lai và sẽ được thay thế\n",
    "q_hi = df_no_dup[\"NA_Sales\"].quantile(0.80)\n",
    "\n",
    "# Hiển thị giá trị ngưỡng trên để có thể kiểm tra\n",
    "# Đây là doanh số mà chỉ có 20% các trò chơi vượt qua được\n",
    "print(q_hi)\n",
    "\n",
    "# Tạo một bản sao của DataFrame df_no_dup để thực hiện các thay đổi mà không ảnh hưởng đến dữ liệu gốc\n",
    "# DataFrame mới này sẽ được sử dụng để thay thế các giá trị ngoại lai thay vì loại bỏ chúng\n",
    "test_change_outlier = df_no_dup"
   ]
  },
  {
   "cell_type": "code",
   "execution_count": null,
   "metadata": {
    "colab": {
     "base_uri": "https://localhost:8080/"
    },
    "executionInfo": {
     "elapsed": 3,
     "status": "ok",
     "timestamp": 1665413209168,
     "user": {
      "displayName": "Vu Dam",
      "userId": "08349793932940266028"
     },
     "user_tz": -420
    },
    "id": "O1kf4EzHQXDZ",
    "outputId": "1ae09605-bfc7-4a51-df86-8db3de5d4944"
   },
   "outputs": [
    {
     "data": {
      "text/plain": [
       "0.31"
      ]
     },
     "execution_count": 55,
     "metadata": {},
     "output_type": "execute_result"
    }
   ],
   "source": [
    "# Thay thế các giá trị ngoại lai trong cột \"NA_Sales\" bằng giá trị ngưỡng q_hi\n",
    "# mask(): phương thức của pandas dùng để thay thế các giá trị thỏa mãn điều kiện\n",
    "# test_change_outlier[\"NA_Sales\"] > q_hi: điều kiện xác định các giá trị ngoại lai (lớn hơn ngưỡng phân vị 80%)\n",
    "# q_hi: giá trị dùng để thay thế các giá trị ngoại lai\n",
    "test_change_outlier[\"NA_Sales\"] = test_change_outlier[\"NA_Sales\"].mask(test_change_outlier[\"NA_Sales\"] > q_hi, q_hi)\n",
    "\n",
    "# Hiển thị giá trị lớn nhất của doanh số bán tại Bắc Mỹ sau khi đã thay thế các giá trị ngoại lai\n",
    "# Kết quả này sẽ bằng chính xác với giá trị q_hi đã thiết lập,\n",
    "# chứng tỏ các giá trị lớn hơn q_hi đã được thay thế thành công\n",
    "test_change_outlier[\"NA_Sales\"].max()\n"
   ]
  },
  {
   "cell_type": "code",
   "execution_count": null,
   "metadata": {
    "colab": {
     "base_uri": "https://localhost:8080/"
    },
    "executionInfo": {
     "elapsed": 5,
     "status": "ok",
     "timestamp": 1665413247221,
     "user": {
      "displayName": "Vu Dam",
      "userId": "08349793932940266028"
     },
     "user_tz": -420
    },
    "id": "1iBhzub6XU6K",
    "outputId": "b8730871-4911-43fc-b96f-899b35ba36a3"
   },
   "outputs": [
    {
     "data": {
      "text/plain": [
       "(16598, 11)"
      ]
     },
     "execution_count": 57,
     "metadata": {},
     "output_type": "execute_result"
    }
   ],
   "source": [
    "# Hiển thị kích thước (shape) của DataFrame df_no_dup sau khi đã loại bỏ các bản ghi trùng lặp\n",
    "# Kết quả trả về là một tuple (số hàng, số cột) cho biết số lượng bản ghi và đặc trưng còn lại\n",
    "# Thông tin này giúp chúng ta đánh giá mức độ dữ liệu bị trùng lặp trong bộ dữ liệu gốc\n",
    "# So sánh với kích thước ban đầu của df sẽ cho thấy có bao nhiêu bản ghi đã bị loại bỏ\n",
    "df_no_dup.shape"
   ]
  },
  {
   "cell_type": "code",
   "execution_count": null,
   "metadata": {
    "colab": {
     "base_uri": "https://localhost:8080/"
    },
    "executionInfo": {
     "elapsed": 2,
     "status": "ok",
     "timestamp": 1665413254132,
     "user": {
      "displayName": "Vu Dam",
      "userId": "08349793932940266028"
     },
     "user_tz": -420
    },
    "id": "3K1NQPstXVAT",
    "outputId": "ff9e416f-c558-4b2e-d31f-862442010e3f"
   },
   "outputs": [
    {
     "data": {
      "text/plain": [
       "(16598, 11)"
      ]
     },
     "execution_count": 58,
     "metadata": {},
     "output_type": "execute_result"
    }
   ],
   "source": [
    "# Hiển thị kích thước (shape) của DataFrame test_change_outlier sau khi đã thay thế các giá trị ngoại lai\n",
    "# Kết quả trả về một tuple (số hàng, số cột) cho biết số lượng bản ghi và đặc trưng trong DataFrame\n",
    "# DataFrame này vẫn giữ nguyên số lượng bản ghi như df_no_dup vì chúng ta đã thay thế các giá trị ngoại lai\n",
    "# thay vì loại bỏ chúng (khác với phương pháp lọc đã sử dụng trong df_filtered_stdv)\n",
    "test_change_outlier.shape"
   ]
  },
  {
   "cell_type": "code",
   "execution_count": null,
   "metadata": {
    "colab": {
     "base_uri": "https://localhost:8080/"
    },
    "executionInfo": {
     "elapsed": 463,
     "status": "ok",
     "timestamp": 1665413214808,
     "user": {
      "displayName": "Vu Dam",
      "userId": "08349793932940266028"
     },
     "user_tz": -420
    },
    "id": "tkc0G7B4P-8f",
    "outputId": "cf9abb95-cba0-42d7-c0a5-a5ab4a4d124b"
   },
   "outputs": [
    {
     "data": {
      "text/plain": [
       "0.31"
      ]
     },
     "execution_count": 56,
     "metadata": {},
     "output_type": "execute_result"
    }
   ],
   "source": [
    "# Hiển thị giá trị doanh số bán cao nhất tại thị trường Bắc Mỹ trong DataFrame df_no_dup\n",
    "# df_no_dup là DataFrame đã loại bỏ các bản ghi trùng lặp\n",
    "# [\"NA_Sales\"] truy cập vào cột chứa dữ liệu về doanh số bán tại Bắc Mỹ (tính bằng triệu đơn vị)\n",
    "# .max() trả về giá trị lớn nhất trong cột này\n",
    "# Kết quả giúp chúng ta biết được mức doanh số bán hàng cao nhất mà một trò chơi đạt được tại thị trường Bắc Mỹ\n",
    "# Đây là thông tin hữu ích để hiểu phạm vi dữ liệu và cũng có thể được sử dụng để so sánh với kết quả sau khi xử lý giá trị ngoại lai\n",
    "df_no_dup[\"NA_Sales\"].max()"
   ]
  },
  {
   "cell_type": "markdown",
   "metadata": {
    "id": "jrgWuZhHHpun"
   },
   "source": [
    "## 11. Univariate Analysis (Phân tích đơn biến)"
   ]
  },
  {
   "cell_type": "markdown",
   "metadata": {
    "id": "DNd8sZ6iH-nn"
   },
   "source": [
    "Trong phần này, chúng ta sẽ tập trung vào Thể loại (Genre) và Doanh số toàn cầu (Global Sales) vì chúng ta chưa đề cập đến hai đặc điểm này.\n",
    "\n",
    "Thể loại (Genre): Biến phân loại\n",
    "Doanh số toàn cầu (Global Sales): Biến số (biến định lượng)"
   ]
  },
  {
   "cell_type": "code",
   "execution_count": null,
   "metadata": {
    "colab": {
     "base_uri": "https://localhost:8080/"
    },
    "executionInfo": {
     "elapsed": 370,
     "status": "ok",
     "timestamp": 1665915272107,
     "user": {
      "displayName": "Vu Dam",
      "userId": "08349793932940266028"
     },
     "user_tz": -420
    },
    "id": "QTfJ4idNSXCc",
    "outputId": "736fbb1d-a451-4013-c461-abb55bb70089"
   },
   "outputs": [
    {
     "data": {
      "text/plain": [
       "count    16598.000000\n",
       "mean         0.537441\n",
       "std          1.555028\n",
       "min          0.010000\n",
       "25%          0.060000\n",
       "50%          0.170000\n",
       "75%          0.470000\n",
       "max         82.740000\n",
       "Name: Global_Sales, dtype: float64"
      ]
     },
     "execution_count": 6,
     "metadata": {},
     "output_type": "execute_result"
    }
   ],
   "source": [
    "# Method 1: Thống kê tổng quan (Summary Statistics)\n",
    "# Phương thức describe() tính toán và hiển thị các thống kê cơ bản của cột Global_Sales:\n",
    "# - count: số lượng giá trị không null\n",
    "# - mean: giá trị trung bình của doanh số toàn cầu\n",
    "# - std: độ lệch chuẩn thể hiện mức độ phân tán của dữ liệu\n",
    "# - min: giá trị doanh số thấp nhất\n",
    "# - 25%: phân vị thứ nhất (Q1), 25% doanh số thấp hơn giá trị này\n",
    "# - 50%: phân vị thứ hai (trung vị), 50% doanh số thấp hơn giá trị này\n",
    "# - 75%: phân vị thứ ba (Q3), 75% doanh số thấp hơn giá trị này\n",
    "# - max: giá trị doanh số cao nhất\n",
    "# Kết quả giúp hiểu được phân phối của doanh số toàn cầu trong bộ dữ liệu\n",
    "\n",
    "df[\"Global_Sales\"].describe()"
   ]
  },
  {
   "cell_type": "code",
   "execution_count": null,
   "metadata": {
    "colab": {
     "base_uri": "https://localhost:8080/",
     "height": 457
    },
    "executionInfo": {
     "elapsed": 390,
     "status": "ok",
     "timestamp": 1665916053016,
     "user": {
      "displayName": "Vu Dam",
      "userId": "08349793932940266028"
     },
     "user_tz": -420
    },
    "id": "eCjmBeYX-l6K",
    "outputId": "47c2f522-8dee-45f9-f965-cd21ef888648"
   },
   "outputs": [
    {
     "data": {
      "text/html": [
       "\n",
       "  <div id=\"df-784028da-f28a-49b5-a111-b03acbea316e\">\n",
       "    <div class=\"colab-df-container\">\n",
       "      <div>\n",
       "<style scoped>\n",
       "    .dataframe tbody tr th:only-of-type {\n",
       "        vertical-align: middle;\n",
       "    }\n",
       "\n",
       "    .dataframe tbody tr th {\n",
       "        vertical-align: top;\n",
       "    }\n",
       "\n",
       "    .dataframe thead th {\n",
       "        text-align: right;\n",
       "    }\n",
       "</style>\n",
       "<table border=\"1\" class=\"dataframe\">\n",
       "  <thead>\n",
       "    <tr style=\"text-align: right;\">\n",
       "      <th></th>\n",
       "      <th>Genre</th>\n",
       "    </tr>\n",
       "    <tr>\n",
       "      <th>Genre</th>\n",
       "      <th></th>\n",
       "    </tr>\n",
       "  </thead>\n",
       "  <tbody>\n",
       "    <tr>\n",
       "      <th>Action</th>\n",
       "      <td>3316</td>\n",
       "    </tr>\n",
       "    <tr>\n",
       "      <th>Adventure</th>\n",
       "      <td>1286</td>\n",
       "    </tr>\n",
       "    <tr>\n",
       "      <th>Fighting</th>\n",
       "      <td>848</td>\n",
       "    </tr>\n",
       "    <tr>\n",
       "      <th>Misc</th>\n",
       "      <td>1739</td>\n",
       "    </tr>\n",
       "    <tr>\n",
       "      <th>Platform</th>\n",
       "      <td>886</td>\n",
       "    </tr>\n",
       "    <tr>\n",
       "      <th>Puzzle</th>\n",
       "      <td>582</td>\n",
       "    </tr>\n",
       "    <tr>\n",
       "      <th>Racing</th>\n",
       "      <td>1249</td>\n",
       "    </tr>\n",
       "    <tr>\n",
       "      <th>Role-Playing</th>\n",
       "      <td>1488</td>\n",
       "    </tr>\n",
       "    <tr>\n",
       "      <th>Shooter</th>\n",
       "      <td>1310</td>\n",
       "    </tr>\n",
       "    <tr>\n",
       "      <th>Simulation</th>\n",
       "      <td>867</td>\n",
       "    </tr>\n",
       "    <tr>\n",
       "      <th>Sports</th>\n",
       "      <td>2346</td>\n",
       "    </tr>\n",
       "    <tr>\n",
       "      <th>Strategy</th>\n",
       "      <td>681</td>\n",
       "    </tr>\n",
       "  </tbody>\n",
       "</table>\n",
       "</div>\n",
       "      <button class=\"colab-df-convert\" onclick=\"convertToInteractive('df-784028da-f28a-49b5-a111-b03acbea316e')\"\n",
       "              title=\"Convert this dataframe to an interactive table.\"\n",
       "              style=\"display:none;\">\n",
       "        \n",
       "  <svg xmlns=\"http://www.w3.org/2000/svg\" height=\"24px\"viewBox=\"0 0 24 24\"\n",
       "       width=\"24px\">\n",
       "    <path d=\"M0 0h24v24H0V0z\" fill=\"none\"/>\n",
       "    <path d=\"M18.56 5.44l.94 2.06.94-2.06 2.06-.94-2.06-.94-.94-2.06-.94 2.06-2.06.94zm-11 1L8.5 8.5l.94-2.06 2.06-.94-2.06-.94L8.5 2.5l-.94 2.06-2.06.94zm10 10l.94 2.06.94-2.06 2.06-.94-2.06-.94-.94-2.06-.94 2.06-2.06.94z\"/><path d=\"M17.41 7.96l-1.37-1.37c-.4-.4-.92-.59-1.43-.59-.52 0-1.04.2-1.43.59L10.3 9.45l-7.72 7.72c-.78.78-.78 2.05 0 2.83L4 21.41c.39.39.9.59 1.41.59.51 0 1.02-.2 1.41-.59l7.78-7.78 2.81-2.81c.8-.78.8-2.07 0-2.86zM5.41 20L4 18.59l7.72-7.72 1.47 1.35L5.41 20z\"/>\n",
       "  </svg>\n",
       "      </button>\n",
       "      \n",
       "  <style>\n",
       "    .colab-df-container {\n",
       "      display:flex;\n",
       "      flex-wrap:wrap;\n",
       "      gap: 12px;\n",
       "    }\n",
       "\n",
       "    .colab-df-convert {\n",
       "      background-color: #E8F0FE;\n",
       "      border: none;\n",
       "      border-radius: 50%;\n",
       "      cursor: pointer;\n",
       "      display: none;\n",
       "      fill: #1967D2;\n",
       "      height: 32px;\n",
       "      padding: 0 0 0 0;\n",
       "      width: 32px;\n",
       "    }\n",
       "\n",
       "    .colab-df-convert:hover {\n",
       "      background-color: #E2EBFA;\n",
       "      box-shadow: 0px 1px 2px rgba(60, 64, 67, 0.3), 0px 1px 3px 1px rgba(60, 64, 67, 0.15);\n",
       "      fill: #174EA6;\n",
       "    }\n",
       "\n",
       "    [theme=dark] .colab-df-convert {\n",
       "      background-color: #3B4455;\n",
       "      fill: #D2E3FC;\n",
       "    }\n",
       "\n",
       "    [theme=dark] .colab-df-convert:hover {\n",
       "      background-color: #434B5C;\n",
       "      box-shadow: 0px 1px 3px 1px rgba(0, 0, 0, 0.15);\n",
       "      filter: drop-shadow(0px 1px 2px rgba(0, 0, 0, 0.3));\n",
       "      fill: #FFFFFF;\n",
       "    }\n",
       "  </style>\n",
       "\n",
       "      <script>\n",
       "        const buttonEl =\n",
       "          document.querySelector('#df-784028da-f28a-49b5-a111-b03acbea316e button.colab-df-convert');\n",
       "        buttonEl.style.display =\n",
       "          google.colab.kernel.accessAllowed ? 'block' : 'none';\n",
       "\n",
       "        async function convertToInteractive(key) {\n",
       "          const element = document.querySelector('#df-784028da-f28a-49b5-a111-b03acbea316e');\n",
       "          const dataTable =\n",
       "            await google.colab.kernel.invokeFunction('convertToInteractive',\n",
       "                                                     [key], {});\n",
       "          if (!dataTable) return;\n",
       "\n",
       "          const docLinkHtml = 'Like what you see? Visit the ' +\n",
       "            '<a target=\"_blank\" href=https://colab.research.google.com/notebooks/data_table.ipynb>data table notebook</a>'\n",
       "            + ' to learn more about interactive tables.';\n",
       "          element.innerHTML = '';\n",
       "          dataTable['output_type'] = 'display_data';\n",
       "          await google.colab.output.renderOutput(dataTable, element);\n",
       "          const docLink = document.createElement('div');\n",
       "          docLink.innerHTML = docLinkHtml;\n",
       "          element.appendChild(docLink);\n",
       "        }\n",
       "      </script>\n",
       "    </div>\n",
       "  </div>\n",
       "  "
      ],
      "text/plain": [
       "              Genre\n",
       "Genre              \n",
       "Action         3316\n",
       "Adventure      1286\n",
       "Fighting        848\n",
       "Misc           1739\n",
       "Platform        886\n",
       "Puzzle          582\n",
       "Racing         1249\n",
       "Role-Playing   1488\n",
       "Shooter        1310\n",
       "Simulation      867\n",
       "Sports         2346\n",
       "Strategy        681"
      ]
     },
     "execution_count": 16,
     "metadata": {},
     "output_type": "execute_result"
    }
   ],
   "source": [
    "# Method 2: Frequency Distribution - Categorical (Phân bố tần số - Biến phân loại)\n",
    "\n",
    "# Nhóm dữ liệu theo cột \"Genre\" và đếm số lượng game trong mỗi thể loại\n",
    "# groupby(\"Genre\"): nhóm các bản ghi có cùng thể loại với nhau\n",
    "# [\"Genre\"].count(): đếm số lượng bản ghi trong mỗi nhóm thể loại\n",
    "frequency_distribution_genre = df.groupby(\"Genre\")[\"Genre\"].count()\n",
    "\n",
    "# Tạo DataFrame mới từ kết quả đếm tần số xuất hiện của từng thể loại\n",
    "# DataFrame này sẽ có cấu trúc với index là tên thể loại và giá trị là số lượng game thuộc thể loại đó\n",
    "data_genre = pd.DataFrame(frequency_distribution_genre)\n",
    "\n",
    "# Hiển thị DataFrame chứa phân phối tần số của các thể loại game\n",
    "# Điều này giúp chúng ta xác định các thể loại game phổ biến nhất trong bộ dữ liệu\n",
    "data_genre"
   ]
  },
  {
   "cell_type": "code",
   "execution_count": null,
   "metadata": {
    "id": "yooEnpptTupV"
   },
   "outputs": [],
   "source": [
    "# Method 2: Phân phối tần số - Biến số (Frequency Distribution - Numerical)\n",
    "\n",
    "def categorise(row):  \n",
    "    # Nếu doanh số toàn cầu nhỏ hơn hoặc bằng 1 triệu đơn vị\n",
    "    if row['Global_Sales'] <= 1:\n",
    "        return 'Nhỏ hơn hoặc bằng 1 triệu'\n",
    "    # Nếu doanh số toàn cầu lớn hơn 1 triệu và nhỏ hơn hoặc bằng 20 triệu đơn vị\n",
    "    elif row['Global_Sales'] > 1 and row['Global_Sales'] <= 20:\n",
    "        return 'Lớn hơn 1 triệu và nhỏ hơn hoặc bằng 20 triệu'\n",
    "    # Nếu doanh số toàn cầu lớn hơn 20 triệu đơn vị\n",
    "    elif row['Global_Sales'] > 20:\n",
    "        return 'Lớn hơn 20 triệu'\n",
    "    # Trường hợp không có dữ liệu doanh số toàn cầu\n",
    "    return 'Không có dữ liệu'\n",
    "\n",
    "# Áp dụng hàm categorise cho mỗi hàng trong DataFrame để phân loại doanh số toàn cầu\n",
    "# axis=1: thực hiện thao tác theo hàng (ngang) thay vì theo cột\n",
    "# Kết quả được lưu vào một cột mới có tên 'Global_Sales_Category'\n",
    "df['Global_Sales_Category'] = df.apply(lambda row: categorise(row), axis=1)"
   ]
  },
  {
   "cell_type": "code",
   "execution_count": null,
   "metadata": {
    "colab": {
     "base_uri": "https://localhost:8080/",
     "height": 175
    },
    "executionInfo": {
     "elapsed": 848,
     "status": "ok",
     "timestamp": 1665917219663,
     "user": {
      "displayName": "Vu Dam",
      "userId": "08349793932940266028"
     },
     "user_tz": -420
    },
    "id": "WBpI5EcwZrYS",
    "outputId": "e67bc3de-bae8-4233-9fb3-73a0e2cf31ea"
   },
   "outputs": [
    {
     "data": {
      "text/html": [
       "\n",
       "  <div id=\"df-0879dced-b0c9-4d88-a7ab-5f0d17bc752c\">\n",
       "    <div class=\"colab-df-container\">\n",
       "      <div>\n",
       "<style scoped>\n",
       "    .dataframe tbody tr th:only-of-type {\n",
       "        vertical-align: middle;\n",
       "    }\n",
       "\n",
       "    .dataframe tbody tr th {\n",
       "        vertical-align: top;\n",
       "    }\n",
       "\n",
       "    .dataframe thead th {\n",
       "        text-align: right;\n",
       "    }\n",
       "</style>\n",
       "<table border=\"1\" class=\"dataframe\">\n",
       "  <thead>\n",
       "    <tr style=\"text-align: right;\">\n",
       "      <th></th>\n",
       "      <th>Global_Sales_Category</th>\n",
       "    </tr>\n",
       "    <tr>\n",
       "      <th>Global_Sales_Category</th>\n",
       "      <th></th>\n",
       "    </tr>\n",
       "  </thead>\n",
       "  <tbody>\n",
       "    <tr>\n",
       "      <th>Less than 1 mil</th>\n",
       "      <td>14544</td>\n",
       "    </tr>\n",
       "    <tr>\n",
       "      <th>More than 1 mil and Less Than 20 mil</th>\n",
       "      <td>2034</td>\n",
       "    </tr>\n",
       "    <tr>\n",
       "      <th>More than 20 mil</th>\n",
       "      <td>20</td>\n",
       "    </tr>\n",
       "  </tbody>\n",
       "</table>\n",
       "</div>\n",
       "      <button class=\"colab-df-convert\" onclick=\"convertToInteractive('df-0879dced-b0c9-4d88-a7ab-5f0d17bc752c')\"\n",
       "              title=\"Convert this dataframe to an interactive table.\"\n",
       "              style=\"display:none;\">\n",
       "        \n",
       "  <svg xmlns=\"http://www.w3.org/2000/svg\" height=\"24px\"viewBox=\"0 0 24 24\"\n",
       "       width=\"24px\">\n",
       "    <path d=\"M0 0h24v24H0V0z\" fill=\"none\"/>\n",
       "    <path d=\"M18.56 5.44l.94 2.06.94-2.06 2.06-.94-2.06-.94-.94-2.06-.94 2.06-2.06.94zm-11 1L8.5 8.5l.94-2.06 2.06-.94-2.06-.94L8.5 2.5l-.94 2.06-2.06.94zm10 10l.94 2.06.94-2.06 2.06-.94-2.06-.94-.94-2.06-.94 2.06-2.06.94z\"/><path d=\"M17.41 7.96l-1.37-1.37c-.4-.4-.92-.59-1.43-.59-.52 0-1.04.2-1.43.59L10.3 9.45l-7.72 7.72c-.78.78-.78 2.05 0 2.83L4 21.41c.39.39.9.59 1.41.59.51 0 1.02-.2 1.41-.59l7.78-7.78 2.81-2.81c.8-.78.8-2.07 0-2.86zM5.41 20L4 18.59l7.72-7.72 1.47 1.35L5.41 20z\"/>\n",
       "  </svg>\n",
       "      </button>\n",
       "      \n",
       "  <style>\n",
       "    .colab-df-container {\n",
       "      display:flex;\n",
       "      flex-wrap:wrap;\n",
       "      gap: 12px;\n",
       "    }\n",
       "\n",
       "    .colab-df-convert {\n",
       "      background-color: #E8F0FE;\n",
       "      border: none;\n",
       "      border-radius: 50%;\n",
       "      cursor: pointer;\n",
       "      display: none;\n",
       "      fill: #1967D2;\n",
       "      height: 32px;\n",
       "      padding: 0 0 0 0;\n",
       "      width: 32px;\n",
       "    }\n",
       "\n",
       "    .colab-df-convert:hover {\n",
       "      background-color: #E2EBFA;\n",
       "      box-shadow: 0px 1px 2px rgba(60, 64, 67, 0.3), 0px 1px 3px 1px rgba(60, 64, 67, 0.15);\n",
       "      fill: #174EA6;\n",
       "    }\n",
       "\n",
       "    [theme=dark] .colab-df-convert {\n",
       "      background-color: #3B4455;\n",
       "      fill: #D2E3FC;\n",
       "    }\n",
       "\n",
       "    [theme=dark] .colab-df-convert:hover {\n",
       "      background-color: #434B5C;\n",
       "      box-shadow: 0px 1px 3px 1px rgba(0, 0, 0, 0.15);\n",
       "      filter: drop-shadow(0px 1px 2px rgba(0, 0, 0, 0.3));\n",
       "      fill: #FFFFFF;\n",
       "    }\n",
       "  </style>\n",
       "\n",
       "      <script>\n",
       "        const buttonEl =\n",
       "          document.querySelector('#df-0879dced-b0c9-4d88-a7ab-5f0d17bc752c button.colab-df-convert');\n",
       "        buttonEl.style.display =\n",
       "          google.colab.kernel.accessAllowed ? 'block' : 'none';\n",
       "\n",
       "        async function convertToInteractive(key) {\n",
       "          const element = document.querySelector('#df-0879dced-b0c9-4d88-a7ab-5f0d17bc752c');\n",
       "          const dataTable =\n",
       "            await google.colab.kernel.invokeFunction('convertToInteractive',\n",
       "                                                     [key], {});\n",
       "          if (!dataTable) return;\n",
       "\n",
       "          const docLinkHtml = 'Like what you see? Visit the ' +\n",
       "            '<a target=\"_blank\" href=https://colab.research.google.com/notebooks/data_table.ipynb>data table notebook</a>'\n",
       "            + ' to learn more about interactive tables.';\n",
       "          element.innerHTML = '';\n",
       "          dataTable['output_type'] = 'display_data';\n",
       "          await google.colab.output.renderOutput(dataTable, element);\n",
       "          const docLink = document.createElement('div');\n",
       "          docLink.innerHTML = docLinkHtml;\n",
       "          element.appendChild(docLink);\n",
       "        }\n",
       "      </script>\n",
       "    </div>\n",
       "  </div>\n",
       "  "
      ],
      "text/plain": [
       "                                      Global_Sales_Category\n",
       "Global_Sales_Category                                      \n",
       "Less than 1 mil                                       14544\n",
       "More than 1 mil and Less Than 20 mil                   2034\n",
       "More than 20 mil                                         20"
      ]
     },
     "execution_count": 19,
     "metadata": {},
     "output_type": "execute_result"
    }
   ],
   "source": [
    "# Nhóm dữ liệu theo cột \"Global_Sales_Category\" và đếm số lượng game trong mỗi nhóm doanh số\n",
    "# groupby(\"Global_Sales_Category\"): nhóm các bản ghi có cùng nhóm doanh số toàn cầu\n",
    "# [\"Global_Sales_Category\"].count(): đếm số lượng bản ghi trong mỗi nhóm doanh số\n",
    "Global_Sales_Category = df.groupby(\"Global_Sales_Category\")[\"Global_Sales_Category\"].count()\n",
    "\n",
    "# Tạo DataFrame mới từ kết quả đếm tần số xuất hiện của từng nhóm doanh số\n",
    "# DataFrame này sẽ có cấu trúc với index là tên nhóm doanh số và giá trị là số lượng game thuộc nhóm đó\n",
    "data_global_sales = pd.DataFrame(Global_Sales_Category)\n",
    "\n",
    "# Hiển thị DataFrame chứa phân phối tần số của các nhóm doanh số toàn cầu\n",
    "# Điều này giúp chúng ta xác định mức phổ biến của các nhóm doanh số trong bộ dữ liệu\n",
    "data_global_sales"
   ]
  },
  {
   "cell_type": "code",
   "execution_count": null,
   "metadata": {
    "colab": {
     "base_uri": "https://localhost:8080/",
     "height": 983
    },
    "executionInfo": {
     "elapsed": 1508,
     "status": "ok",
     "timestamp": 1666170310614,
     "user": {
      "displayName": "Vu Dam",
      "userId": "08349793932940266028"
     },
     "user_tz": -420
    },
    "id": "MVwh8pNcZ1HI",
    "outputId": "5de012e0-f245-4eef-8361-5dbcd3cd4c61"
   },
   "outputs": [
    {
     "data": {
      "image/png": "[encoded data removed]",
      "text/plain": [
       "<Figure size 576x576 with 1 Axes>"
      ]
     },
     "metadata": {
      "needs_background": "light"
     },
     "output_type": "display_data"
    },
    {
     "data": {
      "image/png": "[encoded data removed]",
      "text/plain": [
       "<Figure size 864x576 with 1 Axes>"
      ]
     },
     "metadata": {
      "needs_background": "light"
     },
     "output_type": "display_data"
    }
   ],
   "source": [
    "# Phương pháp 3: Biểu đồ - Phân phối doanh số toàn cầu\n",
    "\n",
    "# Tạo biểu đồ hộp (boxplot) để hiển thị phân phối thống kê của doanh số toàn cầu\n",
    "# figsize=(8,8): thiết lập kích thước biểu đồ là 8x8 inch để dễ quan sát\n",
    "# Biểu đồ hộp sẽ hiển thị: trung vị (đường ngang giữa hộp), tứ phân vị (viền hộp),\n",
    "# các giá trị nằm trong khoảng 1.5*IQR (các đường râu) và các điểm ngoại lai\n",
    "df.boxplot(column=['Global_Sales'], figsize=(8,8))  \n",
    "\n",
    "# Tạo biểu đồ histogram cho cột 'Global_Sales' với 20 khoảng (bins)\n",
    "# grid=False: không hiển thị lưới, figsize=(12,8): kích thước biểu đồ 12x8 inch\n",
    "# color='#86bf91': sử dụng màu xanh lá cây cho các cột trong biểu đồ\n",
    "# Biểu đồ histogram giúp trực quan hóa phân phối tần số của doanh số toàn cầu\n",
    "ax = df.hist(column='Global_Sales', bins=20, grid=False, figsize=(12,8), color='#86bf91')\n",
    "\n",
    "# Lấy đối tượng axes đầu tiên từ mảng trả về bởi hàm hist()\n",
    "# Vì hist() trả về một mảng các đối tượng axes, chúng ta lấy phần tử đầu tiên để tùy chỉnh\n",
    "ax = ax[0]\n",
    "\n",
    "# Vòng lặp qua từng đối tượng trục (axes) trong biểu đồ để tùy chỉnh giao diện\n",
    "for x in ax:\n",
    "\n",
    "    # Loại bỏ viền (despine) - ẩn viền bên phải của biểu đồ để làm cho nó trông gọn gàng hơn\n",
    "    x.spines['right'].set_visible(False)\n",
    "    # Ẩn viền phía trên của biểu đồ để tập trung vào dữ liệu\n",
    "    x.spines['top'].set_visible(False)\n",
    "    # Ẩn viền bên trái của biểu đồ để tạo giao diện tối giản\n",
    "    x.spines['left'].set_visible(False)\n",
    "\n",
    "    # Tắt tất cả các dấu tích (ticks) trên các trục để làm cho biểu đồ trông sạch sẽ hơn\n",
    "    # bottom=\"off\": tắt dấu tích dưới, top=\"off\": tắt dấu tích trên\n",
    "    # labelbottom=\"on\": giữ nhãn dưới để hiển thị các giá trị doanh số\n",
    "    # left=\"off\": tắt dấu tích trái, right=\"off\": tắt dấu tích phải\n",
    "    # labelleft=\"on\": giữ nhãn trái để hiển thị số lượng trò chơi\n",
    "    x.tick_params(axis=\"both\", which=\"both\", bottom=\"off\", top=\"off\", labelbottom=\"on\", left=\"off\", right=\"off\", labelleft=\"on\")\n",
    "\n",
    "    # Vẽ các đường ngang tương ứng với các giá trị trục y để dễ đọc số lượng\n",
    "    # Lấy các giá trị tích trên trục y\n",
    "    vals = x.get_yticks()\n",
    "    # Với mỗi giá trị tích, vẽ một đường ngang đứt nét mờ để người đọc dễ dàng theo dõi\n",
    "    # alpha=0.4: đặt độ mờ cho đường nét, giúp không lấn át dữ liệu chính\n",
    "    # color='#eeeeee': màu xám nhạt cho các đường lưới\n",
    "    # zorder=1: đặt thứ tự hiển thị, đảm bảo các đường lưới nằm dưới các thanh histogram\n",
    "    for tick in vals:\n",
    "        x.axhline(y=tick, linestyle='dashed', alpha=0.4, color='#eeeeee', zorder=1)\n",
    "\n",
    "    # Xóa tiêu đề mặc định của biểu đồ để tạo giao diện tối giản hơn\n",
    "    # Tiêu đề sẽ được thay thế bằng nhãn trục x và y có ý nghĩa hơn\n",
    "    x.set_title(\"\")\n",
    "\n",
    "    # Đặt nhãn cho trục x, mô tả phân phối doanh số toàn cầu\n",
    "    # labelpad=20: khoảng cách giữa trục và nhãn là 20 đơn vị\n",
    "    # weight='bold': in đậm, size=12: kích thước chữ là 12\n",
    "    x.set_xlabel(\"Phân phối doanh số toàn cầu\", labelpad=20, weight='bold', size=12)\n",
    "\n",
    "    # Đặt nhãn cho trục y, mô tả số lượng trò chơi trong mỗi khoảng doanh số\n",
    "    # labelpad=20: khoảng cách giữa trục và nhãn là 20 đơn vị\n",
    "    # weight='bold': in đậm, size=12: kích thước chữ là 12\n",
    "    x.set_ylabel(\"Số lượng trò chơi\", labelpad=20, weight='bold', size=12)"
   ]
  },
  {
   "cell_type": "code",
   "execution_count": null,
   "metadata": {
    "colab": {
     "base_uri": "https://localhost:8080/",
     "height": 660
    },
    "executionInfo": {
     "elapsed": 726,
     "status": "ok",
     "timestamp": 1665918184260,
     "user": {
      "displayName": "Vu Dam",
      "userId": "08349793932940266028"
     },
     "user_tz": -420
    },
    "id": "9Vo_QfC7dZFl",
    "outputId": "42bfd2fd-1b0e-4737-a412-705b18213e89"
   },
   "outputs": [
    {
     "data": {
      "text/plain": [
       "<matplotlib.axes._subplots.AxesSubplot at 0x7f6c9672a090>"
      ]
     },
     "execution_count": 27,
     "metadata": {},
     "output_type": "execute_result"
    },
    {
     "data": {
      "image/png": "[encoded data removed]",
      "text/plain": [
       "<Figure size 720x720 with 1 Axes>"
      ]
     },
     "metadata": {
      "needs_background": "light"
     },
     "output_type": "display_data"
    }
   ],
   "source": [
    "# Tạo biểu đồ cột hiển thị số lượng trò chơi theo từng thể loại (Genre)\n",
    "# df['Genre'].value_counts(): đếm số lượng trò chơi trong mỗi thể loại và sắp xếp theo thứ tự giảm dần\n",
    "# plot(kind='bar'): vẽ biểu đồ cột dựa trên kết quả đếm\n",
    "# figsize = (10,10): đặt kích thước biểu đồ là 10x10 inch để dễ quan sát\n",
    "# Biểu đồ này giúp trực quan hóa phân bố các thể loại game phổ biến nhất trong bộ dữ liệu\n",
    "df['Genre'].value_counts().plot(kind='bar', figsize = (10,10))"
   ]
  },
  {
   "cell_type": "code",
   "execution_count": null,
   "metadata": {
    "colab": {
     "base_uri": "https://localhost:8080/",
     "height": 786
    },
    "executionInfo": {
     "elapsed": 553,
     "status": "ok",
     "timestamp": 1665918642170,
     "user": {
      "displayName": "Vu Dam",
      "userId": "08349793932940266028"
     },
     "user_tz": -420
    },
    "id": "rKWx2EZRbcXj",
    "outputId": "af4b38f1-c199-4824-bd7c-2d9c48781318"
   },
   "outputs": [
    {
     "data": {
      "text/plain": [
       "<matplotlib.axes._subplots.AxesSubplot at 0x7f6c39c90d90>"
      ]
     },
     "execution_count": 28,
     "metadata": {},
     "output_type": "execute_result"
    },
    {
     "data": {
      "image/png": "[encoded data removed]",
      "text/plain": [
       "<Figure size 720x720 with 1 Axes>"
      ]
     },
     "metadata": {
      "needs_background": "light"
     },
     "output_type": "display_data"
    }
   ],
   "source": [
    "# Tạo biểu đồ cột hiển thị số lượng trò chơi theo các nhóm doanh số toàn cầu\n",
    "# df['Global_Sales_Category'].value_counts(): đếm số lượng trò chơi trong mỗi nhóm doanh số và sắp xếp theo thứ tự giảm dần\n",
    "# plot(kind='bar'): vẽ biểu đồ dạng cột từ dữ liệu đếm được\n",
    "# figsize = (10,10): đặt kích thước biểu đồ là 10x10 inch để dễ nhìn\n",
    "# Biểu đồ này giúp trực quan hóa sự phân bố của các trò chơi theo các nhóm doanh số khác nhau,\n",
    "# cho phép đánh giá nhanh các phân khúc doanh số phổ biến nhất trong bộ dữ liệu\n",
    "df['Global_Sales_Category'].value_counts().plot(kind='bar', figsize = (10,10 ))"
   ]
  },
  {
   "cell_type": "markdown",
   "metadata": {
    "id": "wHgjBIcuuC1z"
   },
   "source": [
    "## 12. Bivariate Analysis (Phân tích hai biến)"
   ]
  },
  {
   "cell_type": "markdown",
   "metadata": {
    "id": "jJe0VUtOwWzX"
   },
   "source": [
    "For the example, we will see if there is any correlation between NA_Sales and EU_Sales"
   ]
  },
  {
   "cell_type": "markdown",
   "metadata": {
    "id": "fIoRQkB0xbjO"
   },
   "source": [
    "**Các trường dữ liệu: (Được cung cấp)**\n",
    "\n",
    "Name – Tên của trò chơi\n",
    "\n",
    "Platform – Nền tảng phát hành trò chơi (ví dụ: PC, PS4, v.v.)\n",
    "\n",
    "Year – Năm phát hành trò chơi\n",
    "\n",
    "Genre – Thể loại của trò chơi\n",
    "\n",
    "Publisher – Nhà phát hành trò chơi\n",
    "\n",
    "NA_Sales – Doanh số tại Bắc Mỹ (tính bằng triệu đơn vị)\n",
    "\n",
    "EU_Sales – Doanh số tại châu Âu (tính bằng triệu đơn vị)\n",
    "\n",
    "JP_Sales – Doanh số tại Nhật Bản (tính bằng triệu đơn vị)\n",
    "\n",
    "Other_Sales – Doanh số tại các khu vực khác trên thế giới (tính bằng triệu đơn vị)\n",
    "\n",
    "Global_Sales – Tổng doanh số toàn cầu."
   ]
  },
  {
   "cell_type": "code",
   "execution_count": null,
   "metadata": {
    "colab": {
     "base_uri": "https://localhost:8080/",
     "height": 281
    },
    "executionInfo": {
     "elapsed": 1251,
     "status": "ok",
     "timestamp": 1666193800200,
     "user": {
      "displayName": "Vu Dam",
      "userId": "08349793932940266028"
     },
     "user_tz": -420
    },
    "id": "qHfueyliwV__",
    "outputId": "e0c5d188-1e63-4a1b-c58b-15e6851bf20d"
   },
   "outputs": [
    {
     "data": {
      "image/png": "[encoded data removed]",
      "text/plain": [
       "<Figure size 432x288 with 1 Axes>"
      ]
     },
     "metadata": {
      "needs_background": "light"
     },
     "output_type": "display_data"
    }
   ],
   "source": [
    "# Chúng ta nhận thấy khó có thể nhìn ra xu hướng nào vì hầu hết các giá trị trong cả hai đặc trưng đều nằm trong khoảng 0-1.\n",
    "\n",
    "# Tạo biểu đồ phân tán (scatter plot) để thể hiện mối quan hệ giữa doanh số bán ở Bắc Mỹ và châu Âu\n",
    "# df.plot.scatter(): phương thức tạo biểu đồ phân tán từ DataFrame\n",
    "# x='NA_Sales': đặt doanh số bán ở Bắc Mỹ làm trục hoành (x)\n",
    "# y='EU_Sales': đặt doanh số bán ở châu Âu làm trục tung (y)\n",
    "# c='DarkBlue': đặt màu xanh đậm cho các điểm dữ liệu trong biểu đồ\n",
    "scatter_plot = df.plot.scatter(x='NA_Sales',\n",
    "                                y='EU_Sales',\n",
    "                                c='DarkBlue'\n",
    "                              )"
   ]
  },
  {
   "cell_type": "code",
   "execution_count": null,
   "metadata": {
    "colab": {
     "base_uri": "https://localhost:8080/"
    },
    "executionInfo": {
     "elapsed": 5,
     "status": "ok",
     "timestamp": 1666192220372,
     "user": {
      "displayName": "Vu Dam",
      "userId": "08349793932940266028"
     },
     "user_tz": -420
    },
    "id": "jegtzaH1y0nm",
    "outputId": "b144a6cb-a2eb-4a71-df2d-37701bb955b8"
   },
   "outputs": [
    {
     "data": {
      "text/plain": [
       "0.7677267483702631"
      ]
     },
     "execution_count": 12,
     "metadata": {},
     "output_type": "execute_result"
    }
   ],
   "source": [
    "# Tính hệ số tương quan Pearson giữa doanh số bán ở Bắc Mỹ (NA_Sales) và doanh số bán ở châu Âu (EU_Sales)\n",
    "# Hệ số này cho biết mức độ tương quan tuyến tính giữa hai biến số\n",
    "# Giá trị trả về nằm trong khoảng từ -1 đến 1:\n",
    "#   - Gần 1: tương quan dương mạnh (khi NA_Sales tăng thì EU_Sales cũng tăng)\n",
    "#   - Gần 0: ít hoặc không có tương quan\n",
    "#   - Gần -1: tương quan âm mạnh (khi NA_Sales tăng thì EU_Sales giảm)\n",
    "# Kết quả này giúp đánh giá liệu doanh số bán ở hai khu vực có xu hướng biến đổi cùng nhau hay không\n",
    "df['NA_Sales'].corr(df['EU_Sales'])"
   ]
  },
  {
   "cell_type": "code",
   "execution_count": null,
   "metadata": {
    "colab": {
     "base_uri": "https://localhost:8080/",
     "height": 206
    },
    "executionInfo": {
     "elapsed": 9,
     "status": "ok",
     "timestamp": 1666194160083,
     "user": {
      "displayName": "Vu Dam",
      "userId": "08349793932940266028"
     },
     "user_tz": -420
    },
    "id": "EOmNuMj30BtJ",
    "outputId": "6a61204a-bb90-451e-df77-86eb8f5ba422"
   },
   "outputs": [
    {
     "data": {
      "text/html": [
       "\n",
       "  <div id=\"df-6fb65569-feb6-45bd-805a-198c2b5ce9ab\">\n",
       "    <div class=\"colab-df-container\">\n",
       "      <div>\n",
       "<style scoped>\n",
       "    .dataframe tbody tr th:only-of-type {\n",
       "        vertical-align: middle;\n",
       "    }\n",
       "\n",
       "    .dataframe tbody tr th {\n",
       "        vertical-align: top;\n",
       "    }\n",
       "\n",
       "    .dataframe thead th {\n",
       "        text-align: right;\n",
       "    }\n",
       "</style>\n",
       "<table border=\"1\" class=\"dataframe\">\n",
       "  <thead>\n",
       "    <tr style=\"text-align: right;\">\n",
       "      <th></th>\n",
       "      <th>NA_Sales</th>\n",
       "      <th>EU_Sales</th>\n",
       "      <th>JP_Sales</th>\n",
       "      <th>Other_Sales</th>\n",
       "      <th>Global_Sales</th>\n",
       "    </tr>\n",
       "  </thead>\n",
       "  <tbody>\n",
       "    <tr>\n",
       "      <th>NA_Sales</th>\n",
       "      <td>1.000000</td>\n",
       "      <td>0.767727</td>\n",
       "      <td>0.449787</td>\n",
       "      <td>0.634737</td>\n",
       "      <td>0.941047</td>\n",
       "    </tr>\n",
       "    <tr>\n",
       "      <th>EU_Sales</th>\n",
       "      <td>0.767727</td>\n",
       "      <td>1.000000</td>\n",
       "      <td>0.435584</td>\n",
       "      <td>0.726385</td>\n",
       "      <td>0.902836</td>\n",
       "    </tr>\n",
       "    <tr>\n",
       "      <th>JP_Sales</th>\n",
       "      <td>0.449787</td>\n",
       "      <td>0.435584</td>\n",
       "      <td>1.000000</td>\n",
       "      <td>0.290186</td>\n",
       "      <td>0.611816</td>\n",
       "    </tr>\n",
       "    <tr>\n",
       "      <th>Other_Sales</th>\n",
       "      <td>0.634737</td>\n",
       "      <td>0.726385</td>\n",
       "      <td>0.290186</td>\n",
       "      <td>1.000000</td>\n",
       "      <td>0.748331</td>\n",
       "    </tr>\n",
       "    <tr>\n",
       "      <th>Global_Sales</th>\n",
       "      <td>0.941047</td>\n",
       "      <td>0.902836</td>\n",
       "      <td>0.611816</td>\n",
       "      <td>0.748331</td>\n",
       "      <td>1.000000</td>\n",
       "    </tr>\n",
       "  </tbody>\n",
       "</table>\n",
       "</div>\n",
       "      <button class=\"colab-df-convert\" onclick=\"convertToInteractive('df-6fb65569-feb6-45bd-805a-198c2b5ce9ab')\"\n",
       "              title=\"Convert this dataframe to an interactive table.\"\n",
       "              style=\"display:none;\">\n",
       "        \n",
       "  <svg xmlns=\"http://www.w3.org/2000/svg\" height=\"24px\"viewBox=\"0 0 24 24\"\n",
       "       width=\"24px\">\n",
       "    <path d=\"M0 0h24v24H0V0z\" fill=\"none\"/>\n",
       "    <path d=\"M18.56 5.44l.94 2.06.94-2.06 2.06-.94-2.06-.94-.94-2.06-.94 2.06-2.06.94zm-11 1L8.5 8.5l.94-2.06 2.06-.94-2.06-.94L8.5 2.5l-.94 2.06-2.06.94zm10 10l.94 2.06.94-2.06 2.06-.94-2.06-.94-.94-2.06-.94 2.06-2.06.94z\"/><path d=\"M17.41 7.96l-1.37-1.37c-.4-.4-.92-.59-1.43-.59-.52 0-1.04.2-1.43.59L10.3 9.45l-7.72 7.72c-.78.78-.78 2.05 0 2.83L4 21.41c.39.39.9.59 1.41.59.51 0 1.02-.2 1.41-.59l7.78-7.78 2.81-2.81c.8-.78.8-2.07 0-2.86zM5.41 20L4 18.59l7.72-7.72 1.47 1.35L5.41 20z\"/>\n",
       "  </svg>\n",
       "      </button>\n",
       "      \n",
       "  <style>\n",
       "    .colab-df-container {\n",
       "      display:flex;\n",
       "      flex-wrap:wrap;\n",
       "      gap: 12px;\n",
       "    }\n",
       "\n",
       "    .colab-df-convert {\n",
       "      background-color: #E8F0FE;\n",
       "      border: none;\n",
       "      border-radius: 50%;\n",
       "      cursor: pointer;\n",
       "      display: none;\n",
       "      fill: #1967D2;\n",
       "      height: 32px;\n",
       "      padding: 0 0 0 0;\n",
       "      width: 32px;\n",
       "    }\n",
       "\n",
       "    .colab-df-convert:hover {\n",
       "      background-color: #E2EBFA;\n",
       "      box-shadow: 0px 1px 2px rgba(60, 64, 67, 0.3), 0px 1px 3px 1px rgba(60, 64, 67, 0.15);\n",
       "      fill: #174EA6;\n",
       "    }\n",
       "\n",
       "    [theme=dark] .colab-df-convert {\n",
       "      background-color: #3B4455;\n",
       "      fill: #D2E3FC;\n",
       "    }\n",
       "\n",
       "    [theme=dark] .colab-df-convert:hover {\n",
       "      background-color: #434B5C;\n",
       "      box-shadow: 0px 1px 3px 1px rgba(0, 0, 0, 0.15);\n",
       "      filter: drop-shadow(0px 1px 2px rgba(0, 0, 0, 0.3));\n",
       "      fill: #FFFFFF;\n",
       "    }\n",
       "  </style>\n",
       "\n",
       "      <script>\n",
       "        const buttonEl =\n",
       "          document.querySelector('#df-6fb65569-feb6-45bd-805a-198c2b5ce9ab button.colab-df-convert');\n",
       "        buttonEl.style.display =\n",
       "          google.colab.kernel.accessAllowed ? 'block' : 'none';\n",
       "\n",
       "        async function convertToInteractive(key) {\n",
       "          const element = document.querySelector('#df-6fb65569-feb6-45bd-805a-198c2b5ce9ab');\n",
       "          const dataTable =\n",
       "            await google.colab.kernel.invokeFunction('convertToInteractive',\n",
       "                                                     [key], {});\n",
       "          if (!dataTable) return;\n",
       "\n",
       "          const docLinkHtml = 'Like what you see? Visit the ' +\n",
       "            '<a target=\"_blank\" href=https://colab.research.google.com/notebooks/data_table.ipynb>data table notebook</a>'\n",
       "            + ' to learn more about interactive tables.';\n",
       "          element.innerHTML = '';\n",
       "          dataTable['output_type'] = 'display_data';\n",
       "          await google.colab.output.renderOutput(dataTable, element);\n",
       "          const docLink = document.createElement('div');\n",
       "          docLink.innerHTML = docLinkHtml;\n",
       "          element.appendChild(docLink);\n",
       "        }\n",
       "      </script>\n",
       "    </div>\n",
       "  </div>\n",
       "  "
      ],
      "text/plain": [
       "              NA_Sales  EU_Sales  JP_Sales  Other_Sales  Global_Sales\n",
       "NA_Sales      1.000000  0.767727  0.449787     0.634737      0.941047\n",
       "EU_Sales      0.767727  1.000000  0.435584     0.726385      0.902836\n",
       "JP_Sales      0.449787  0.435584  1.000000     0.290186      0.611816\n",
       "Other_Sales   0.634737  0.726385  0.290186     1.000000      0.748331\n",
       "Global_Sales  0.941047  0.902836  0.611816     0.748331      1.000000"
      ]
     },
     "execution_count": 21,
     "metadata": {},
     "output_type": "execute_result"
    }
   ],
   "source": [
    "# Tạo một DataFrame con chỉ chứa các cột doanh số bán hàng để phân tích tương quan\n",
    "# Các cột được chọn bao gồm:\n",
    "# - NA_Sales: doanh số bán tại Bắc Mỹ (tính bằng triệu đơn vị)\n",
    "# - EU_Sales: doanh số bán tại châu Âu (tính bằng triệu đơn vị)\n",
    "# - JP_Sales: doanh số bán tại Nhật Bản (tính bằng triệu đơn vị)\n",
    "# - Other_Sales: doanh số bán tại các khu vực khác (tính bằng triệu đơn vị)\n",
    "# - Global_Sales: tổng doanh số bán toàn cầu (tính bằng triệu đơn vị)\n",
    "correlation_data = df[['NA_Sales','EU_Sales',\t'JP_Sales',\t'Other_Sales', \"Global_Sales\"]]\n",
    "\n",
    "# Tính ma trận tương quan giữa tất cả các cặp biến doanh số\n",
    "# Phương thức corr() tính hệ số tương quan Pearson giữa các cột trong DataFrame\n",
    "# Kết quả trả về là một ma trận vuông với giá trị từ -1 đến 1:\n",
    "# - Gần 1: tương quan dương mạnh (hai biến cùng tăng/giảm)\n",
    "# - Gần 0: ít hoặc không có tương quan\n",
    "# - Gần -1: tương quan âm mạnh (một biến tăng, biến kia giảm)\n",
    "# Ma trận này giúp đánh giá mối quan hệ giữa doanh số bán hàng ở các khu vực khác nhau\n",
    "correlation_data.corr()"
   ]
  },
  {
   "cell_type": "code",
   "execution_count": null,
   "metadata": {
    "colab": {
     "base_uri": "https://localhost:8080/",
     "height": 238
    },
    "executionInfo": {
     "elapsed": 3,
     "status": "ok",
     "timestamp": 1666192714911,
     "user": {
      "displayName": "Vu Dam",
      "userId": "08349793932940266028"
     },
     "user_tz": -420
    },
    "id": "foOqfYVVwMas",
    "outputId": "92a6ee74-253d-4896-b918-5e2f199965b3"
   },
   "outputs": [
    {
     "data": {
      "text/html": [
       "\n",
       "  <div id=\"df-28e30293-ec3b-479a-8474-f00fc9ea1607\">\n",
       "    <div class=\"colab-df-container\">\n",
       "      <div>\n",
       "<style scoped>\n",
       "    .dataframe tbody tr th:only-of-type {\n",
       "        vertical-align: middle;\n",
       "    }\n",
       "\n",
       "    .dataframe tbody tr th {\n",
       "        vertical-align: top;\n",
       "    }\n",
       "\n",
       "    .dataframe thead th {\n",
       "        text-align: right;\n",
       "    }\n",
       "</style>\n",
       "<table border=\"1\" class=\"dataframe\">\n",
       "  <thead>\n",
       "    <tr style=\"text-align: right;\">\n",
       "      <th></th>\n",
       "      <th>Year</th>\n",
       "      <th>NA_Sales</th>\n",
       "      <th>EU_Sales</th>\n",
       "      <th>JP_Sales</th>\n",
       "      <th>Other_Sales</th>\n",
       "      <th>Global_Sales</th>\n",
       "    </tr>\n",
       "  </thead>\n",
       "  <tbody>\n",
       "    <tr>\n",
       "      <th>Year</th>\n",
       "      <td>1.000000</td>\n",
       "      <td>-0.091402</td>\n",
       "      <td>0.006014</td>\n",
       "      <td>-0.169316</td>\n",
       "      <td>0.041058</td>\n",
       "      <td>-0.074735</td>\n",
       "    </tr>\n",
       "    <tr>\n",
       "      <th>NA_Sales</th>\n",
       "      <td>-0.091402</td>\n",
       "      <td>1.000000</td>\n",
       "      <td>0.767727</td>\n",
       "      <td>0.449787</td>\n",
       "      <td>0.634737</td>\n",
       "      <td>0.941047</td>\n",
       "    </tr>\n",
       "    <tr>\n",
       "      <th>EU_Sales</th>\n",
       "      <td>0.006014</td>\n",
       "      <td>0.767727</td>\n",
       "      <td>1.000000</td>\n",
       "      <td>0.435584</td>\n",
       "      <td>0.726385</td>\n",
       "      <td>0.902836</td>\n",
       "    </tr>\n",
       "    <tr>\n",
       "      <th>JP_Sales</th>\n",
       "      <td>-0.169316</td>\n",
       "      <td>0.449787</td>\n",
       "      <td>0.435584</td>\n",
       "      <td>1.000000</td>\n",
       "      <td>0.290186</td>\n",
       "      <td>0.611816</td>\n",
       "    </tr>\n",
       "    <tr>\n",
       "      <th>Other_Sales</th>\n",
       "      <td>0.041058</td>\n",
       "      <td>0.634737</td>\n",
       "      <td>0.726385</td>\n",
       "      <td>0.290186</td>\n",
       "      <td>1.000000</td>\n",
       "      <td>0.748331</td>\n",
       "    </tr>\n",
       "    <tr>\n",
       "      <th>Global_Sales</th>\n",
       "      <td>-0.074735</td>\n",
       "      <td>0.941047</td>\n",
       "      <td>0.902836</td>\n",
       "      <td>0.611816</td>\n",
       "      <td>0.748331</td>\n",
       "      <td>1.000000</td>\n",
       "    </tr>\n",
       "  </tbody>\n",
       "</table>\n",
       "</div>\n",
       "      <button class=\"colab-df-convert\" onclick=\"convertToInteractive('df-28e30293-ec3b-479a-8474-f00fc9ea1607')\"\n",
       "              title=\"Convert this dataframe to an interactive table.\"\n",
       "              style=\"display:none;\">\n",
       "        \n",
       "  <svg xmlns=\"http://www.w3.org/2000/svg\" height=\"24px\"viewBox=\"0 0 24 24\"\n",
       "       width=\"24px\">\n",
       "    <path d=\"M0 0h24v24H0V0z\" fill=\"none\"/>\n",
       "    <path d=\"M18.56 5.44l.94 2.06.94-2.06 2.06-.94-2.06-.94-.94-2.06-.94 2.06-2.06.94zm-11 1L8.5 8.5l.94-2.06 2.06-.94-2.06-.94L8.5 2.5l-.94 2.06-2.06.94zm10 10l.94 2.06.94-2.06 2.06-.94-2.06-.94-.94-2.06-.94 2.06-2.06.94z\"/><path d=\"M17.41 7.96l-1.37-1.37c-.4-.4-.92-.59-1.43-.59-.52 0-1.04.2-1.43.59L10.3 9.45l-7.72 7.72c-.78.78-.78 2.05 0 2.83L4 21.41c.39.39.9.59 1.41.59.51 0 1.02-.2 1.41-.59l7.78-7.78 2.81-2.81c.8-.78.8-2.07 0-2.86zM5.41 20L4 18.59l7.72-7.72 1.47 1.35L5.41 20z\"/>\n",
       "  </svg>\n",
       "      </button>\n",
       "      \n",
       "  <style>\n",
       "    .colab-df-container {\n",
       "      display:flex;\n",
       "      flex-wrap:wrap;\n",
       "      gap: 12px;\n",
       "    }\n",
       "\n",
       "    .colab-df-convert {\n",
       "      background-color: #E8F0FE;\n",
       "      border: none;\n",
       "      border-radius: 50%;\n",
       "      cursor: pointer;\n",
       "      display: none;\n",
       "      fill: #1967D2;\n",
       "      height: 32px;\n",
       "      padding: 0 0 0 0;\n",
       "      width: 32px;\n",
       "    }\n",
       "\n",
       "    .colab-df-convert:hover {\n",
       "      background-color: #E2EBFA;\n",
       "      box-shadow: 0px 1px 2px rgba(60, 64, 67, 0.3), 0px 1px 3px 1px rgba(60, 64, 67, 0.15);\n",
       "      fill: #174EA6;\n",
       "    }\n",
       "\n",
       "    [theme=dark] .colab-df-convert {\n",
       "      background-color: #3B4455;\n",
       "      fill: #D2E3FC;\n",
       "    }\n",
       "\n",
       "    [theme=dark] .colab-df-convert:hover {\n",
       "      background-color: #434B5C;\n",
       "      box-shadow: 0px 1px 3px 1px rgba(0, 0, 0, 0.15);\n",
       "      filter: drop-shadow(0px 1px 2px rgba(0, 0, 0, 0.3));\n",
       "      fill: #FFFFFF;\n",
       "    }\n",
       "  </style>\n",
       "\n",
       "      <script>\n",
       "        const buttonEl =\n",
       "          document.querySelector('#df-28e30293-ec3b-479a-8474-f00fc9ea1607 button.colab-df-convert');\n",
       "        buttonEl.style.display =\n",
       "          google.colab.kernel.accessAllowed ? 'block' : 'none';\n",
       "\n",
       "        async function convertToInteractive(key) {\n",
       "          const element = document.querySelector('#df-28e30293-ec3b-479a-8474-f00fc9ea1607');\n",
       "          const dataTable =\n",
       "            await google.colab.kernel.invokeFunction('convertToInteractive',\n",
       "                                                     [key], {});\n",
       "          if (!dataTable) return;\n",
       "\n",
       "          const docLinkHtml = 'Like what you see? Visit the ' +\n",
       "            '<a target=\"_blank\" href=https://colab.research.google.com/notebooks/data_table.ipynb>data table notebook</a>'\n",
       "            + ' to learn more about interactive tables.';\n",
       "          element.innerHTML = '';\n",
       "          dataTable['output_type'] = 'display_data';\n",
       "          await google.colab.output.renderOutput(dataTable, element);\n",
       "          const docLink = document.createElement('div');\n",
       "          docLink.innerHTML = docLinkHtml;\n",
       "          element.appendChild(docLink);\n",
       "        }\n",
       "      </script>\n",
       "    </div>\n",
       "  </div>\n",
       "  "
      ],
      "text/plain": [
       "                  Year  NA_Sales  EU_Sales  JP_Sales  Other_Sales  \\\n",
       "Year          1.000000 -0.091402  0.006014 -0.169316     0.041058   \n",
       "NA_Sales     -0.091402  1.000000  0.767727  0.449787     0.634737   \n",
       "EU_Sales      0.006014  0.767727  1.000000  0.435584     0.726385   \n",
       "JP_Sales     -0.169316  0.449787  0.435584  1.000000     0.290186   \n",
       "Other_Sales   0.041058  0.634737  0.726385  0.290186     1.000000   \n",
       "Global_Sales -0.074735  0.941047  0.902836  0.611816     0.748331   \n",
       "\n",
       "              Global_Sales  \n",
       "Year             -0.074735  \n",
       "NA_Sales          0.941047  \n",
       "EU_Sales          0.902836  \n",
       "JP_Sales          0.611816  \n",
       "Other_Sales       0.748331  \n",
       "Global_Sales      1.000000  "
      ]
     },
     "execution_count": 18,
     "metadata": {},
     "output_type": "execute_result"
    }
   ],
   "source": [
    "# Tính toán ma trận tương quan giữa năm phát hành (Year) và doanh số bán hàng ở các khu vực khác nhau\n",
    "# Phương thức corr() tính hệ số tương quan Pearson giữa tất cả các cặp biến được chọn:\n",
    "# - Year: năm phát hành trò chơi - giúp phân tích xu hướng doanh số theo thời gian\n",
    "# - NA_Sales: doanh số bán tại Bắc Mỹ (tính bằng triệu đơn vị)\n",
    "# - EU_Sales: doanh số bán tại châu Âu (tính bằng triệu đơn vị)\n",
    "# - JP_Sales: doanh số bán tại Nhật Bản (tính bằng triệu đơn vị)\n",
    "# - Other_Sales: doanh số bán tại các khu vực khác (tính bằng triệu đơn vị)\n",
    "# - Global_Sales: tổng doanh số bán toàn cầu (tính bằng triệu đơn vị)\n",
    "# Kết quả hiển thị mức độ tương quan giữa năm phát hành và doanh số, giúp đánh giá liệu trò chơi mới hơn\n",
    "# có xu hướng bán tốt hơn hay không, và mối quan hệ giữa doanh số ở các khu vực khác nhau\n",
    "df[[\"Year\", 'NA_Sales','EU_Sales',\t'JP_Sales',\t'Other_Sales', \"Global_Sales\"]].corr()"
   ]
  },
  {
   "cell_type": "code",
   "execution_count": null,
   "metadata": {
    "colab": {
     "base_uri": "https://localhost:8080/",
     "height": 386
    },
    "executionInfo": {
     "elapsed": 1339,
     "status": "ok",
     "timestamp": 1666202448393,
     "user": {
      "displayName": "Vu Dam",
      "userId": "08349793932940266028"
     },
     "user_tz": -420
    },
    "id": "-kGWgwW60yAE",
    "outputId": "8b11ab93-996a-450c-831a-d8f51578877c"
   },
   "outputs": [
    {
     "data": {
      "text/plain": [
       "<seaborn.axisgrid.FacetGrid at 0x7f349b114b90>"
      ]
     },
     "execution_count": 5,
     "metadata": {},
     "output_type": "execute_result"
    },
    {
     "data": {
      "image/png": "[encoded data removed]",
      "text/plain": [
       "<Figure size 360x360 with 1 Axes>"
      ]
     },
     "metadata": {
      "needs_background": "light"
     },
     "output_type": "display_data"
    }
   ],
   "source": [
    "# Import thư viện seaborn để vẽ biểu đồ thống kê nâng cao\n",
    "# Seaborn cung cấp các giao diện cấp cao cho vẽ biểu đồ đẹp mắt dựa trên matplotlib\n",
    "import seaborn as sns\n",
    "\n",
    "# Tạo biểu đồ phân tán kèm đường hồi quy tuyến tính để thể hiện mối quan hệ giữa doanh số bán ở Bắc Mỹ và châu Âu\n",
    "# sns.lmplot: hàm vẽ biểu đồ phân tán kèm theo mô hình hồi quy tuyến tính\n",
    "# x='NA_Sales': đặt doanh số bán ở Bắc Mỹ làm trục hoành (x)\n",
    "# y='EU_Sales': đặt doanh số bán ở châu Âu làm trục tung (y)\n",
    "# data=df[['NA_Sales','EU_Sales']]: sử dụng dữ liệu từ hai cột này của DataFrame\n",
    "# fit_reg=True: vẽ đường hồi quy tuyến tính để thể hiện mối tương quan\n",
    "# Biểu đồ này cho phép trực quan hóa mối quan hệ tuyến tính giữa doanh số bán ở hai khu vực\n",
    "sns.lmplot(x='NA_Sales',y='EU_Sales',data=df[['NA_Sales','EU_Sales']],fit_reg=True) "
   ]
  },
  {
   "cell_type": "markdown",
   "metadata": {
    "id": "hFS89TYRnX15"
   },
   "source": [
    "## 13. Multivariate Analysis (Phân tích đa biến)"
   ]
  },
  {
   "cell_type": "code",
   "execution_count": null,
   "metadata": {
    "colab": {
     "base_uri": "https://localhost:8080/",
     "height": 1000
    },
    "executionInfo": {
     "elapsed": 53528,
     "status": "ok",
     "timestamp": 1666743110110,
     "user": {
      "displayName": "Vu Dam",
      "userId": "08349793932940266028"
     },
     "user_tz": -420
    },
    "id": "EF7Ou6KloAyn",
    "outputId": "511ca500-d2af-464c-d3ca-eccbf2c93fe5"
   },
   "outputs": [
    {
     "data": {
      "text/plain": [
       "<seaborn.axisgrid.PairGrid at 0x7f0d1b83d290>"
      ]
     },
     "execution_count": 5,
     "metadata": {},
     "output_type": "execute_result"
    },
    {
     "data": {
      "image/png": "[encoded data removed]",
      "text/plain": [
       "<Figure size 1260x1260 with 56 Axes>"
      ]
     },
     "metadata": {
      "needs_background": "light"
     },
     "output_type": "display_data"
    }
   ],
   "source": [
    "# Import thư viện seaborn để tạo các biểu đồ trực quan và thống kê nâng cao\n",
    "# Seaborn xây dựng trên matplotlib và cung cấp giao diện cấp cao để tạo biểu đồ đẹp mắt\n",
    "import seaborn\n",
    "\n",
    "# Import thư viện matplotlib.pyplot để tùy chỉnh và hiển thị các biểu đồ\n",
    "# Matplotlib là thư viện vẽ đồ thị cơ bản trong Python, cung cấp nhiều công cụ để tùy biến biểu đồ\n",
    "import matplotlib.pyplot as plt\n",
    "\n",
    "# Tạo biểu đồ phân tích đa biến với seaborn.pairplot\n",
    "# Hàm pairplot() tự động tạo ma trận các biểu đồ phân tán cho tất cả các cặp biến số trong DataFrame\n",
    "# Mỗi biểu đồ phân tán thể hiện mối quan hệ giữa hai biến\n",
    "# Trên đường chéo chính sẽ hiển thị biểu đồ phân phối (histogram) của từng biến\n",
    "# Đây là công cụ mạnh mẽ để khám phá mối quan hệ đa biến và xác định tương quan giữa nhiều đặc trưng cùng lúc\n",
    "seaborn.pairplot(df)"
   ]
  },
  {
   "cell_type": "markdown",
   "metadata": {
    "id": "Z3veewK15ho0"
   },
   "source": [
    "## 14. Feature Engineering (Kỹ thuật tạo đặc trưng)"
   ]
  },
  {
   "cell_type": "code",
   "execution_count": null,
   "metadata": {
    "executionInfo": {
     "elapsed": 360,
     "status": "ok",
     "timestamp": 1666747816046,
     "user": {
      "displayName": "Vu Dam",
      "userId": "08349793932940266028"
     },
     "user_tz": -420
    },
    "id": "Lhm8TamE5grn"
   },
   "outputs": [],
   "source": [
    "# Định nghĩa hàm average_sales để tính doanh số bán trung bình theo khu vực\n",
    "# Hàm này nhận một hàng (row) từ DataFrame làm tham số đầu vào\n",
    "# và trả về doanh số toàn cầu chia đều cho 4 khu vực\n",
    "def average_sales(row):  \n",
    "    # Tính doanh số trung bình bằng cách chia doanh số toàn cầu cho 4 (số khu vực: NA, EU, JP, Other)\n",
    "    return row['Global_Sales']/4\n",
    "\n",
    "# Tạo một cột mới 'Average_Sales_Region' trong DataFrame df\n",
    "# Sử dụng phương thức apply() để áp dụng hàm average_sales cho từng hàng trong DataFrame\n",
    "# axis=1: áp dụng hàm theo chiều ngang (theo hàng) thay vì theo cột\n",
    "# Kết quả là một cột mới chứa giá trị doanh số bán trung bình trên mỗi khu vực\n",
    "df['Average_Sales_Region'] = df.apply(lambda row: average_sales(row), axis=1)"
   ]
  },
  {
   "cell_type": "code",
   "execution_count": null,
   "metadata": {
    "colab": {
     "base_uri": "https://localhost:8080/",
     "height": 206
    },
    "executionInfo": {
     "elapsed": 4,
     "status": "ok",
     "timestamp": 1666747816046,
     "user": {
      "displayName": "Vu Dam",
      "userId": "08349793932940266028"
     },
     "user_tz": -420
    },
    "id": "o_hiLIA2oHK0",
    "outputId": "4803eea0-fbfa-4260-81bc-e1fddc309067"
   },
   "outputs": [
    {
     "data": {
      "text/html": [
       "\n",
       "  <div id=\"df-0eab88df-b869-446e-aaef-d7ada97df78c\">\n",
       "    <div class=\"colab-df-container\">\n",
       "      <div>\n",
       "<style scoped>\n",
       "    .dataframe tbody tr th:only-of-type {\n",
       "        vertical-align: middle;\n",
       "    }\n",
       "\n",
       "    .dataframe tbody tr th {\n",
       "        vertical-align: top;\n",
       "    }\n",
       "\n",
       "    .dataframe thead th {\n",
       "        text-align: right;\n",
       "    }\n",
       "</style>\n",
       "<table border=\"1\" class=\"dataframe\">\n",
       "  <thead>\n",
       "    <tr style=\"text-align: right;\">\n",
       "      <th></th>\n",
       "      <th>Rank</th>\n",
       "      <th>Name</th>\n",
       "      <th>Platform</th>\n",
       "      <th>Year</th>\n",
       "      <th>Genre</th>\n",
       "      <th>Publisher</th>\n",
       "      <th>NA_Sales</th>\n",
       "      <th>EU_Sales</th>\n",
       "      <th>JP_Sales</th>\n",
       "      <th>Other_Sales</th>\n",
       "      <th>Global_Sales</th>\n",
       "      <th>Average_Sales_Region</th>\n",
       "    </tr>\n",
       "  </thead>\n",
       "  <tbody>\n",
       "    <tr>\n",
       "      <th>0</th>\n",
       "      <td>1</td>\n",
       "      <td>Wii Sports</td>\n",
       "      <td>Wii</td>\n",
       "      <td>2006.0</td>\n",
       "      <td>Sports</td>\n",
       "      <td>Nintendo</td>\n",
       "      <td>41.49</td>\n",
       "      <td>29.02</td>\n",
       "      <td>3.77</td>\n",
       "      <td>8.46</td>\n",
       "      <td>82.74</td>\n",
       "      <td>20.6850</td>\n",
       "    </tr>\n",
       "    <tr>\n",
       "      <th>1</th>\n",
       "      <td>2</td>\n",
       "      <td>Super Mario Bros.</td>\n",
       "      <td>NES</td>\n",
       "      <td>1985.0</td>\n",
       "      <td>Platform</td>\n",
       "      <td>Nintendo</td>\n",
       "      <td>29.08</td>\n",
       "      <td>3.58</td>\n",
       "      <td>6.81</td>\n",
       "      <td>0.77</td>\n",
       "      <td>40.24</td>\n",
       "      <td>10.0600</td>\n",
       "    </tr>\n",
       "    <tr>\n",
       "      <th>2</th>\n",
       "      <td>3</td>\n",
       "      <td>Mario Kart Wii</td>\n",
       "      <td>Wii</td>\n",
       "      <td>2008.0</td>\n",
       "      <td>Racing</td>\n",
       "      <td>Nintendo</td>\n",
       "      <td>15.85</td>\n",
       "      <td>12.88</td>\n",
       "      <td>3.79</td>\n",
       "      <td>3.31</td>\n",
       "      <td>35.82</td>\n",
       "      <td>8.9550</td>\n",
       "    </tr>\n",
       "    <tr>\n",
       "      <th>3</th>\n",
       "      <td>4</td>\n",
       "      <td>Wii Sports Resort</td>\n",
       "      <td>Wii</td>\n",
       "      <td>2009.0</td>\n",
       "      <td>Sports</td>\n",
       "      <td>Nintendo</td>\n",
       "      <td>15.75</td>\n",
       "      <td>11.01</td>\n",
       "      <td>3.28</td>\n",
       "      <td>2.96</td>\n",
       "      <td>33.00</td>\n",
       "      <td>8.2500</td>\n",
       "    </tr>\n",
       "    <tr>\n",
       "      <th>4</th>\n",
       "      <td>5</td>\n",
       "      <td>Pokemon Red/Pokemon Blue</td>\n",
       "      <td>GB</td>\n",
       "      <td>1996.0</td>\n",
       "      <td>Role-Playing</td>\n",
       "      <td>Nintendo</td>\n",
       "      <td>11.27</td>\n",
       "      <td>8.89</td>\n",
       "      <td>10.22</td>\n",
       "      <td>1.00</td>\n",
       "      <td>31.37</td>\n",
       "      <td>7.8425</td>\n",
       "    </tr>\n",
       "  </tbody>\n",
       "</table>\n",
       "</div>\n",
       "      <button class=\"colab-df-convert\" onclick=\"convertToInteractive('df-0eab88df-b869-446e-aaef-d7ada97df78c')\"\n",
       "              title=\"Convert this dataframe to an interactive table.\"\n",
       "              style=\"display:none;\">\n",
       "        \n",
       "  <svg xmlns=\"http://www.w3.org/2000/svg\" height=\"24px\"viewBox=\"0 0 24 24\"\n",
       "       width=\"24px\">\n",
       "    <path d=\"M0 0h24v24H0V0z\" fill=\"none\"/>\n",
       "    <path d=\"M18.56 5.44l.94 2.06.94-2.06 2.06-.94-2.06-.94-.94-2.06-.94 2.06-2.06.94zm-11 1L8.5 8.5l.94-2.06 2.06-.94-2.06-.94L8.5 2.5l-.94 2.06-2.06.94zm10 10l.94 2.06.94-2.06 2.06-.94-2.06-.94-.94-2.06-.94 2.06-2.06.94z\"/><path d=\"M17.41 7.96l-1.37-1.37c-.4-.4-.92-.59-1.43-.59-.52 0-1.04.2-1.43.59L10.3 9.45l-7.72 7.72c-.78.78-.78 2.05 0 2.83L4 21.41c.39.39.9.59 1.41.59.51 0 1.02-.2 1.41-.59l7.78-7.78 2.81-2.81c.8-.78.8-2.07 0-2.86zM5.41 20L4 18.59l7.72-7.72 1.47 1.35L5.41 20z\"/>\n",
       "  </svg>\n",
       "      </button>\n",
       "      \n",
       "  <style>\n",
       "    .colab-df-container {\n",
       "      display:flex;\n",
       "      flex-wrap:wrap;\n",
       "      gap: 12px;\n",
       "    }\n",
       "\n",
       "    .colab-df-convert {\n",
       "      background-color: #E8F0FE;\n",
       "      border: none;\n",
       "      border-radius: 50%;\n",
       "      cursor: pointer;\n",
       "      display: none;\n",
       "      fill: #1967D2;\n",
       "      height: 32px;\n",
       "      padding: 0 0 0 0;\n",
       "      width: 32px;\n",
       "    }\n",
       "\n",
       "    .colab-df-convert:hover {\n",
       "      background-color: #E2EBFA;\n",
       "      box-shadow: 0px 1px 2px rgba(60, 64, 67, 0.3), 0px 1px 3px 1px rgba(60, 64, 67, 0.15);\n",
       "      fill: #174EA6;\n",
       "    }\n",
       "\n",
       "    [theme=dark] .colab-df-convert {\n",
       "      background-color: #3B4455;\n",
       "      fill: #D2E3FC;\n",
       "    }\n",
       "\n",
       "    [theme=dark] .colab-df-convert:hover {\n",
       "      background-color: #434B5C;\n",
       "      box-shadow: 0px 1px 3px 1px rgba(0, 0, 0, 0.15);\n",
       "      filter: drop-shadow(0px 1px 2px rgba(0, 0, 0, 0.3));\n",
       "      fill: #FFFFFF;\n",
       "    }\n",
       "  </style>\n",
       "\n",
       "      <script>\n",
       "        const buttonEl =\n",
       "          document.querySelector('#df-0eab88df-b869-446e-aaef-d7ada97df78c button.colab-df-convert');\n",
       "        buttonEl.style.display =\n",
       "          google.colab.kernel.accessAllowed ? 'block' : 'none';\n",
       "\n",
       "        async function convertToInteractive(key) {\n",
       "          const element = document.querySelector('#df-0eab88df-b869-446e-aaef-d7ada97df78c');\n",
       "          const dataTable =\n",
       "            await google.colab.kernel.invokeFunction('convertToInteractive',\n",
       "                                                     [key], {});\n",
       "          if (!dataTable) return;\n",
       "\n",
       "          const docLinkHtml = 'Like what you see? Visit the ' +\n",
       "            '<a target=\"_blank\" href=https://colab.research.google.com/notebooks/data_table.ipynb>data table notebook</a>'\n",
       "            + ' to learn more about interactive tables.';\n",
       "          element.innerHTML = '';\n",
       "          dataTable['output_type'] = 'display_data';\n",
       "          await google.colab.output.renderOutput(dataTable, element);\n",
       "          const docLink = document.createElement('div');\n",
       "          docLink.innerHTML = docLinkHtml;\n",
       "          element.appendChild(docLink);\n",
       "        }\n",
       "      </script>\n",
       "    </div>\n",
       "  </div>\n",
       "  "
      ],
      "text/plain": [
       "   Rank                      Name Platform    Year         Genre Publisher  \\\n",
       "0     1                Wii Sports      Wii  2006.0        Sports  Nintendo   \n",
       "1     2         Super Mario Bros.      NES  1985.0      Platform  Nintendo   \n",
       "2     3            Mario Kart Wii      Wii  2008.0        Racing  Nintendo   \n",
       "3     4         Wii Sports Resort      Wii  2009.0        Sports  Nintendo   \n",
       "4     5  Pokemon Red/Pokemon Blue       GB  1996.0  Role-Playing  Nintendo   \n",
       "\n",
       "   NA_Sales  EU_Sales  JP_Sales  Other_Sales  Global_Sales  \\\n",
       "0     41.49     29.02      3.77         8.46         82.74   \n",
       "1     29.08      3.58      6.81         0.77         40.24   \n",
       "2     15.85     12.88      3.79         3.31         35.82   \n",
       "3     15.75     11.01      3.28         2.96         33.00   \n",
       "4     11.27      8.89     10.22         1.00         31.37   \n",
       "\n",
       "   Average_Sales_Region  \n",
       "0               20.6850  \n",
       "1               10.0600  \n",
       "2                8.9550  \n",
       "3                8.2500  \n",
       "4                7.8425  "
      ]
     },
     "execution_count": 9,
     "metadata": {},
     "output_type": "execute_result"
    }
   ],
   "source": [
    "# Hiển thị 5 hàng đầu tiên của DataFrame df\n",
    "# Phương thức head(5) trả về 5 bản ghi đầu tiên trong bộ dữ liệu\n",
    "# Kết quả hiển thị cho phép kiểm tra nhanh cấu trúc dữ liệu, các cột có sẵn\n",
    "# và cột 'Average_Sales_Region' mới được tạo ra từ tính năng kỹ thuật ở cell trước\n",
    "df.head(5)"
   ]
  },
  {
   "cell_type": "code",
   "execution_count": null,
   "metadata": {
    "id": "oDiqucwC6RAH"
   },
   "outputs": [],
   "source": []
  }
 ],
 "metadata": {
  "colab": {
   "authorship_tag": "ABX9TyONNzQks3qrCXbNpJfvDnBa",
   "collapsed_sections": [],
   "mount_file_id": "1BMIsRt080GWPxoTvhBHJ5FKZLCLLytSo",
   "provenance": []
  },
  "kernelspec": {
   "display_name": "Python 3",
   "name": "python3"
  },
  "language_info": {
   "codemirror_mode": {
    "name": "ipython",
    "version": 3
   },
   "file_extension": ".py",
   "mimetype": "text/x-python",
   "name": "python",
   "nbconvert_exporter": "python",
   "pygments_lexer": "ipython3",
   "version": "3.13.3"
  }
 },
 "nbformat": 4,
 "nbformat_minor": 0
}
